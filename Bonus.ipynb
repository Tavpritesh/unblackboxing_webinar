{
 "cells": [
  {
   "cell_type": "markdown",
   "metadata": {},
   "source": [
    "# Quiver!"
   ]
  },
  {
   "cell_type": "code",
   "execution_count": 5,
   "metadata": {
    "collapsed": false
   },
   "outputs": [
    {
     "name": "stderr",
     "output_type": "stream",
     "text": [
      "ssh_exchange_identification: Connection closed by remote host\r\n"
     ]
    }
   ],
   "source": [
    "%%bash\n",
    "ssh -NfL localhost:5000:localhost:5000 user@host"
   ]
  },
  {
   "cell_type": "code",
   "execution_count": 3,
   "metadata": {
    "collapsed": false
   },
   "outputs": [
    {
     "name": "stderr",
     "output_type": "stream",
     "text": [
      "Traceback (most recent call last):\n",
      "  File \"unboxer/filter_outputs.py\", line 4, in <module>\n",
      "    from keras.applications.vgg16 import VGG16\n",
      "ImportError: No module named 'keras'\n"
     ]
    }
   ],
   "source": [
    "%%bash \n",
    "python3 unboxer/filter_outputs.py --img_folder ../data/dogs/input --port 5000"
   ]
  },
  {
   "cell_type": "markdown",
   "metadata": {},
   "source": [
    "# TSNE meets Bokeh"
   ]
  },
  {
   "cell_type": "code",
   "execution_count": 1,
   "metadata": {
    "collapsed": false,
    "scrolled": true
   },
   "outputs": [
    {
     "name": "stderr",
     "output_type": "stream",
     "text": [
      "Using TensorFlow backend.\n"
     ]
    }
   ],
   "source": [
    "from keras.models import load_model\n",
    "facenet = load_model('/mnt/ml-team/homes/jakub.czakon/.unblackboxing_webinar_data/models/facenet.h5py')    "
   ]
  },
  {
   "cell_type": "code",
   "execution_count": 2,
   "metadata": {
    "collapsed": false
   },
   "outputs": [
    {
     "data": {
      "text/html": [
       "<div>\n",
       "<style>\n",
       "    .dataframe thead tr:only-child th {\n",
       "        text-align: right;\n",
       "    }\n",
       "\n",
       "    .dataframe thead th {\n",
       "        text-align: left;\n",
       "    }\n",
       "\n",
       "    .dataframe tbody tr th {\n",
       "        vertical-align: top;\n",
       "    }\n",
       "</style>\n",
       "<table border=\"1\" class=\"dataframe\">\n",
       "  <thead>\n",
       "    <tr style=\"text-align: right;\">\n",
       "      <th></th>\n",
       "      <th>img_filepath</th>\n",
       "      <th>label</th>\n",
       "    </tr>\n",
       "  </thead>\n",
       "  <tbody>\n",
       "    <tr>\n",
       "      <th>0</th>\n",
       "      <td>resources/tsne_images_folder/images/0.jpg</td>\n",
       "      <td>2</td>\n",
       "    </tr>\n",
       "    <tr>\n",
       "      <th>1</th>\n",
       "      <td>resources/tsne_images_folder/images/1.jpg</td>\n",
       "      <td>3</td>\n",
       "    </tr>\n",
       "    <tr>\n",
       "      <th>2</th>\n",
       "      <td>resources/tsne_images_folder/images/2.jpg</td>\n",
       "      <td>1</td>\n",
       "    </tr>\n",
       "    <tr>\n",
       "      <th>3</th>\n",
       "      <td>resources/tsne_images_folder/images/3.jpg</td>\n",
       "      <td>4</td>\n",
       "    </tr>\n",
       "    <tr>\n",
       "      <th>4</th>\n",
       "      <td>resources/tsne_images_folder/images/4.jpg</td>\n",
       "      <td>1</td>\n",
       "    </tr>\n",
       "  </tbody>\n",
       "</table>\n",
       "</div>"
      ],
      "text/plain": [
       "                                img_filepath  label\n",
       "0  resources/tsne_images_folder/images/0.jpg      2\n",
       "1  resources/tsne_images_folder/images/1.jpg      3\n",
       "2  resources/tsne_images_folder/images/2.jpg      1\n",
       "3  resources/tsne_images_folder/images/3.jpg      4\n",
       "4  resources/tsne_images_folder/images/4.jpg      1"
      ]
     },
     "execution_count": 2,
     "metadata": {},
     "output_type": "execute_result"
    }
   ],
   "source": [
    "TSNE_IMAGES_DIR = 'resources/tsne_images_folder/images'\n",
    "import pandas as pd\n",
    "df = pd.read_csv('/mnt/ml-team/homes/jakub.czakon/.unblackboxing_webinar_data/data/faces/faces.csv')\n",
    "df['img_filepath'] = df['img_filepath']\\\n",
    ".apply(lambda x: x.replace('/mnt/ml-team/homes/jakub.czakon/.unblackboxing_webinar_data/data/faces/images',\n",
    "                           TSNE_IMAGES_DIR))\n",
    "df.head()"
   ]
  },
  {
   "cell_type": "code",
   "execution_count": 3,
   "metadata": {
    "collapsed": false
   },
   "outputs": [
    {
     "name": "stdout",
     "output_type": "stream",
     "text": [
      "32 of 301\n",
      "64 of 301\n",
      "96 of 301\n",
      "128 of 301\n",
      "160 of 301\n",
      "192 of 301\n",
      "224 of 301\n",
      "256 of 301\n",
      "288 of 301\n",
      "320 of 301\n",
      "[t-SNE] Computing pairwise distances...\n",
      "[t-SNE] Computing 91 nearest neighbors...\n",
      "[t-SNE] Computed conditional probabilities for sample 301 / 301\n",
      "[t-SNE] Mean sigma: 488.183847\n",
      "[t-SNE] KL divergence after 100 iterations with early exaggeration: 1.299571\n",
      "[t-SNE] Error after 175 iterations: 1.299571\n"
     ]
    }
   ],
   "source": [
    "%load_ext autoreload\n",
    "% autoreload 2\n",
    "from unboxer.bokeh_tsne.tsne_vis import TsneVis\n",
    "\n",
    "tsne_vis = TsneVis(facenet, feature_layer_name='fc2', verbose=1)\n",
    "tsne_vis.fit(img_folder=TSNE_IMAGES_DIR,label_df = df, batch_size=32)"
   ]
  },
  {
   "cell_type": "code",
   "execution_count": 4,
   "metadata": {
    "collapsed": false
   },
   "outputs": [
    {
     "data": {
      "text/html": [
       "\n",
       "    <div class=\"bk-root\">\n",
       "        <a href=\"http://bokeh.pydata.org\" target=\"_blank\" class=\"bk-logo bk-logo-small bk-logo-notebook\"></a>\n",
       "        <span id=\"a5a049c7-8e4a-4ebb-9299-be664c8e28db\">Loading BokehJS ...</span>\n",
       "    </div>"
      ]
     },
     "metadata": {},
     "output_type": "display_data"
    },
    {
     "data": {
      "application/javascript": [
       "\n",
       "(function(global) {\n",
       "  function now() {\n",
       "    return new Date();\n",
       "  }\n",
       "\n",
       "  var force = true;\n",
       "\n",
       "  if (typeof (window._bokeh_onload_callbacks) === \"undefined\" || force === true) {\n",
       "    window._bokeh_onload_callbacks = [];\n",
       "    window._bokeh_is_loading = undefined;\n",
       "  }\n",
       "\n",
       "\n",
       "  \n",
       "  if (typeof (window._bokeh_timeout) === \"undefined\" || force === true) {\n",
       "    window._bokeh_timeout = Date.now() + 5000;\n",
       "    window._bokeh_failed_load = false;\n",
       "  }\n",
       "\n",
       "  var NB_LOAD_WARNING = {'data': {'text/html':\n",
       "     \"<div style='background-color: #fdd'>\\n\"+\n",
       "     \"<p>\\n\"+\n",
       "     \"BokehJS does not appear to have successfully loaded. If loading BokehJS from CDN, this \\n\"+\n",
       "     \"may be due to a slow or bad network connection. Possible fixes:\\n\"+\n",
       "     \"</p>\\n\"+\n",
       "     \"<ul>\\n\"+\n",
       "     \"<li>re-rerun `output_notebook()` to attempt to load from CDN again, or</li>\\n\"+\n",
       "     \"<li>use INLINE resources instead, as so:</li>\\n\"+\n",
       "     \"</ul>\\n\"+\n",
       "     \"<code>\\n\"+\n",
       "     \"from bokeh.resources import INLINE\\n\"+\n",
       "     \"output_notebook(resources=INLINE)\\n\"+\n",
       "     \"</code>\\n\"+\n",
       "     \"</div>\"}};\n",
       "\n",
       "  function display_loaded() {\n",
       "    if (window.Bokeh !== undefined) {\n",
       "      var el = document.getElementById(\"a5a049c7-8e4a-4ebb-9299-be664c8e28db\");\n",
       "      el.textContent = \"BokehJS \" + Bokeh.version + \" successfully loaded.\";\n",
       "    } else if (Date.now() < window._bokeh_timeout) {\n",
       "      setTimeout(display_loaded, 100)\n",
       "    }\n",
       "  }\n",
       "\n",
       "  function run_callbacks() {\n",
       "    window._bokeh_onload_callbacks.forEach(function(callback) { callback() });\n",
       "    delete window._bokeh_onload_callbacks\n",
       "    console.info(\"Bokeh: all callbacks have finished\");\n",
       "  }\n",
       "\n",
       "  function load_libs(js_urls, callback) {\n",
       "    window._bokeh_onload_callbacks.push(callback);\n",
       "    if (window._bokeh_is_loading > 0) {\n",
       "      console.log(\"Bokeh: BokehJS is being loaded, scheduling callback at\", now());\n",
       "      return null;\n",
       "    }\n",
       "    if (js_urls == null || js_urls.length === 0) {\n",
       "      run_callbacks();\n",
       "      return null;\n",
       "    }\n",
       "    console.log(\"Bokeh: BokehJS not loaded, scheduling load and callback at\", now());\n",
       "    window._bokeh_is_loading = js_urls.length;\n",
       "    for (var i = 0; i < js_urls.length; i++) {\n",
       "      var url = js_urls[i];\n",
       "      var s = document.createElement('script');\n",
       "      s.src = url;\n",
       "      s.async = false;\n",
       "      s.onreadystatechange = s.onload = function() {\n",
       "        window._bokeh_is_loading--;\n",
       "        if (window._bokeh_is_loading === 0) {\n",
       "          console.log(\"Bokeh: all BokehJS libraries loaded\");\n",
       "          run_callbacks()\n",
       "        }\n",
       "      };\n",
       "      s.onerror = function() {\n",
       "        console.warn(\"failed to load library \" + url);\n",
       "      };\n",
       "      console.log(\"Bokeh: injecting script tag for BokehJS library: \", url);\n",
       "      document.getElementsByTagName(\"head\")[0].appendChild(s);\n",
       "    }\n",
       "  };var element = document.getElementById(\"a5a049c7-8e4a-4ebb-9299-be664c8e28db\");\n",
       "  if (element == null) {\n",
       "    console.log(\"Bokeh: ERROR: autoload.js configured with elementid 'a5a049c7-8e4a-4ebb-9299-be664c8e28db' but no matching script tag was found. \")\n",
       "    return false;\n",
       "  }\n",
       "\n",
       "  var js_urls = [\"https://cdn.pydata.org/bokeh/release/bokeh-0.12.5.min.js\", \"https://cdn.pydata.org/bokeh/release/bokeh-widgets-0.12.5.min.js\"];\n",
       "\n",
       "  var inline_js = [\n",
       "    function(Bokeh) {\n",
       "      Bokeh.set_log_level(\"info\");\n",
       "    },\n",
       "    \n",
       "    function(Bokeh) {\n",
       "      \n",
       "    },\n",
       "    \n",
       "    function(Bokeh) {\n",
       "      \n",
       "      document.getElementById(\"a5a049c7-8e4a-4ebb-9299-be664c8e28db\").textContent = \"BokehJS is loading...\";\n",
       "    },\n",
       "    function(Bokeh) {\n",
       "      console.log(\"Bokeh: injecting CSS: https://cdn.pydata.org/bokeh/release/bokeh-0.12.5.min.css\");\n",
       "      Bokeh.embed.inject_css(\"https://cdn.pydata.org/bokeh/release/bokeh-0.12.5.min.css\");\n",
       "      console.log(\"Bokeh: injecting CSS: https://cdn.pydata.org/bokeh/release/bokeh-widgets-0.12.5.min.css\");\n",
       "      Bokeh.embed.inject_css(\"https://cdn.pydata.org/bokeh/release/bokeh-widgets-0.12.5.min.css\");\n",
       "    }\n",
       "  ];\n",
       "\n",
       "  function run_inline_js() {\n",
       "    \n",
       "    if ((window.Bokeh !== undefined) || (force === true)) {\n",
       "      for (var i = 0; i < inline_js.length; i++) {\n",
       "        inline_js[i](window.Bokeh);\n",
       "      }if (force === true) {\n",
       "        display_loaded();\n",
       "      }} else if (Date.now() < window._bokeh_timeout) {\n",
       "      setTimeout(run_inline_js, 100);\n",
       "    } else if (!window._bokeh_failed_load) {\n",
       "      console.log(\"Bokeh: BokehJS failed to load within specified timeout.\");\n",
       "      window._bokeh_failed_load = true;\n",
       "    } else if (force !== true) {\n",
       "      var cell = $(document.getElementById(\"a5a049c7-8e4a-4ebb-9299-be664c8e28db\")).parents('.cell').data().cell;\n",
       "      cell.output_area.append_execute_result(NB_LOAD_WARNING)\n",
       "    }\n",
       "\n",
       "  }\n",
       "\n",
       "  if (window._bokeh_is_loading === 0) {\n",
       "    console.log(\"Bokeh: BokehJS loaded, going straight to plotting\");\n",
       "    run_inline_js();\n",
       "  } else {\n",
       "    load_libs(js_urls, function() {\n",
       "      console.log(\"Bokeh: BokehJS plotting callback run at\", now());\n",
       "      run_inline_js();\n",
       "    });\n",
       "  }\n",
       "}(this));"
      ]
     },
     "metadata": {},
     "output_type": "display_data"
    },
    {
     "data": {
      "text/html": [
       "\n",
       "\n",
       "    <div class=\"bk-root\">\n",
       "        <div class=\"bk-plotdiv\" id=\"a1188935-1fd0-4316-84a5-602d21173d6a\"></div>\n",
       "    </div>\n",
       "<script type=\"text/javascript\">\n",
       "  \n",
       "  (function(global) {\n",
       "    function now() {\n",
       "      return new Date();\n",
       "    }\n",
       "  \n",
       "    var force = false;\n",
       "  \n",
       "    if (typeof (window._bokeh_onload_callbacks) === \"undefined\" || force === true) {\n",
       "      window._bokeh_onload_callbacks = [];\n",
       "      window._bokeh_is_loading = undefined;\n",
       "    }\n",
       "  \n",
       "  \n",
       "    \n",
       "    if (typeof (window._bokeh_timeout) === \"undefined\" || force === true) {\n",
       "      window._bokeh_timeout = Date.now() + 0;\n",
       "      window._bokeh_failed_load = false;\n",
       "    }\n",
       "  \n",
       "    var NB_LOAD_WARNING = {'data': {'text/html':\n",
       "       \"<div style='background-color: #fdd'>\\n\"+\n",
       "       \"<p>\\n\"+\n",
       "       \"BokehJS does not appear to have successfully loaded. If loading BokehJS from CDN, this \\n\"+\n",
       "       \"may be due to a slow or bad network connection. Possible fixes:\\n\"+\n",
       "       \"</p>\\n\"+\n",
       "       \"<ul>\\n\"+\n",
       "       \"<li>re-rerun `output_notebook()` to attempt to load from CDN again, or</li>\\n\"+\n",
       "       \"<li>use INLINE resources instead, as so:</li>\\n\"+\n",
       "       \"</ul>\\n\"+\n",
       "       \"<code>\\n\"+\n",
       "       \"from bokeh.resources import INLINE\\n\"+\n",
       "       \"output_notebook(resources=INLINE)\\n\"+\n",
       "       \"</code>\\n\"+\n",
       "       \"</div>\"}};\n",
       "  \n",
       "    function display_loaded() {\n",
       "      if (window.Bokeh !== undefined) {\n",
       "        var el = document.getElementById(\"a1188935-1fd0-4316-84a5-602d21173d6a\");\n",
       "        el.textContent = \"BokehJS \" + Bokeh.version + \" successfully loaded.\";\n",
       "      } else if (Date.now() < window._bokeh_timeout) {\n",
       "        setTimeout(display_loaded, 100)\n",
       "      }\n",
       "    }\n",
       "  \n",
       "    function run_callbacks() {\n",
       "      window._bokeh_onload_callbacks.forEach(function(callback) { callback() });\n",
       "      delete window._bokeh_onload_callbacks\n",
       "      console.info(\"Bokeh: all callbacks have finished\");\n",
       "    }\n",
       "  \n",
       "    function load_libs(js_urls, callback) {\n",
       "      window._bokeh_onload_callbacks.push(callback);\n",
       "      if (window._bokeh_is_loading > 0) {\n",
       "        console.log(\"Bokeh: BokehJS is being loaded, scheduling callback at\", now());\n",
       "        return null;\n",
       "      }\n",
       "      if (js_urls == null || js_urls.length === 0) {\n",
       "        run_callbacks();\n",
       "        return null;\n",
       "      }\n",
       "      console.log(\"Bokeh: BokehJS not loaded, scheduling load and callback at\", now());\n",
       "      window._bokeh_is_loading = js_urls.length;\n",
       "      for (var i = 0; i < js_urls.length; i++) {\n",
       "        var url = js_urls[i];\n",
       "        var s = document.createElement('script');\n",
       "        s.src = url;\n",
       "        s.async = false;\n",
       "        s.onreadystatechange = s.onload = function() {\n",
       "          window._bokeh_is_loading--;\n",
       "          if (window._bokeh_is_loading === 0) {\n",
       "            console.log(\"Bokeh: all BokehJS libraries loaded\");\n",
       "            run_callbacks()\n",
       "          }\n",
       "        };\n",
       "        s.onerror = function() {\n",
       "          console.warn(\"failed to load library \" + url);\n",
       "        };\n",
       "        console.log(\"Bokeh: injecting script tag for BokehJS library: \", url);\n",
       "        document.getElementsByTagName(\"head\")[0].appendChild(s);\n",
       "      }\n",
       "    };var element = document.getElementById(\"a1188935-1fd0-4316-84a5-602d21173d6a\");\n",
       "    if (element == null) {\n",
       "      console.log(\"Bokeh: ERROR: autoload.js configured with elementid 'a1188935-1fd0-4316-84a5-602d21173d6a' but no matching script tag was found. \")\n",
       "      return false;\n",
       "    }\n",
       "  \n",
       "    var js_urls = [];\n",
       "  \n",
       "    var inline_js = [\n",
       "      function(Bokeh) {\n",
       "        (function() {\n",
       "          var fn = function() {\n",
       "            var docs_json = {\"bbe68906-3de0-45c0-8053-031d41db32ea\":{\"roots\":{\"references\":[{\"attributes\":{},\"id\":\"cbeb4cbe-f245-4d4c-b4ec-b0212abfd7d6\",\"type\":\"BasicTicker\"},{\"attributes\":{\"callback\":null},\"id\":\"1215590e-c8b5-4ea4-a308-e8a1cd692a16\",\"type\":\"DataRange1d\"},{\"attributes\":{\"plot\":{\"id\":\"6fcf91b7-9509-4dd8-b49c-7e763baf9d83\",\"subtype\":\"Figure\",\"type\":\"Plot\"}},\"id\":\"aa66f51a-11ac-41ff-9c2a-e88ef39c0db6\",\"type\":\"ResizeTool\"},{\"attributes\":{\"formatter\":{\"id\":\"dc9da1d4-999d-4e47-b501-484018a4e05c\",\"type\":\"BasicTickFormatter\"},\"plot\":{\"id\":\"6fcf91b7-9509-4dd8-b49c-7e763baf9d83\",\"subtype\":\"Figure\",\"type\":\"Plot\"},\"ticker\":{\"id\":\"f15bfa9f-1746-4959-87c2-4f1349fa3ba8\",\"type\":\"BasicTicker\"}},\"id\":\"429edec8-75b7-447c-b433-4dcd35486595\",\"type\":\"LinearAxis\"},{\"attributes\":{\"plot\":{\"id\":\"6fcf91b7-9509-4dd8-b49c-7e763baf9d83\",\"subtype\":\"Figure\",\"type\":\"Plot\"},\"ticker\":{\"id\":\"cbeb4cbe-f245-4d4c-b4ec-b0212abfd7d6\",\"type\":\"BasicTicker\"}},\"id\":\"d53a75ca-a8e6-40c6-84f9-f2cda1385069\",\"type\":\"Grid\"},{\"attributes\":{\"fill_color\":{\"field\":\"label_color\"},\"line_color\":{\"value\":\"#1f77b4\"},\"size\":{\"units\":\"screen\",\"value\":10},\"x\":{\"field\":\"x\"},\"y\":{\"field\":\"y\"}},\"id\":\"f86ea20e-e181-4e30-861c-c5c793b6a328\",\"type\":\"Circle\"},{\"attributes\":{},\"id\":\"7f419158-223e-4e83-8502-5765b212aad5\",\"type\":\"BasicTickFormatter\"},{\"attributes\":{\"callback\":null},\"id\":\"e29bb211-d46d-49e5-b72d-65218d1d64a1\",\"type\":\"DataRange1d\"},{\"attributes\":{\"callback\":null,\"plot\":{\"id\":\"6fcf91b7-9509-4dd8-b49c-7e763baf9d83\",\"subtype\":\"Figure\",\"type\":\"Plot\"},\"tooltips\":\"\\n        <div>\\n            <div>\\n                \\n                <img\\n                    src=\\\"@img_filepath\\\" height=\\\"200\\\" alt=\\\"@img_filepath\\\" width=\\\"200\\\"\\n                    style=\\\"float: left; margin: 0px 15px 15px 0px;\\\"\\n                    border=\\\"2\\\"\\n                ></img>\\n            </div>\\n            \\n        </div>\\n        \"},\"id\":\"7e6143f2-1a36-4ee2-9f12-c003deada799\",\"type\":\"HoverTool\"},{\"attributes\":{\"bottom_units\":\"screen\",\"fill_alpha\":{\"value\":0.5},\"fill_color\":{\"value\":\"lightgrey\"},\"left_units\":\"screen\",\"level\":\"overlay\",\"line_alpha\":{\"value\":1.0},\"line_color\":{\"value\":\"black\"},\"line_dash\":[4,4],\"line_width\":{\"value\":2},\"plot\":null,\"render_mode\":\"css\",\"right_units\":\"screen\",\"top_units\":\"screen\"},\"id\":\"151a957c-0f77-4366-ba01-2244d0b841c4\",\"type\":\"BoxAnnotation\"},{\"attributes\":{\"plot\":{\"id\":\"6fcf91b7-9509-4dd8-b49c-7e763baf9d83\",\"subtype\":\"Figure\",\"type\":\"Plot\"}},\"id\":\"faf82c45-27c5-4d03-ae4b-4aa1eca1c592\",\"type\":\"ResetTool\"},{\"attributes\":{\"callback\":null,\"column_names\":[\"img_filepath\",\"x\",\"label_color\",\"label\",\"y\",\"img_filepath_wtf\",\"index\"],\"data\":{\"img_filepath\":[\"resources/tsne_images_folder/images/0.jpg\",\"resources/tsne_images_folder/images/1.jpg\",\"resources/tsne_images_folder/images/10.jpg\",\"resources/tsne_images_folder/images/100.jpg\",\"resources/tsne_images_folder/images/101.jpg\",\"resources/tsne_images_folder/images/102.jpg\",\"resources/tsne_images_folder/images/103.jpg\",\"resources/tsne_images_folder/images/104.jpg\",\"resources/tsne_images_folder/images/105.jpg\",\"resources/tsne_images_folder/images/106.jpg\",\"resources/tsne_images_folder/images/107.jpg\",\"resources/tsne_images_folder/images/108.jpg\",\"resources/tsne_images_folder/images/109.jpg\",\"resources/tsne_images_folder/images/11.jpg\",\"resources/tsne_images_folder/images/110.jpg\",\"resources/tsne_images_folder/images/111.jpg\",\"resources/tsne_images_folder/images/112.jpg\",\"resources/tsne_images_folder/images/113.jpg\",\"resources/tsne_images_folder/images/114.jpg\",\"resources/tsne_images_folder/images/115.jpg\",\"resources/tsne_images_folder/images/116.jpg\",\"resources/tsne_images_folder/images/117.jpg\",\"resources/tsne_images_folder/images/118.jpg\",\"resources/tsne_images_folder/images/119.jpg\",\"resources/tsne_images_folder/images/12.jpg\",\"resources/tsne_images_folder/images/120.jpg\",\"resources/tsne_images_folder/images/121.jpg\",\"resources/tsne_images_folder/images/122.jpg\",\"resources/tsne_images_folder/images/123.jpg\",\"resources/tsne_images_folder/images/124.jpg\",\"resources/tsne_images_folder/images/125.jpg\",\"resources/tsne_images_folder/images/126.jpg\",\"resources/tsne_images_folder/images/127.jpg\",\"resources/tsne_images_folder/images/128.jpg\",\"resources/tsne_images_folder/images/129.jpg\",\"resources/tsne_images_folder/images/13.jpg\",\"resources/tsne_images_folder/images/130.jpg\",\"resources/tsne_images_folder/images/131.jpg\",\"resources/tsne_images_folder/images/132.jpg\",\"resources/tsne_images_folder/images/133.jpg\",\"resources/tsne_images_folder/images/134.jpg\",\"resources/tsne_images_folder/images/135.jpg\",\"resources/tsne_images_folder/images/136.jpg\",\"resources/tsne_images_folder/images/137.jpg\",\"resources/tsne_images_folder/images/138.jpg\",\"resources/tsne_images_folder/images/139.jpg\",\"resources/tsne_images_folder/images/14.jpg\",\"resources/tsne_images_folder/images/140.jpg\",\"resources/tsne_images_folder/images/141.jpg\",\"resources/tsne_images_folder/images/142.jpg\",\"resources/tsne_images_folder/images/143.jpg\",\"resources/tsne_images_folder/images/144.jpg\",\"resources/tsne_images_folder/images/145.jpg\",\"resources/tsne_images_folder/images/146.jpg\",\"resources/tsne_images_folder/images/147.jpg\",\"resources/tsne_images_folder/images/148.jpg\",\"resources/tsne_images_folder/images/149.jpg\",\"resources/tsne_images_folder/images/15.jpg\",\"resources/tsne_images_folder/images/150.jpg\",\"resources/tsne_images_folder/images/151.jpg\",\"resources/tsne_images_folder/images/152.jpg\",\"resources/tsne_images_folder/images/153.jpg\",\"resources/tsne_images_folder/images/154.jpg\",\"resources/tsne_images_folder/images/155.jpg\",\"resources/tsne_images_folder/images/156.jpg\",\"resources/tsne_images_folder/images/157.jpg\",\"resources/tsne_images_folder/images/158.jpg\",\"resources/tsne_images_folder/images/159.jpg\",\"resources/tsne_images_folder/images/16.jpg\",\"resources/tsne_images_folder/images/160.jpg\",\"resources/tsne_images_folder/images/161.jpg\",\"resources/tsne_images_folder/images/162.jpg\",\"resources/tsne_images_folder/images/163.jpg\",\"resources/tsne_images_folder/images/164.jpg\",\"resources/tsne_images_folder/images/165.jpg\",\"resources/tsne_images_folder/images/166.jpg\",\"resources/tsne_images_folder/images/167.jpg\",\"resources/tsne_images_folder/images/168.jpg\",\"resources/tsne_images_folder/images/169.jpg\",\"resources/tsne_images_folder/images/17.jpg\",\"resources/tsne_images_folder/images/170.jpg\",\"resources/tsne_images_folder/images/171.jpg\",\"resources/tsne_images_folder/images/172.jpg\",\"resources/tsne_images_folder/images/173.jpg\",\"resources/tsne_images_folder/images/174.jpg\",\"resources/tsne_images_folder/images/175.jpg\",\"resources/tsne_images_folder/images/176.jpg\",\"resources/tsne_images_folder/images/177.jpg\",\"resources/tsne_images_folder/images/178.jpg\",\"resources/tsne_images_folder/images/179.jpg\",\"resources/tsne_images_folder/images/18.jpg\",\"resources/tsne_images_folder/images/180.jpg\",\"resources/tsne_images_folder/images/181.jpg\",\"resources/tsne_images_folder/images/182.jpg\",\"resources/tsne_images_folder/images/183.jpg\",\"resources/tsne_images_folder/images/184.jpg\",\"resources/tsne_images_folder/images/185.jpg\",\"resources/tsne_images_folder/images/186.jpg\",\"resources/tsne_images_folder/images/187.jpg\",\"resources/tsne_images_folder/images/188.jpg\",\"resources/tsne_images_folder/images/189.jpg\",\"resources/tsne_images_folder/images/19.jpg\",\"resources/tsne_images_folder/images/190.jpg\",\"resources/tsne_images_folder/images/191.jpg\",\"resources/tsne_images_folder/images/192.jpg\",\"resources/tsne_images_folder/images/193.jpg\",\"resources/tsne_images_folder/images/194.jpg\",\"resources/tsne_images_folder/images/195.jpg\",\"resources/tsne_images_folder/images/196.jpg\",\"resources/tsne_images_folder/images/197.jpg\",\"resources/tsne_images_folder/images/198.jpg\",\"resources/tsne_images_folder/images/199.jpg\",\"resources/tsne_images_folder/images/2.jpg\",\"resources/tsne_images_folder/images/20.jpg\",\"resources/tsne_images_folder/images/200.jpg\",\"resources/tsne_images_folder/images/201.jpg\",\"resources/tsne_images_folder/images/202.jpg\",\"resources/tsne_images_folder/images/203.jpg\",\"resources/tsne_images_folder/images/204.jpg\",\"resources/tsne_images_folder/images/205.jpg\",\"resources/tsne_images_folder/images/206.jpg\",\"resources/tsne_images_folder/images/207.jpg\",\"resources/tsne_images_folder/images/208.jpg\",\"resources/tsne_images_folder/images/209.jpg\",\"resources/tsne_images_folder/images/21.jpg\",\"resources/tsne_images_folder/images/210.jpg\",\"resources/tsne_images_folder/images/211.jpg\",\"resources/tsne_images_folder/images/212.jpg\",\"resources/tsne_images_folder/images/213.jpg\",\"resources/tsne_images_folder/images/214.jpg\",\"resources/tsne_images_folder/images/215.jpg\",\"resources/tsne_images_folder/images/216.jpg\",\"resources/tsne_images_folder/images/217.jpg\",\"resources/tsne_images_folder/images/218.jpg\",\"resources/tsne_images_folder/images/219.jpg\",\"resources/tsne_images_folder/images/22.jpg\",\"resources/tsne_images_folder/images/220.jpg\",\"resources/tsne_images_folder/images/221.jpg\",\"resources/tsne_images_folder/images/222.jpg\",\"resources/tsne_images_folder/images/223.jpg\",\"resources/tsne_images_folder/images/224.jpg\",\"resources/tsne_images_folder/images/225.jpg\",\"resources/tsne_images_folder/images/226.jpg\",\"resources/tsne_images_folder/images/227.jpg\",\"resources/tsne_images_folder/images/228.jpg\",\"resources/tsne_images_folder/images/229.jpg\",\"resources/tsne_images_folder/images/23.jpg\",\"resources/tsne_images_folder/images/230.jpg\",\"resources/tsne_images_folder/images/231.jpg\",\"resources/tsne_images_folder/images/232.jpg\",\"resources/tsne_images_folder/images/233.jpg\",\"resources/tsne_images_folder/images/234.jpg\",\"resources/tsne_images_folder/images/235.jpg\",\"resources/tsne_images_folder/images/236.jpg\",\"resources/tsne_images_folder/images/237.jpg\",\"resources/tsne_images_folder/images/238.jpg\",\"resources/tsne_images_folder/images/239.jpg\",\"resources/tsne_images_folder/images/24.jpg\",\"resources/tsne_images_folder/images/240.jpg\",\"resources/tsne_images_folder/images/241.jpg\",\"resources/tsne_images_folder/images/242.jpg\",\"resources/tsne_images_folder/images/243.jpg\",\"resources/tsne_images_folder/images/244.jpg\",\"resources/tsne_images_folder/images/245.jpg\",\"resources/tsne_images_folder/images/246.jpg\",\"resources/tsne_images_folder/images/247.jpg\",\"resources/tsne_images_folder/images/248.jpg\",\"resources/tsne_images_folder/images/249.jpg\",\"resources/tsne_images_folder/images/25.jpg\",\"resources/tsne_images_folder/images/250.jpg\",\"resources/tsne_images_folder/images/251.jpg\",\"resources/tsne_images_folder/images/252.jpg\",\"resources/tsne_images_folder/images/253.jpg\",\"resources/tsne_images_folder/images/254.jpg\",\"resources/tsne_images_folder/images/255.jpg\",\"resources/tsne_images_folder/images/256.jpg\",\"resources/tsne_images_folder/images/257.jpg\",\"resources/tsne_images_folder/images/258.jpg\",\"resources/tsne_images_folder/images/259.jpg\",\"resources/tsne_images_folder/images/26.jpg\",\"resources/tsne_images_folder/images/260.jpg\",\"resources/tsne_images_folder/images/261.jpg\",\"resources/tsne_images_folder/images/262.jpg\",\"resources/tsne_images_folder/images/263.jpg\",\"resources/tsne_images_folder/images/264.jpg\",\"resources/tsne_images_folder/images/265.jpg\",\"resources/tsne_images_folder/images/266.jpg\",\"resources/tsne_images_folder/images/267.jpg\",\"resources/tsne_images_folder/images/268.jpg\",\"resources/tsne_images_folder/images/269.jpg\",\"resources/tsne_images_folder/images/27.jpg\",\"resources/tsne_images_folder/images/270.jpg\",\"resources/tsne_images_folder/images/271.jpg\",\"resources/tsne_images_folder/images/272.jpg\",\"resources/tsne_images_folder/images/273.jpg\",\"resources/tsne_images_folder/images/274.jpg\",\"resources/tsne_images_folder/images/275.jpg\",\"resources/tsne_images_folder/images/276.jpg\",\"resources/tsne_images_folder/images/277.jpg\",\"resources/tsne_images_folder/images/278.jpg\",\"resources/tsne_images_folder/images/279.jpg\",\"resources/tsne_images_folder/images/28.jpg\",\"resources/tsne_images_folder/images/280.jpg\",\"resources/tsne_images_folder/images/281.jpg\",\"resources/tsne_images_folder/images/282.jpg\",\"resources/tsne_images_folder/images/283.jpg\",\"resources/tsne_images_folder/images/284.jpg\",\"resources/tsne_images_folder/images/285.jpg\",\"resources/tsne_images_folder/images/286.jpg\",\"resources/tsne_images_folder/images/287.jpg\",\"resources/tsne_images_folder/images/288.jpg\",\"resources/tsne_images_folder/images/289.jpg\",\"resources/tsne_images_folder/images/29.jpg\",\"resources/tsne_images_folder/images/290.jpg\",\"resources/tsne_images_folder/images/291.jpg\",\"resources/tsne_images_folder/images/292.jpg\",\"resources/tsne_images_folder/images/293.jpg\",\"resources/tsne_images_folder/images/294.jpg\",\"resources/tsne_images_folder/images/295.jpg\",\"resources/tsne_images_folder/images/296.jpg\",\"resources/tsne_images_folder/images/297.jpg\",\"resources/tsne_images_folder/images/298.jpg\",\"resources/tsne_images_folder/images/299.jpg\",\"resources/tsne_images_folder/images/3.jpg\",\"resources/tsne_images_folder/images/30.jpg\",\"resources/tsne_images_folder/images/300.jpg\",\"resources/tsne_images_folder/images/31.jpg\",\"resources/tsne_images_folder/images/32.jpg\",\"resources/tsne_images_folder/images/33.jpg\",\"resources/tsne_images_folder/images/34.jpg\",\"resources/tsne_images_folder/images/35.jpg\",\"resources/tsne_images_folder/images/36.jpg\",\"resources/tsne_images_folder/images/37.jpg\",\"resources/tsne_images_folder/images/38.jpg\",\"resources/tsne_images_folder/images/39.jpg\",\"resources/tsne_images_folder/images/4.jpg\",\"resources/tsne_images_folder/images/40.jpg\",\"resources/tsne_images_folder/images/41.jpg\",\"resources/tsne_images_folder/images/42.jpg\",\"resources/tsne_images_folder/images/43.jpg\",\"resources/tsne_images_folder/images/44.jpg\",\"resources/tsne_images_folder/images/45.jpg\",\"resources/tsne_images_folder/images/46.jpg\",\"resources/tsne_images_folder/images/47.jpg\",\"resources/tsne_images_folder/images/48.jpg\",\"resources/tsne_images_folder/images/49.jpg\",\"resources/tsne_images_folder/images/5.jpg\",\"resources/tsne_images_folder/images/50.jpg\",\"resources/tsne_images_folder/images/51.jpg\",\"resources/tsne_images_folder/images/52.jpg\",\"resources/tsne_images_folder/images/53.jpg\",\"resources/tsne_images_folder/images/54.jpg\",\"resources/tsne_images_folder/images/55.jpg\",\"resources/tsne_images_folder/images/56.jpg\",\"resources/tsne_images_folder/images/57.jpg\",\"resources/tsne_images_folder/images/58.jpg\",\"resources/tsne_images_folder/images/59.jpg\",\"resources/tsne_images_folder/images/6.jpg\",\"resources/tsne_images_folder/images/60.jpg\",\"resources/tsne_images_folder/images/61.jpg\",\"resources/tsne_images_folder/images/62.jpg\",\"resources/tsne_images_folder/images/63.jpg\",\"resources/tsne_images_folder/images/64.jpg\",\"resources/tsne_images_folder/images/65.jpg\",\"resources/tsne_images_folder/images/66.jpg\",\"resources/tsne_images_folder/images/67.jpg\",\"resources/tsne_images_folder/images/68.jpg\",\"resources/tsne_images_folder/images/69.jpg\",\"resources/tsne_images_folder/images/7.jpg\",\"resources/tsne_images_folder/images/70.jpg\",\"resources/tsne_images_folder/images/71.jpg\",\"resources/tsne_images_folder/images/72.jpg\",\"resources/tsne_images_folder/images/73.jpg\",\"resources/tsne_images_folder/images/74.jpg\",\"resources/tsne_images_folder/images/75.jpg\",\"resources/tsne_images_folder/images/76.jpg\",\"resources/tsne_images_folder/images/77.jpg\",\"resources/tsne_images_folder/images/78.jpg\",\"resources/tsne_images_folder/images/79.jpg\",\"resources/tsne_images_folder/images/8.jpg\",\"resources/tsne_images_folder/images/80.jpg\",\"resources/tsne_images_folder/images/81.jpg\",\"resources/tsne_images_folder/images/82.jpg\",\"resources/tsne_images_folder/images/83.jpg\",\"resources/tsne_images_folder/images/84.jpg\",\"resources/tsne_images_folder/images/85.jpg\",\"resources/tsne_images_folder/images/86.jpg\",\"resources/tsne_images_folder/images/87.jpg\",\"resources/tsne_images_folder/images/88.jpg\",\"resources/tsne_images_folder/images/89.jpg\",\"resources/tsne_images_folder/images/9.jpg\",\"resources/tsne_images_folder/images/90.jpg\",\"resources/tsne_images_folder/images/91.jpg\",\"resources/tsne_images_folder/images/92.jpg\",\"resources/tsne_images_folder/images/93.jpg\",\"resources/tsne_images_folder/images/94.jpg\",\"resources/tsne_images_folder/images/95.jpg\",\"resources/tsne_images_folder/images/96.jpg\",\"resources/tsne_images_folder/images/97.jpg\",\"resources/tsne_images_folder/images/98.jpg\",\"resources/tsne_images_folder/images/99.jpg\"],\"img_filepath_wtf\":[\"resources/tsne_images_folder/images/0.jpg\",\"resources/tsne_images_folder/images/1.jpg\",\"resources/tsne_images_folder/images/10.jpg\",\"resources/tsne_images_folder/images/100.jpg\",\"resources/tsne_images_folder/images/101.jpg\",\"resources/tsne_images_folder/images/102.jpg\",\"resources/tsne_images_folder/images/103.jpg\",\"resources/tsne_images_folder/images/104.jpg\",\"resources/tsne_images_folder/images/105.jpg\",\"resources/tsne_images_folder/images/106.jpg\",\"resources/tsne_images_folder/images/107.jpg\",\"resources/tsne_images_folder/images/108.jpg\",\"resources/tsne_images_folder/images/109.jpg\",\"resources/tsne_images_folder/images/11.jpg\",\"resources/tsne_images_folder/images/110.jpg\",\"resources/tsne_images_folder/images/111.jpg\",\"resources/tsne_images_folder/images/112.jpg\",\"resources/tsne_images_folder/images/113.jpg\",\"resources/tsne_images_folder/images/114.jpg\",\"resources/tsne_images_folder/images/115.jpg\",\"resources/tsne_images_folder/images/116.jpg\",\"resources/tsne_images_folder/images/117.jpg\",\"resources/tsne_images_folder/images/118.jpg\",\"resources/tsne_images_folder/images/119.jpg\",\"resources/tsne_images_folder/images/12.jpg\",\"resources/tsne_images_folder/images/120.jpg\",\"resources/tsne_images_folder/images/121.jpg\",\"resources/tsne_images_folder/images/122.jpg\",\"resources/tsne_images_folder/images/123.jpg\",\"resources/tsne_images_folder/images/124.jpg\",\"resources/tsne_images_folder/images/125.jpg\",\"resources/tsne_images_folder/images/126.jpg\",\"resources/tsne_images_folder/images/127.jpg\",\"resources/tsne_images_folder/images/128.jpg\",\"resources/tsne_images_folder/images/129.jpg\",\"resources/tsne_images_folder/images/13.jpg\",\"resources/tsne_images_folder/images/130.jpg\",\"resources/tsne_images_folder/images/131.jpg\",\"resources/tsne_images_folder/images/132.jpg\",\"resources/tsne_images_folder/images/133.jpg\",\"resources/tsne_images_folder/images/134.jpg\",\"resources/tsne_images_folder/images/135.jpg\",\"resources/tsne_images_folder/images/136.jpg\",\"resources/tsne_images_folder/images/137.jpg\",\"resources/tsne_images_folder/images/138.jpg\",\"resources/tsne_images_folder/images/139.jpg\",\"resources/tsne_images_folder/images/14.jpg\",\"resources/tsne_images_folder/images/140.jpg\",\"resources/tsne_images_folder/images/141.jpg\",\"resources/tsne_images_folder/images/142.jpg\",\"resources/tsne_images_folder/images/143.jpg\",\"resources/tsne_images_folder/images/144.jpg\",\"resources/tsne_images_folder/images/145.jpg\",\"resources/tsne_images_folder/images/146.jpg\",\"resources/tsne_images_folder/images/147.jpg\",\"resources/tsne_images_folder/images/148.jpg\",\"resources/tsne_images_folder/images/149.jpg\",\"resources/tsne_images_folder/images/15.jpg\",\"resources/tsne_images_folder/images/150.jpg\",\"resources/tsne_images_folder/images/151.jpg\",\"resources/tsne_images_folder/images/152.jpg\",\"resources/tsne_images_folder/images/153.jpg\",\"resources/tsne_images_folder/images/154.jpg\",\"resources/tsne_images_folder/images/155.jpg\",\"resources/tsne_images_folder/images/156.jpg\",\"resources/tsne_images_folder/images/157.jpg\",\"resources/tsne_images_folder/images/158.jpg\",\"resources/tsne_images_folder/images/159.jpg\",\"resources/tsne_images_folder/images/16.jpg\",\"resources/tsne_images_folder/images/160.jpg\",\"resources/tsne_images_folder/images/161.jpg\",\"resources/tsne_images_folder/images/162.jpg\",\"resources/tsne_images_folder/images/163.jpg\",\"resources/tsne_images_folder/images/164.jpg\",\"resources/tsne_images_folder/images/165.jpg\",\"resources/tsne_images_folder/images/166.jpg\",\"resources/tsne_images_folder/images/167.jpg\",\"resources/tsne_images_folder/images/168.jpg\",\"resources/tsne_images_folder/images/169.jpg\",\"resources/tsne_images_folder/images/17.jpg\",\"resources/tsne_images_folder/images/170.jpg\",\"resources/tsne_images_folder/images/171.jpg\",\"resources/tsne_images_folder/images/172.jpg\",\"resources/tsne_images_folder/images/173.jpg\",\"resources/tsne_images_folder/images/174.jpg\",\"resources/tsne_images_folder/images/175.jpg\",\"resources/tsne_images_folder/images/176.jpg\",\"resources/tsne_images_folder/images/177.jpg\",\"resources/tsne_images_folder/images/178.jpg\",\"resources/tsne_images_folder/images/179.jpg\",\"resources/tsne_images_folder/images/18.jpg\",\"resources/tsne_images_folder/images/180.jpg\",\"resources/tsne_images_folder/images/181.jpg\",\"resources/tsne_images_folder/images/182.jpg\",\"resources/tsne_images_folder/images/183.jpg\",\"resources/tsne_images_folder/images/184.jpg\",\"resources/tsne_images_folder/images/185.jpg\",\"resources/tsne_images_folder/images/186.jpg\",\"resources/tsne_images_folder/images/187.jpg\",\"resources/tsne_images_folder/images/188.jpg\",\"resources/tsne_images_folder/images/189.jpg\",\"resources/tsne_images_folder/images/19.jpg\",\"resources/tsne_images_folder/images/190.jpg\",\"resources/tsne_images_folder/images/191.jpg\",\"resources/tsne_images_folder/images/192.jpg\",\"resources/tsne_images_folder/images/193.jpg\",\"resources/tsne_images_folder/images/194.jpg\",\"resources/tsne_images_folder/images/195.jpg\",\"resources/tsne_images_folder/images/196.jpg\",\"resources/tsne_images_folder/images/197.jpg\",\"resources/tsne_images_folder/images/198.jpg\",\"resources/tsne_images_folder/images/199.jpg\",\"resources/tsne_images_folder/images/2.jpg\",\"resources/tsne_images_folder/images/20.jpg\",\"resources/tsne_images_folder/images/200.jpg\",\"resources/tsne_images_folder/images/201.jpg\",\"resources/tsne_images_folder/images/202.jpg\",\"resources/tsne_images_folder/images/203.jpg\",\"resources/tsne_images_folder/images/204.jpg\",\"resources/tsne_images_folder/images/205.jpg\",\"resources/tsne_images_folder/images/206.jpg\",\"resources/tsne_images_folder/images/207.jpg\",\"resources/tsne_images_folder/images/208.jpg\",\"resources/tsne_images_folder/images/209.jpg\",\"resources/tsne_images_folder/images/21.jpg\",\"resources/tsne_images_folder/images/210.jpg\",\"resources/tsne_images_folder/images/211.jpg\",\"resources/tsne_images_folder/images/212.jpg\",\"resources/tsne_images_folder/images/213.jpg\",\"resources/tsne_images_folder/images/214.jpg\",\"resources/tsne_images_folder/images/215.jpg\",\"resources/tsne_images_folder/images/216.jpg\",\"resources/tsne_images_folder/images/217.jpg\",\"resources/tsne_images_folder/images/218.jpg\",\"resources/tsne_images_folder/images/219.jpg\",\"resources/tsne_images_folder/images/22.jpg\",\"resources/tsne_images_folder/images/220.jpg\",\"resources/tsne_images_folder/images/221.jpg\",\"resources/tsne_images_folder/images/222.jpg\",\"resources/tsne_images_folder/images/223.jpg\",\"resources/tsne_images_folder/images/224.jpg\",\"resources/tsne_images_folder/images/225.jpg\",\"resources/tsne_images_folder/images/226.jpg\",\"resources/tsne_images_folder/images/227.jpg\",\"resources/tsne_images_folder/images/228.jpg\",\"resources/tsne_images_folder/images/229.jpg\",\"resources/tsne_images_folder/images/23.jpg\",\"resources/tsne_images_folder/images/230.jpg\",\"resources/tsne_images_folder/images/231.jpg\",\"resources/tsne_images_folder/images/232.jpg\",\"resources/tsne_images_folder/images/233.jpg\",\"resources/tsne_images_folder/images/234.jpg\",\"resources/tsne_images_folder/images/235.jpg\",\"resources/tsne_images_folder/images/236.jpg\",\"resources/tsne_images_folder/images/237.jpg\",\"resources/tsne_images_folder/images/238.jpg\",\"resources/tsne_images_folder/images/239.jpg\",\"resources/tsne_images_folder/images/24.jpg\",\"resources/tsne_images_folder/images/240.jpg\",\"resources/tsne_images_folder/images/241.jpg\",\"resources/tsne_images_folder/images/242.jpg\",\"resources/tsne_images_folder/images/243.jpg\",\"resources/tsne_images_folder/images/244.jpg\",\"resources/tsne_images_folder/images/245.jpg\",\"resources/tsne_images_folder/images/246.jpg\",\"resources/tsne_images_folder/images/247.jpg\",\"resources/tsne_images_folder/images/248.jpg\",\"resources/tsne_images_folder/images/249.jpg\",\"resources/tsne_images_folder/images/25.jpg\",\"resources/tsne_images_folder/images/250.jpg\",\"resources/tsne_images_folder/images/251.jpg\",\"resources/tsne_images_folder/images/252.jpg\",\"resources/tsne_images_folder/images/253.jpg\",\"resources/tsne_images_folder/images/254.jpg\",\"resources/tsne_images_folder/images/255.jpg\",\"resources/tsne_images_folder/images/256.jpg\",\"resources/tsne_images_folder/images/257.jpg\",\"resources/tsne_images_folder/images/258.jpg\",\"resources/tsne_images_folder/images/259.jpg\",\"resources/tsne_images_folder/images/26.jpg\",\"resources/tsne_images_folder/images/260.jpg\",\"resources/tsne_images_folder/images/261.jpg\",\"resources/tsne_images_folder/images/262.jpg\",\"resources/tsne_images_folder/images/263.jpg\",\"resources/tsne_images_folder/images/264.jpg\",\"resources/tsne_images_folder/images/265.jpg\",\"resources/tsne_images_folder/images/266.jpg\",\"resources/tsne_images_folder/images/267.jpg\",\"resources/tsne_images_folder/images/268.jpg\",\"resources/tsne_images_folder/images/269.jpg\",\"resources/tsne_images_folder/images/27.jpg\",\"resources/tsne_images_folder/images/270.jpg\",\"resources/tsne_images_folder/images/271.jpg\",\"resources/tsne_images_folder/images/272.jpg\",\"resources/tsne_images_folder/images/273.jpg\",\"resources/tsne_images_folder/images/274.jpg\",\"resources/tsne_images_folder/images/275.jpg\",\"resources/tsne_images_folder/images/276.jpg\",\"resources/tsne_images_folder/images/277.jpg\",\"resources/tsne_images_folder/images/278.jpg\",\"resources/tsne_images_folder/images/279.jpg\",\"resources/tsne_images_folder/images/28.jpg\",\"resources/tsne_images_folder/images/280.jpg\",\"resources/tsne_images_folder/images/281.jpg\",\"resources/tsne_images_folder/images/282.jpg\",\"resources/tsne_images_folder/images/283.jpg\",\"resources/tsne_images_folder/images/284.jpg\",\"resources/tsne_images_folder/images/285.jpg\",\"resources/tsne_images_folder/images/286.jpg\",\"resources/tsne_images_folder/images/287.jpg\",\"resources/tsne_images_folder/images/288.jpg\",\"resources/tsne_images_folder/images/289.jpg\",\"resources/tsne_images_folder/images/29.jpg\",\"resources/tsne_images_folder/images/290.jpg\",\"resources/tsne_images_folder/images/291.jpg\",\"resources/tsne_images_folder/images/292.jpg\",\"resources/tsne_images_folder/images/293.jpg\",\"resources/tsne_images_folder/images/294.jpg\",\"resources/tsne_images_folder/images/295.jpg\",\"resources/tsne_images_folder/images/296.jpg\",\"resources/tsne_images_folder/images/297.jpg\",\"resources/tsne_images_folder/images/298.jpg\",\"resources/tsne_images_folder/images/299.jpg\",\"resources/tsne_images_folder/images/3.jpg\",\"resources/tsne_images_folder/images/30.jpg\",\"resources/tsne_images_folder/images/300.jpg\",\"resources/tsne_images_folder/images/31.jpg\",\"resources/tsne_images_folder/images/32.jpg\",\"resources/tsne_images_folder/images/33.jpg\",\"resources/tsne_images_folder/images/34.jpg\",\"resources/tsne_images_folder/images/35.jpg\",\"resources/tsne_images_folder/images/36.jpg\",\"resources/tsne_images_folder/images/37.jpg\",\"resources/tsne_images_folder/images/38.jpg\",\"resources/tsne_images_folder/images/39.jpg\",\"resources/tsne_images_folder/images/4.jpg\",\"resources/tsne_images_folder/images/40.jpg\",\"resources/tsne_images_folder/images/41.jpg\",\"resources/tsne_images_folder/images/42.jpg\",\"resources/tsne_images_folder/images/43.jpg\",\"resources/tsne_images_folder/images/44.jpg\",\"resources/tsne_images_folder/images/45.jpg\",\"resources/tsne_images_folder/images/46.jpg\",\"resources/tsne_images_folder/images/47.jpg\",\"resources/tsne_images_folder/images/48.jpg\",\"resources/tsne_images_folder/images/49.jpg\",\"resources/tsne_images_folder/images/5.jpg\",\"resources/tsne_images_folder/images/50.jpg\",\"resources/tsne_images_folder/images/51.jpg\",\"resources/tsne_images_folder/images/52.jpg\",\"resources/tsne_images_folder/images/53.jpg\",\"resources/tsne_images_folder/images/54.jpg\",\"resources/tsne_images_folder/images/55.jpg\",\"resources/tsne_images_folder/images/56.jpg\",\"resources/tsne_images_folder/images/57.jpg\",\"resources/tsne_images_folder/images/58.jpg\",\"resources/tsne_images_folder/images/59.jpg\",\"resources/tsne_images_folder/images/6.jpg\",\"resources/tsne_images_folder/images/60.jpg\",\"resources/tsne_images_folder/images/61.jpg\",\"resources/tsne_images_folder/images/62.jpg\",\"resources/tsne_images_folder/images/63.jpg\",\"resources/tsne_images_folder/images/64.jpg\",\"resources/tsne_images_folder/images/65.jpg\",\"resources/tsne_images_folder/images/66.jpg\",\"resources/tsne_images_folder/images/67.jpg\",\"resources/tsne_images_folder/images/68.jpg\",\"resources/tsne_images_folder/images/69.jpg\",\"resources/tsne_images_folder/images/7.jpg\",\"resources/tsne_images_folder/images/70.jpg\",\"resources/tsne_images_folder/images/71.jpg\",\"resources/tsne_images_folder/images/72.jpg\",\"resources/tsne_images_folder/images/73.jpg\",\"resources/tsne_images_folder/images/74.jpg\",\"resources/tsne_images_folder/images/75.jpg\",\"resources/tsne_images_folder/images/76.jpg\",\"resources/tsne_images_folder/images/77.jpg\",\"resources/tsne_images_folder/images/78.jpg\",\"resources/tsne_images_folder/images/79.jpg\",\"resources/tsne_images_folder/images/8.jpg\",\"resources/tsne_images_folder/images/80.jpg\",\"resources/tsne_images_folder/images/81.jpg\",\"resources/tsne_images_folder/images/82.jpg\",\"resources/tsne_images_folder/images/83.jpg\",\"resources/tsne_images_folder/images/84.jpg\",\"resources/tsne_images_folder/images/85.jpg\",\"resources/tsne_images_folder/images/86.jpg\",\"resources/tsne_images_folder/images/87.jpg\",\"resources/tsne_images_folder/images/88.jpg\",\"resources/tsne_images_folder/images/89.jpg\",\"resources/tsne_images_folder/images/9.jpg\",\"resources/tsne_images_folder/images/90.jpg\",\"resources/tsne_images_folder/images/91.jpg\",\"resources/tsne_images_folder/images/92.jpg\",\"resources/tsne_images_folder/images/93.jpg\",\"resources/tsne_images_folder/images/94.jpg\",\"resources/tsne_images_folder/images/95.jpg\",\"resources/tsne_images_folder/images/96.jpg\",\"resources/tsne_images_folder/images/97.jpg\",\"resources/tsne_images_folder/images/98.jpg\",\"resources/tsne_images_folder/images/99.jpg\"],\"index\":[0,1,2,3,4,5,6,7,8,9,10,11,12,13,14,15,16,17,18,19,20,21,22,23,24,25,26,27,28,29,30,31,32,33,34,35,36,37,38,39,40,41,42,43,44,45,46,47,48,49,50,51,52,53,54,55,56,57,58,59,60,61,62,63,64,65,66,67,68,69,70,71,72,73,74,75,76,77,78,79,80,81,82,83,84,85,86,87,88,89,90,91,92,93,94,95,96,97,98,99,100,101,102,103,104,105,106,107,108,109,110,111,112,113,114,115,116,117,118,119,120,121,122,123,124,125,126,127,128,129,130,131,132,133,134,135,136,137,138,139,140,141,142,143,144,145,146,147,148,149,150,151,152,153,154,155,156,157,158,159,160,161,162,163,164,165,166,167,168,169,170,171,172,173,174,175,176,177,178,179,180,181,182,183,184,185,186,187,188,189,190,191,192,193,194,195,196,197,198,199,200,201,202,203,204,205,206,207,208,209,210,211,212,213,214,215,216,217,218,219,220,221,222,223,224,225,226,227,228,229,230,231,232,233,234,235,236,237,238,239,240,241,242,243,244,245,246,247,248,249,250,251,252,253,254,255,256,257,258,259,260,261,262,263,264,265,266,267,268,269,270,271,272,273,274,275,276,277,278,279,280,281,282,283,284,285,286,287,288,289,290,291,292,293,294,295,296,297,298,299,300],\"label\":[2,3,3,2,0,4,2,2,0,1,1,2,2,0,2,2,2,3,2,2,2,2,0,0,2,0,0,1,2,1,4,2,4,2,2,2,2,4,0,2,2,0,2,2,3,3,4,4,2,2,1,0,2,0,1,2,2,3,4,0,2,4,2,0,4,2,2,1,2,2,1,1,1,0,2,2,2,3,4,2,0,4,3,0,0,2,2,0,2,2,2,0,0,2,0,0,2,2,1,4,2,2,4,3,0,1,2,4,2,4,2,1,1,0,3,2,0,1,2,0,1,4,2,0,2,0,2,2,2,2,2,2,3,1,0,3,2,2,2,0,2,0,2,3,0,2,0,4,2,1,1,2,3,4,0,2,2,0,2,1,2,2,1,4,2,2,2,2,0,2,2,1,1,2,3,0,0,3,2,2,2,0,2,2,2,2,2,2,1,3,1,3,3,1,1,0,2,0,0,0,2,1,0,0,2,2,4,0,2,2,2,2,0,2,2,1,2,2,2,2,2,2,3,4,0,2,2,1,2,2,0,2,2,2,4,1,1,2,3,0,4,1,0,4,3,2,0,2,2,2,2,4,0,4,1,0,2,2,2,2,0,2,4,2,2,2,2,2,0,2,4,2,2,2,1,2,2,2,0,2,1,0,3,2,2,2,2,2,0,2,1,3,4,2,0,2,2,1,1,1,2],\"label_color\":[\"#8da0cb\",\"#e78ac3\",\"#e78ac3\",\"#8da0cb\",\"#66c2a5\",\"#a6d854\",\"#8da0cb\",\"#8da0cb\",\"#66c2a5\",\"#fc8d62\",\"#fc8d62\",\"#8da0cb\",\"#8da0cb\",\"#66c2a5\",\"#8da0cb\",\"#8da0cb\",\"#8da0cb\",\"#e78ac3\",\"#8da0cb\",\"#8da0cb\",\"#8da0cb\",\"#8da0cb\",\"#66c2a5\",\"#66c2a5\",\"#8da0cb\",\"#66c2a5\",\"#66c2a5\",\"#fc8d62\",\"#8da0cb\",\"#fc8d62\",\"#a6d854\",\"#8da0cb\",\"#a6d854\",\"#8da0cb\",\"#8da0cb\",\"#8da0cb\",\"#8da0cb\",\"#a6d854\",\"#66c2a5\",\"#8da0cb\",\"#8da0cb\",\"#66c2a5\",\"#8da0cb\",\"#8da0cb\",\"#e78ac3\",\"#e78ac3\",\"#a6d854\",\"#a6d854\",\"#8da0cb\",\"#8da0cb\",\"#fc8d62\",\"#66c2a5\",\"#8da0cb\",\"#66c2a5\",\"#fc8d62\",\"#8da0cb\",\"#8da0cb\",\"#e78ac3\",\"#a6d854\",\"#66c2a5\",\"#8da0cb\",\"#a6d854\",\"#8da0cb\",\"#66c2a5\",\"#a6d854\",\"#8da0cb\",\"#8da0cb\",\"#fc8d62\",\"#8da0cb\",\"#8da0cb\",\"#fc8d62\",\"#fc8d62\",\"#fc8d62\",\"#66c2a5\",\"#8da0cb\",\"#8da0cb\",\"#8da0cb\",\"#e78ac3\",\"#a6d854\",\"#8da0cb\",\"#66c2a5\",\"#a6d854\",\"#e78ac3\",\"#66c2a5\",\"#66c2a5\",\"#8da0cb\",\"#8da0cb\",\"#66c2a5\",\"#8da0cb\",\"#8da0cb\",\"#8da0cb\",\"#66c2a5\",\"#66c2a5\",\"#8da0cb\",\"#66c2a5\",\"#66c2a5\",\"#8da0cb\",\"#8da0cb\",\"#fc8d62\",\"#a6d854\",\"#8da0cb\",\"#8da0cb\",\"#a6d854\",\"#e78ac3\",\"#66c2a5\",\"#fc8d62\",\"#8da0cb\",\"#a6d854\",\"#8da0cb\",\"#a6d854\",\"#8da0cb\",\"#fc8d62\",\"#fc8d62\",\"#66c2a5\",\"#e78ac3\",\"#8da0cb\",\"#66c2a5\",\"#fc8d62\",\"#8da0cb\",\"#66c2a5\",\"#fc8d62\",\"#a6d854\",\"#8da0cb\",\"#66c2a5\",\"#8da0cb\",\"#66c2a5\",\"#8da0cb\",\"#8da0cb\",\"#8da0cb\",\"#8da0cb\",\"#8da0cb\",\"#8da0cb\",\"#e78ac3\",\"#fc8d62\",\"#66c2a5\",\"#e78ac3\",\"#8da0cb\",\"#8da0cb\",\"#8da0cb\",\"#66c2a5\",\"#8da0cb\",\"#66c2a5\",\"#8da0cb\",\"#e78ac3\",\"#66c2a5\",\"#8da0cb\",\"#66c2a5\",\"#a6d854\",\"#8da0cb\",\"#fc8d62\",\"#fc8d62\",\"#8da0cb\",\"#e78ac3\",\"#a6d854\",\"#66c2a5\",\"#8da0cb\",\"#8da0cb\",\"#66c2a5\",\"#8da0cb\",\"#fc8d62\",\"#8da0cb\",\"#8da0cb\",\"#fc8d62\",\"#a6d854\",\"#8da0cb\",\"#8da0cb\",\"#8da0cb\",\"#8da0cb\",\"#66c2a5\",\"#8da0cb\",\"#8da0cb\",\"#fc8d62\",\"#fc8d62\",\"#8da0cb\",\"#e78ac3\",\"#66c2a5\",\"#66c2a5\",\"#e78ac3\",\"#8da0cb\",\"#8da0cb\",\"#8da0cb\",\"#66c2a5\",\"#8da0cb\",\"#8da0cb\",\"#8da0cb\",\"#8da0cb\",\"#8da0cb\",\"#8da0cb\",\"#fc8d62\",\"#e78ac3\",\"#fc8d62\",\"#e78ac3\",\"#e78ac3\",\"#fc8d62\",\"#fc8d62\",\"#66c2a5\",\"#8da0cb\",\"#66c2a5\",\"#66c2a5\",\"#66c2a5\",\"#8da0cb\",\"#fc8d62\",\"#66c2a5\",\"#66c2a5\",\"#8da0cb\",\"#8da0cb\",\"#a6d854\",\"#66c2a5\",\"#8da0cb\",\"#8da0cb\",\"#8da0cb\",\"#8da0cb\",\"#66c2a5\",\"#8da0cb\",\"#8da0cb\",\"#fc8d62\",\"#8da0cb\",\"#8da0cb\",\"#8da0cb\",\"#8da0cb\",\"#8da0cb\",\"#8da0cb\",\"#e78ac3\",\"#a6d854\",\"#66c2a5\",\"#8da0cb\",\"#8da0cb\",\"#fc8d62\",\"#8da0cb\",\"#8da0cb\",\"#66c2a5\",\"#8da0cb\",\"#8da0cb\",\"#8da0cb\",\"#a6d854\",\"#fc8d62\",\"#fc8d62\",\"#8da0cb\",\"#e78ac3\",\"#66c2a5\",\"#a6d854\",\"#fc8d62\",\"#66c2a5\",\"#a6d854\",\"#e78ac3\",\"#8da0cb\",\"#66c2a5\",\"#8da0cb\",\"#8da0cb\",\"#8da0cb\",\"#8da0cb\",\"#a6d854\",\"#66c2a5\",\"#a6d854\",\"#fc8d62\",\"#66c2a5\",\"#8da0cb\",\"#8da0cb\",\"#8da0cb\",\"#8da0cb\",\"#66c2a5\",\"#8da0cb\",\"#a6d854\",\"#8da0cb\",\"#8da0cb\",\"#8da0cb\",\"#8da0cb\",\"#8da0cb\",\"#66c2a5\",\"#8da0cb\",\"#a6d854\",\"#8da0cb\",\"#8da0cb\",\"#8da0cb\",\"#fc8d62\",\"#8da0cb\",\"#8da0cb\",\"#8da0cb\",\"#66c2a5\",\"#8da0cb\",\"#fc8d62\",\"#66c2a5\",\"#e78ac3\",\"#8da0cb\",\"#8da0cb\",\"#8da0cb\",\"#8da0cb\",\"#8da0cb\",\"#66c2a5\",\"#8da0cb\",\"#fc8d62\",\"#e78ac3\",\"#a6d854\",\"#8da0cb\",\"#66c2a5\",\"#8da0cb\",\"#8da0cb\",\"#fc8d62\",\"#fc8d62\",\"#fc8d62\",\"#8da0cb\"],\"x\":{\"__ndarray__\":\"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\",\"dtype\":\"float64\",\"shape\":[301]},\"y\":{\"__ndarray__\":\"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\",\"dtype\":\"float64\",\"shape\":[301]}}},\"id\":\"7b32794a-6b3b-43bc-bb9b-a44abaa5c184\",\"type\":\"ColumnDataSource\"},{\"attributes\":{\"formatter\":{\"id\":\"7f419158-223e-4e83-8502-5765b212aad5\",\"type\":\"BasicTickFormatter\"},\"plot\":{\"id\":\"6fcf91b7-9509-4dd8-b49c-7e763baf9d83\",\"subtype\":\"Figure\",\"type\":\"Plot\"},\"ticker\":{\"id\":\"cbeb4cbe-f245-4d4c-b4ec-b0212abfd7d6\",\"type\":\"BasicTicker\"}},\"id\":\"8bc5dd92-7d54-42ee-a891-b6219be378c3\",\"type\":\"LinearAxis\"},{\"attributes\":{\"plot\":null,\"text\":\"\"},\"id\":\"d02a4517-bb6e-473f-865b-876727dc106e\",\"type\":\"Title\"},{\"attributes\":{\"data_source\":{\"id\":\"7b32794a-6b3b-43bc-bb9b-a44abaa5c184\",\"type\":\"ColumnDataSource\"},\"glyph\":{\"id\":\"f86ea20e-e181-4e30-861c-c5c793b6a328\",\"type\":\"Circle\"},\"hover_glyph\":null,\"muted_glyph\":null,\"nonselection_glyph\":{\"id\":\"88fb286e-d485-4d86-89a3-7fba61f54ecd\",\"type\":\"Circle\"},\"selection_glyph\":null},\"id\":\"7928f0fb-1493-4baf-bb6e-e09029d5d9a0\",\"type\":\"GlyphRenderer\"},{\"attributes\":{\"active_drag\":\"auto\",\"active_scroll\":\"auto\",\"active_tap\":\"auto\",\"tools\":[{\"id\":\"64e0903d-7637-4309-85a6-1a154ac9e0c9\",\"type\":\"PanTool\"},{\"id\":\"f82b8473-97c0-413c-ae71-9611eccc1c46\",\"type\":\"BoxZoomTool\"},{\"id\":\"e4a43b6d-a9b6-4253-b136-a35e4bdbb96c\",\"type\":\"WheelZoomTool\"},{\"id\":\"faf82c45-27c5-4d03-ae4b-4aa1eca1c592\",\"type\":\"ResetTool\"},{\"id\":\"aa66f51a-11ac-41ff-9c2a-e88ef39c0db6\",\"type\":\"ResizeTool\"},{\"id\":\"7e6143f2-1a36-4ee2-9f12-c003deada799\",\"type\":\"HoverTool\"}]},\"id\":\"c7bc62ce-2f94-44a1-a887-da3904495306\",\"type\":\"Toolbar\"},{\"attributes\":{\"overlay\":{\"id\":\"151a957c-0f77-4366-ba01-2244d0b841c4\",\"type\":\"BoxAnnotation\"},\"plot\":{\"id\":\"6fcf91b7-9509-4dd8-b49c-7e763baf9d83\",\"subtype\":\"Figure\",\"type\":\"Plot\"}},\"id\":\"f82b8473-97c0-413c-ae71-9611eccc1c46\",\"type\":\"BoxZoomTool\"},{\"attributes\":{\"below\":[{\"id\":\"8bc5dd92-7d54-42ee-a891-b6219be378c3\",\"type\":\"LinearAxis\"}],\"left\":[{\"id\":\"429edec8-75b7-447c-b433-4dcd35486595\",\"type\":\"LinearAxis\"}],\"plot_height\":300,\"plot_width\":300,\"renderers\":[{\"id\":\"8bc5dd92-7d54-42ee-a891-b6219be378c3\",\"type\":\"LinearAxis\"},{\"id\":\"d53a75ca-a8e6-40c6-84f9-f2cda1385069\",\"type\":\"Grid\"},{\"id\":\"429edec8-75b7-447c-b433-4dcd35486595\",\"type\":\"LinearAxis\"},{\"id\":\"7cdf330c-a609-4af9-b7d6-1b7aed3004a2\",\"type\":\"Grid\"},{\"id\":\"151a957c-0f77-4366-ba01-2244d0b841c4\",\"type\":\"BoxAnnotation\"},{\"id\":\"7928f0fb-1493-4baf-bb6e-e09029d5d9a0\",\"type\":\"GlyphRenderer\"}],\"title\":{\"id\":\"d02a4517-bb6e-473f-865b-876727dc106e\",\"type\":\"Title\"},\"tool_events\":{\"id\":\"64026567-2740-44c5-8e46-1f68ee5f4abd\",\"type\":\"ToolEvents\"},\"toolbar\":{\"id\":\"c7bc62ce-2f94-44a1-a887-da3904495306\",\"type\":\"Toolbar\"},\"x_range\":{\"id\":\"e29bb211-d46d-49e5-b72d-65218d1d64a1\",\"type\":\"DataRange1d\"},\"y_range\":{\"id\":\"1215590e-c8b5-4ea4-a308-e8a1cd692a16\",\"type\":\"DataRange1d\"}},\"id\":\"6fcf91b7-9509-4dd8-b49c-7e763baf9d83\",\"subtype\":\"Figure\",\"type\":\"Plot\"},{\"attributes\":{\"dimension\":1,\"plot\":{\"id\":\"6fcf91b7-9509-4dd8-b49c-7e763baf9d83\",\"subtype\":\"Figure\",\"type\":\"Plot\"},\"ticker\":{\"id\":\"f15bfa9f-1746-4959-87c2-4f1349fa3ba8\",\"type\":\"BasicTicker\"}},\"id\":\"7cdf330c-a609-4af9-b7d6-1b7aed3004a2\",\"type\":\"Grid\"},{\"attributes\":{},\"id\":\"f15bfa9f-1746-4959-87c2-4f1349fa3ba8\",\"type\":\"BasicTicker\"},{\"attributes\":{\"plot\":{\"id\":\"6fcf91b7-9509-4dd8-b49c-7e763baf9d83\",\"subtype\":\"Figure\",\"type\":\"Plot\"}},\"id\":\"e4a43b6d-a9b6-4253-b136-a35e4bdbb96c\",\"type\":\"WheelZoomTool\"},{\"attributes\":{\"plot\":{\"id\":\"6fcf91b7-9509-4dd8-b49c-7e763baf9d83\",\"subtype\":\"Figure\",\"type\":\"Plot\"}},\"id\":\"64e0903d-7637-4309-85a6-1a154ac9e0c9\",\"type\":\"PanTool\"},{\"attributes\":{},\"id\":\"64026567-2740-44c5-8e46-1f68ee5f4abd\",\"type\":\"ToolEvents\"},{\"attributes\":{},\"id\":\"dc9da1d4-999d-4e47-b501-484018a4e05c\",\"type\":\"BasicTickFormatter\"},{\"attributes\":{\"fill_alpha\":{\"value\":0.1},\"fill_color\":{\"value\":\"#1f77b4\"},\"line_alpha\":{\"value\":0.1},\"line_color\":{\"value\":\"#1f77b4\"},\"size\":{\"units\":\"screen\",\"value\":10},\"x\":{\"field\":\"x\"},\"y\":{\"field\":\"y\"}},\"id\":\"88fb286e-d485-4d86-89a3-7fba61f54ecd\",\"type\":\"Circle\"}],\"root_ids\":[\"6fcf91b7-9509-4dd8-b49c-7e763baf9d83\"]},\"title\":\"Bokeh Application\",\"version\":\"0.12.5\"}};\n",
       "            var render_items = [{\"docid\":\"bbe68906-3de0-45c0-8053-031d41db32ea\",\"elementid\":\"a1188935-1fd0-4316-84a5-602d21173d6a\",\"modelid\":\"6fcf91b7-9509-4dd8-b49c-7e763baf9d83\"}];\n",
       "            \n",
       "            Bokeh.embed.embed_items(docs_json, render_items);\n",
       "          };\n",
       "          if (document.readyState != \"loading\") fn();\n",
       "          else document.addEventListener(\"DOMContentLoaded\", fn);\n",
       "        })();\n",
       "      },\n",
       "      function(Bokeh) {\n",
       "      }\n",
       "    ];\n",
       "  \n",
       "    function run_inline_js() {\n",
       "      \n",
       "      if ((window.Bokeh !== undefined) || (force === true)) {\n",
       "        for (var i = 0; i < inline_js.length; i++) {\n",
       "          inline_js[i](window.Bokeh);\n",
       "        }if (force === true) {\n",
       "          display_loaded();\n",
       "        }} else if (Date.now() < window._bokeh_timeout) {\n",
       "        setTimeout(run_inline_js, 100);\n",
       "      } else if (!window._bokeh_failed_load) {\n",
       "        console.log(\"Bokeh: BokehJS failed to load within specified timeout.\");\n",
       "        window._bokeh_failed_load = true;\n",
       "      } else if (force !== true) {\n",
       "        var cell = $(document.getElementById(\"a1188935-1fd0-4316-84a5-602d21173d6a\")).parents('.cell').data().cell;\n",
       "        cell.output_area.append_execute_result(NB_LOAD_WARNING)\n",
       "      }\n",
       "  \n",
       "    }\n",
       "  \n",
       "    if (window._bokeh_is_loading === 0) {\n",
       "      console.log(\"Bokeh: BokehJS loaded, going straight to plotting\");\n",
       "      run_inline_js();\n",
       "    } else {\n",
       "      load_libs(js_urls, function() {\n",
       "        console.log(\"Bokeh: BokehJS plotting callback run at\", now());\n",
       "        run_inline_js();\n",
       "      });\n",
       "    }\n",
       "  }(this));\n",
       "</script>"
      ]
     },
     "metadata": {},
     "output_type": "display_data"
    }
   ],
   "source": [
    "tsne_vis.plot()"
   ]
  },
  {
   "cell_type": "markdown",
   "metadata": {},
   "source": [
    "# Picasso\n",
    "https://medium.com/merantix/picasso-a-free-open-source-visualizer-for-cnns-d8ed3a35cfc5"
   ]
  },
  {
   "cell_type": "code",
   "execution_count": null,
   "metadata": {
    "collapsed": true
   },
   "outputs": [],
   "source": []
  }
 ],
 "metadata": {
  "kernelspec": {
   "display_name": "dl_py3",
   "language": "python",
   "name": "dl_py3"
  },
  "language_info": {
   "codemirror_mode": {
    "name": "ipython",
    "version": 3
   },
   "file_extension": ".py",
   "mimetype": "text/x-python",
   "name": "python",
   "nbconvert_exporter": "python",
   "pygments_lexer": "ipython3",
   "version": "3.5.2"
  }
 },
 "nbformat": 4,
 "nbformat_minor": 2
}
