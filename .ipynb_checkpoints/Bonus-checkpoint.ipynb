{
 "cells": [
  {
   "cell_type": "markdown",
   "metadata": {},
   "source": [
    "# Quiver!"
   ]
  },
  {
   "cell_type": "code",
   "execution_count": 5,
   "metadata": {},
   "outputs": [
    {
     "name": "stderr",
     "output_type": "stream",
     "text": [
      "ssh_exchange_identification: Connection closed by remote host\r\n"
     ]
    }
   ],
   "source": [
    "%%bash\n",
    "ssh -NfL localhost:5000:localhost:5000 user@host"
   ]
  },
  {
   "cell_type": "code",
   "execution_count": 3,
   "metadata": {},
   "outputs": [
    {
     "name": "stderr",
     "output_type": "stream",
     "text": [
      "Traceback (most recent call last):\n",
      "  File \"unboxer/filter_outputs.py\", line 4, in <module>\n",
      "    from keras.applications.vgg16 import VGG16\n",
      "ImportError: No module named 'keras'\n"
     ]
    }
   ],
   "source": [
    "%%bash \n",
    "python3 unboxer/filter_outputs.py --img_folder ../data/dogs/input --port 5000"
   ]
  },
  {
   "cell_type": "markdown",
   "metadata": {},
   "source": [
    "# Picasso\n",
    "https://medium.com/merantix/picasso-a-free-open-source-visualizer-for-cnns-d8ed3a35cfc5"
   ]
  },
  {
   "cell_type": "markdown",
   "metadata": {},
   "source": [
    "# TSNE meets Bokeh"
   ]
  },
  {
   "cell_type": "code",
   "execution_count": 4,
   "metadata": {},
   "outputs": [
    {
     "ename": "SyntaxError",
     "evalue": "invalid syntax (<ipython-input-4-9df07c4fe747>, line 3)",
     "output_type": "error",
     "traceback": [
      "\u001b[0;36m  File \u001b[0;32m\"<ipython-input-4-9df07c4fe747>\"\u001b[0;36m, line \u001b[0;32m3\u001b[0m\n\u001b[0;31m    facenet =\u001b[0m\n\u001b[0m              ^\u001b[0m\n\u001b[0;31mSyntaxError\u001b[0m\u001b[0;31m:\u001b[0m invalid syntax\n"
     ]
    }
   ],
   "source": [
    "from keras.models import load_model\n",
    "\n",
    "facenet = load_model('/mnt/ml-team/homes/jakub.czakon/.unblackboxing_webinar_data/models/facenet.h5py')"
   ]
  },
  {
   "cell_type": "code",
   "execution_count": 3,
   "metadata": {},
   "outputs": [
    {
     "data": {
      "text/html": [
       "<div>\n",
       "<style>\n",
       "    .dataframe thead tr:only-child th {\n",
       "        text-align: right;\n",
       "    }\n",
       "\n",
       "    .dataframe thead th {\n",
       "        text-align: left;\n",
       "    }\n",
       "\n",
       "    .dataframe tbody tr th {\n",
       "        vertical-align: top;\n",
       "    }\n",
       "</style>\n",
       "<table border=\"1\" class=\"dataframe\">\n",
       "  <thead>\n",
       "    <tr style=\"text-align: right;\">\n",
       "      <th></th>\n",
       "      <th>filepath</th>\n",
       "      <th>label_id</th>\n",
       "      <th>label_name</th>\n",
       "    </tr>\n",
       "  </thead>\n",
       "  <tbody>\n",
       "    <tr>\n",
       "      <th>0</th>\n",
       "      <td>/mnt/ml-team/homes/jakub.czakon/.unblackboxing...</td>\n",
       "      <td>2</td>\n",
       "      <td>George W Bush</td>\n",
       "    </tr>\n",
       "    <tr>\n",
       "      <th>1</th>\n",
       "      <td>/mnt/ml-team/homes/jakub.czakon/.unblackboxing...</td>\n",
       "      <td>3</td>\n",
       "      <td>Gerhard Schroeder</td>\n",
       "    </tr>\n",
       "    <tr>\n",
       "      <th>2</th>\n",
       "      <td>/mnt/ml-team/homes/jakub.czakon/.unblackboxing...</td>\n",
       "      <td>1</td>\n",
       "      <td>Donald Rumsfeld</td>\n",
       "    </tr>\n",
       "    <tr>\n",
       "      <th>3</th>\n",
       "      <td>/mnt/ml-team/homes/jakub.czakon/.unblackboxing...</td>\n",
       "      <td>4</td>\n",
       "      <td>Tony Blair</td>\n",
       "    </tr>\n",
       "    <tr>\n",
       "      <th>4</th>\n",
       "      <td>/mnt/ml-team/homes/jakub.czakon/.unblackboxing...</td>\n",
       "      <td>1</td>\n",
       "      <td>Donald Rumsfeld</td>\n",
       "    </tr>\n",
       "  </tbody>\n",
       "</table>\n",
       "</div>"
      ],
      "text/plain": [
       "                                            filepath  label_id  \\\n",
       "0  /mnt/ml-team/homes/jakub.czakon/.unblackboxing...         2   \n",
       "1  /mnt/ml-team/homes/jakub.czakon/.unblackboxing...         3   \n",
       "2  /mnt/ml-team/homes/jakub.czakon/.unblackboxing...         1   \n",
       "3  /mnt/ml-team/homes/jakub.czakon/.unblackboxing...         4   \n",
       "4  /mnt/ml-team/homes/jakub.czakon/.unblackboxing...         1   \n",
       "\n",
       "          label_name  \n",
       "0      George W Bush  \n",
       "1  Gerhard Schroeder  \n",
       "2    Donald Rumsfeld  \n",
       "3         Tony Blair  \n",
       "4    Donald Rumsfeld  "
      ]
     },
     "execution_count": 3,
     "metadata": {},
     "output_type": "execute_result"
    }
   ],
   "source": [
    "import pandas as pd\n",
    "\n",
    "df = pd.read_csv('/mnt/ml-team/homes/jakub.czakon/.unblackboxing_webinar_data/data/faces/faces.csv')\n",
    "df.head()\n"
   ]
  },
  {
   "cell_type": "code",
   "execution_count": null,
   "metadata": {
    "collapsed": true
   },
   "outputs": [],
   "source": [
    "from unboxer.tsne_vis import TsneVis\n",
    "\n",
    "tsne_vis = TsneVis(facenet, layer_name='fc2')\n",
    "tsne_vis.plot(df)"
   ]
  }
 ],
 "metadata": {
  "kernelspec": {
   "display_name": "dl_py3",
   "language": "python",
   "name": "dl_py3"
  },
  "language_info": {
   "codemirror_mode": {
    "name": "ipython",
    "version": 3
   },
   "file_extension": ".py",
   "mimetype": "text/x-python",
   "name": "python",
   "nbconvert_exporter": "python",
   "pygments_lexer": "ipython3",
   "version": "3.5.2"
  }
 },
 "nbformat": 4,
 "nbformat_minor": 2
}
