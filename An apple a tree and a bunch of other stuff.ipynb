{
 "cells": [
  {
   "cell_type": "markdown",
   "metadata": {},
   "source": [
    "# Word Embeddings"
   ]
  },
  {
   "cell_type": "code",
   "execution_count": 1,
   "metadata": {
    "collapsed": true
   },
   "outputs": [],
   "source": [
    "import pandas as pd\n",
    "import numpy as np\n",
    "\n",
    "from glove import Glove\n",
    "from sklearn.metrics.pairwise import cosine_similarity"
   ]
  },
  {
   "cell_type": "code",
   "execution_count": 2,
   "metadata": {
    "collapsed": true
   },
   "outputs": [],
   "source": [
    "embedding_model = Glove.load_stanford('/mnt/ml-team/homes/jakub.czakon/\\\n",
    ".unblackboxing_webinar_data/models/glove.twitter.27B.25d.txt')"
   ]
  },
  {
   "cell_type": "code",
   "execution_count": 3,
   "metadata": {},
   "outputs": [
    {
     "data": {
      "text/plain": [
       "(1193514, 25)"
      ]
     },
     "execution_count": 3,
     "metadata": {},
     "output_type": "execute_result"
    }
   ],
   "source": [
    "embedding_model.word_vectors.shape"
   ]
  },
  {
   "cell_type": "code",
   "execution_count": 4,
   "metadata": {},
   "outputs": [
    {
     "data": {
      "text/plain": [
       "1881"
      ]
     },
     "execution_count": 4,
     "metadata": {},
     "output_type": "execute_result"
    }
   ],
   "source": [
    "embedding_model.dictionary['apple']"
   ]
  },
  {
   "cell_type": "code",
   "execution_count": 5,
   "metadata": {},
   "outputs": [
    {
     "data": {
      "text/plain": [
       "3341"
      ]
     },
     "execution_count": 5,
     "metadata": {},
     "output_type": "execute_result"
    }
   ],
   "source": [
    "embedding_model.dictionary['tree']"
   ]
  },
  {
   "cell_type": "code",
   "execution_count": 6,
   "metadata": {},
   "outputs": [
    {
     "data": {
      "text/plain": [
       "array([ 1.0822  , -0.59378 , -0.19992 ,  0.66626 ,  0.18051 ,  0.014404,\n",
       "        1.4227  ,  2.3584  , -0.2701  ,  1.4194  ,  0.61099 , -0.29541 ,\n",
       "       -2.8885  , -0.070205, -0.038122, -0.50855 , -0.4445  ,  0.076176,\n",
       "       -0.96879 , -0.57778 ,  0.39206 ,  0.20976 , -0.73835 ,  0.031611,\n",
       "        0.72533 ])"
      ]
     },
     "execution_count": 6,
     "metadata": {},
     "output_type": "execute_result"
    }
   ],
   "source": [
    "embedding_model.word_vectors[12]"
   ]
  },
  {
   "cell_type": "code",
   "execution_count": 14,
   "metadata": {},
   "outputs": [
    {
     "data": {
      "text/plain": [
       "0.7373450232586749"
      ]
     },
     "execution_count": 14,
     "metadata": {},
     "output_type": "execute_result"
    }
   ],
   "source": [
    "def similarity(glove_instance, word1, word2):\n",
    "        ids = [glove_instance.dictionary[w] for w in [word1, word2]]\n",
    "        vec1, vec2 = [glove_instance.word_vectors[i].reshape(1,-1) for i in ids]\n",
    "        return cosine_similarity(vec1, vec2)[0][0]\n",
    "\n",
    "similarity(embedding_model, 'orange', 'fire')"
   ]
  },
  {
   "cell_type": "code",
   "execution_count": 18,
   "metadata": {},
   "outputs": [
    {
     "data": {
      "text/plain": [
       "[('an', 0.81728381593704502),\n",
       " ('man', 0.81460120341496556),\n",
       " ('land', 0.81184661600322539),\n",
       " ('in', 0.81020321399059814),\n",
       " ('also', 0.79965086460360413),\n",
       " ('of', 0.79461498654527651),\n",
       " ('hunger', 0.79069486409652656),\n",
       " ('death', 0.78956734859189026),\n",
       " ('over', 0.78049269351955841),\n",
       " ('is', 0.77498331896208261),\n",
       " ('was', 0.77474879926232032),\n",
       " ('crime', 0.77139971245180228),\n",
       " ('age', 0.76782121516566837),\n",
       " ('history', 0.76675213095949935),\n",
       " ('under', 0.76355490562996597),\n",
       " ('held', 0.76348701872303115),\n",
       " ('against', 0.75755924886299031),\n",
       " ('term', 0.75273022495961561),\n",
       " ('level', 0.75245080925610541)]"
      ]
     },
     "execution_count": 18,
     "metadata": {},
     "output_type": "execute_result"
    }
   ],
   "source": [
    "embedding_model.most_similar('war', 20)"
   ]
  },
  {
   "cell_type": "code",
   "execution_count": 19,
   "metadata": {
    "collapsed": true
   },
   "outputs": [],
   "source": [
    "with open('twitter_sentiment/frequency_list.txt','r+') as f:\n",
    "    most_frequent = f.read().lower().split('\\n')\n",
    "interesting = ['apple','tree', 'human', 'child']\n",
    "word_corpus = list(set(list(np.random.choice(most_frequent, 100)) + interesting))"
   ]
  },
  {
   "cell_type": "code",
   "execution_count": 20,
   "metadata": {},
   "outputs": [
    {
     "name": "stderr",
     "output_type": "stream",
     "text": [
      "Using TensorFlow backend.\n"
     ]
    },
    {
     "name": "stdout",
     "output_type": "stream",
     "text": [
      "[t-SNE] Computing pairwise distances...\n",
      "[t-SNE] Computing 91 nearest neighbors...\n",
      "[t-SNE] Computed conditional probabilities for sample 100 / 100\n",
      "[t-SNE] Mean sigma: 1.672042\n",
      "[t-SNE] KL divergence after 100 iterations with early exaggeration: 1.806220\n",
      "[t-SNE] Error after 150 iterations: 1.806220\n"
     ]
    }
   ],
   "source": [
    "%load_ext autoreload\n",
    "% autoreload 2\n",
    "from unboxer.bokeh_tsne.tsne_vis import TsneText\n",
    "\n",
    "tsne_text = TsneText(embedding_model, verbose=1)\n",
    "tsne_text.fit(word_corpus, highlight_words = interesting)"
   ]
  },
  {
   "cell_type": "code",
   "execution_count": 21,
   "metadata": {},
   "outputs": [
    {
     "data": {
      "text/html": [
       "\n",
       "    <div class=\"bk-root\">\n",
       "        <a href=\"http://bokeh.pydata.org\" target=\"_blank\" class=\"bk-logo bk-logo-small bk-logo-notebook\"></a>\n",
       "        <span id=\"5db9018e-48e4-4101-89b2-4fa8e14dfdc3\">Loading BokehJS ...</span>\n",
       "    </div>"
      ]
     },
     "metadata": {},
     "output_type": "display_data"
    },
    {
     "data": {
      "application/javascript": [
       "\n",
       "(function(global) {\n",
       "  function now() {\n",
       "    return new Date();\n",
       "  }\n",
       "\n",
       "  var force = true;\n",
       "\n",
       "  if (typeof (window._bokeh_onload_callbacks) === \"undefined\" || force === true) {\n",
       "    window._bokeh_onload_callbacks = [];\n",
       "    window._bokeh_is_loading = undefined;\n",
       "  }\n",
       "\n",
       "\n",
       "  \n",
       "  if (typeof (window._bokeh_timeout) === \"undefined\" || force === true) {\n",
       "    window._bokeh_timeout = Date.now() + 5000;\n",
       "    window._bokeh_failed_load = false;\n",
       "  }\n",
       "\n",
       "  var NB_LOAD_WARNING = {'data': {'text/html':\n",
       "     \"<div style='background-color: #fdd'>\\n\"+\n",
       "     \"<p>\\n\"+\n",
       "     \"BokehJS does not appear to have successfully loaded. If loading BokehJS from CDN, this \\n\"+\n",
       "     \"may be due to a slow or bad network connection. Possible fixes:\\n\"+\n",
       "     \"</p>\\n\"+\n",
       "     \"<ul>\\n\"+\n",
       "     \"<li>re-rerun `output_notebook()` to attempt to load from CDN again, or</li>\\n\"+\n",
       "     \"<li>use INLINE resources instead, as so:</li>\\n\"+\n",
       "     \"</ul>\\n\"+\n",
       "     \"<code>\\n\"+\n",
       "     \"from bokeh.resources import INLINE\\n\"+\n",
       "     \"output_notebook(resources=INLINE)\\n\"+\n",
       "     \"</code>\\n\"+\n",
       "     \"</div>\"}};\n",
       "\n",
       "  function display_loaded() {\n",
       "    if (window.Bokeh !== undefined) {\n",
       "      var el = document.getElementById(\"5db9018e-48e4-4101-89b2-4fa8e14dfdc3\");\n",
       "      el.textContent = \"BokehJS \" + Bokeh.version + \" successfully loaded.\";\n",
       "    } else if (Date.now() < window._bokeh_timeout) {\n",
       "      setTimeout(display_loaded, 100)\n",
       "    }\n",
       "  }\n",
       "\n",
       "  function run_callbacks() {\n",
       "    window._bokeh_onload_callbacks.forEach(function(callback) { callback() });\n",
       "    delete window._bokeh_onload_callbacks\n",
       "    console.info(\"Bokeh: all callbacks have finished\");\n",
       "  }\n",
       "\n",
       "  function load_libs(js_urls, callback) {\n",
       "    window._bokeh_onload_callbacks.push(callback);\n",
       "    if (window._bokeh_is_loading > 0) {\n",
       "      console.log(\"Bokeh: BokehJS is being loaded, scheduling callback at\", now());\n",
       "      return null;\n",
       "    }\n",
       "    if (js_urls == null || js_urls.length === 0) {\n",
       "      run_callbacks();\n",
       "      return null;\n",
       "    }\n",
       "    console.log(\"Bokeh: BokehJS not loaded, scheduling load and callback at\", now());\n",
       "    window._bokeh_is_loading = js_urls.length;\n",
       "    for (var i = 0; i < js_urls.length; i++) {\n",
       "      var url = js_urls[i];\n",
       "      var s = document.createElement('script');\n",
       "      s.src = url;\n",
       "      s.async = false;\n",
       "      s.onreadystatechange = s.onload = function() {\n",
       "        window._bokeh_is_loading--;\n",
       "        if (window._bokeh_is_loading === 0) {\n",
       "          console.log(\"Bokeh: all BokehJS libraries loaded\");\n",
       "          run_callbacks()\n",
       "        }\n",
       "      };\n",
       "      s.onerror = function() {\n",
       "        console.warn(\"failed to load library \" + url);\n",
       "      };\n",
       "      console.log(\"Bokeh: injecting script tag for BokehJS library: \", url);\n",
       "      document.getElementsByTagName(\"head\")[0].appendChild(s);\n",
       "    }\n",
       "  };var element = document.getElementById(\"5db9018e-48e4-4101-89b2-4fa8e14dfdc3\");\n",
       "  if (element == null) {\n",
       "    console.log(\"Bokeh: ERROR: autoload.js configured with elementid '5db9018e-48e4-4101-89b2-4fa8e14dfdc3' but no matching script tag was found. \")\n",
       "    return false;\n",
       "  }\n",
       "\n",
       "  var js_urls = [\"https://cdn.pydata.org/bokeh/release/bokeh-0.12.5.min.js\", \"https://cdn.pydata.org/bokeh/release/bokeh-widgets-0.12.5.min.js\"];\n",
       "\n",
       "  var inline_js = [\n",
       "    function(Bokeh) {\n",
       "      Bokeh.set_log_level(\"info\");\n",
       "    },\n",
       "    \n",
       "    function(Bokeh) {\n",
       "      \n",
       "    },\n",
       "    \n",
       "    function(Bokeh) {\n",
       "      \n",
       "      document.getElementById(\"5db9018e-48e4-4101-89b2-4fa8e14dfdc3\").textContent = \"BokehJS is loading...\";\n",
       "    },\n",
       "    function(Bokeh) {\n",
       "      console.log(\"Bokeh: injecting CSS: https://cdn.pydata.org/bokeh/release/bokeh-0.12.5.min.css\");\n",
       "      Bokeh.embed.inject_css(\"https://cdn.pydata.org/bokeh/release/bokeh-0.12.5.min.css\");\n",
       "      console.log(\"Bokeh: injecting CSS: https://cdn.pydata.org/bokeh/release/bokeh-widgets-0.12.5.min.css\");\n",
       "      Bokeh.embed.inject_css(\"https://cdn.pydata.org/bokeh/release/bokeh-widgets-0.12.5.min.css\");\n",
       "    }\n",
       "  ];\n",
       "\n",
       "  function run_inline_js() {\n",
       "    \n",
       "    if ((window.Bokeh !== undefined) || (force === true)) {\n",
       "      for (var i = 0; i < inline_js.length; i++) {\n",
       "        inline_js[i](window.Bokeh);\n",
       "      }if (force === true) {\n",
       "        display_loaded();\n",
       "      }} else if (Date.now() < window._bokeh_timeout) {\n",
       "      setTimeout(run_inline_js, 100);\n",
       "    } else if (!window._bokeh_failed_load) {\n",
       "      console.log(\"Bokeh: BokehJS failed to load within specified timeout.\");\n",
       "      window._bokeh_failed_load = true;\n",
       "    } else if (force !== true) {\n",
       "      var cell = $(document.getElementById(\"5db9018e-48e4-4101-89b2-4fa8e14dfdc3\")).parents('.cell').data().cell;\n",
       "      cell.output_area.append_execute_result(NB_LOAD_WARNING)\n",
       "    }\n",
       "\n",
       "  }\n",
       "\n",
       "  if (window._bokeh_is_loading === 0) {\n",
       "    console.log(\"Bokeh: BokehJS loaded, going straight to plotting\");\n",
       "    run_inline_js();\n",
       "  } else {\n",
       "    load_libs(js_urls, function() {\n",
       "      console.log(\"Bokeh: BokehJS plotting callback run at\", now());\n",
       "      run_inline_js();\n",
       "    });\n",
       "  }\n",
       "}(this));"
      ]
     },
     "metadata": {},
     "output_type": "display_data"
    },
    {
     "data": {
      "text/html": [
       "\n",
       "\n",
       "    <div class=\"bk-root\">\n",
       "        <div class=\"bk-plotdiv\" id=\"cabb9911-c079-4c0f-8717-50b4e88cd5b3\"></div>\n",
       "    </div>\n",
       "<script type=\"text/javascript\">\n",
       "  \n",
       "  (function(global) {\n",
       "    function now() {\n",
       "      return new Date();\n",
       "    }\n",
       "  \n",
       "    var force = false;\n",
       "  \n",
       "    if (typeof (window._bokeh_onload_callbacks) === \"undefined\" || force === true) {\n",
       "      window._bokeh_onload_callbacks = [];\n",
       "      window._bokeh_is_loading = undefined;\n",
       "    }\n",
       "  \n",
       "  \n",
       "    \n",
       "    if (typeof (window._bokeh_timeout) === \"undefined\" || force === true) {\n",
       "      window._bokeh_timeout = Date.now() + 0;\n",
       "      window._bokeh_failed_load = false;\n",
       "    }\n",
       "  \n",
       "    var NB_LOAD_WARNING = {'data': {'text/html':\n",
       "       \"<div style='background-color: #fdd'>\\n\"+\n",
       "       \"<p>\\n\"+\n",
       "       \"BokehJS does not appear to have successfully loaded. If loading BokehJS from CDN, this \\n\"+\n",
       "       \"may be due to a slow or bad network connection. Possible fixes:\\n\"+\n",
       "       \"</p>\\n\"+\n",
       "       \"<ul>\\n\"+\n",
       "       \"<li>re-rerun `output_notebook()` to attempt to load from CDN again, or</li>\\n\"+\n",
       "       \"<li>use INLINE resources instead, as so:</li>\\n\"+\n",
       "       \"</ul>\\n\"+\n",
       "       \"<code>\\n\"+\n",
       "       \"from bokeh.resources import INLINE\\n\"+\n",
       "       \"output_notebook(resources=INLINE)\\n\"+\n",
       "       \"</code>\\n\"+\n",
       "       \"</div>\"}};\n",
       "  \n",
       "    function display_loaded() {\n",
       "      if (window.Bokeh !== undefined) {\n",
       "        var el = document.getElementById(\"cabb9911-c079-4c0f-8717-50b4e88cd5b3\");\n",
       "        el.textContent = \"BokehJS \" + Bokeh.version + \" successfully loaded.\";\n",
       "      } else if (Date.now() < window._bokeh_timeout) {\n",
       "        setTimeout(display_loaded, 100)\n",
       "      }\n",
       "    }\n",
       "  \n",
       "    function run_callbacks() {\n",
       "      window._bokeh_onload_callbacks.forEach(function(callback) { callback() });\n",
       "      delete window._bokeh_onload_callbacks\n",
       "      console.info(\"Bokeh: all callbacks have finished\");\n",
       "    }\n",
       "  \n",
       "    function load_libs(js_urls, callback) {\n",
       "      window._bokeh_onload_callbacks.push(callback);\n",
       "      if (window._bokeh_is_loading > 0) {\n",
       "        console.log(\"Bokeh: BokehJS is being loaded, scheduling callback at\", now());\n",
       "        return null;\n",
       "      }\n",
       "      if (js_urls == null || js_urls.length === 0) {\n",
       "        run_callbacks();\n",
       "        return null;\n",
       "      }\n",
       "      console.log(\"Bokeh: BokehJS not loaded, scheduling load and callback at\", now());\n",
       "      window._bokeh_is_loading = js_urls.length;\n",
       "      for (var i = 0; i < js_urls.length; i++) {\n",
       "        var url = js_urls[i];\n",
       "        var s = document.createElement('script');\n",
       "        s.src = url;\n",
       "        s.async = false;\n",
       "        s.onreadystatechange = s.onload = function() {\n",
       "          window._bokeh_is_loading--;\n",
       "          if (window._bokeh_is_loading === 0) {\n",
       "            console.log(\"Bokeh: all BokehJS libraries loaded\");\n",
       "            run_callbacks()\n",
       "          }\n",
       "        };\n",
       "        s.onerror = function() {\n",
       "          console.warn(\"failed to load library \" + url);\n",
       "        };\n",
       "        console.log(\"Bokeh: injecting script tag for BokehJS library: \", url);\n",
       "        document.getElementsByTagName(\"head\")[0].appendChild(s);\n",
       "      }\n",
       "    };var element = document.getElementById(\"cabb9911-c079-4c0f-8717-50b4e88cd5b3\");\n",
       "    if (element == null) {\n",
       "      console.log(\"Bokeh: ERROR: autoload.js configured with elementid 'cabb9911-c079-4c0f-8717-50b4e88cd5b3' but no matching script tag was found. \")\n",
       "      return false;\n",
       "    }\n",
       "  \n",
       "    var js_urls = [];\n",
       "  \n",
       "    var inline_js = [\n",
       "      function(Bokeh) {\n",
       "        (function() {\n",
       "          var fn = function() {\n",
       "            var docs_json = {\"229f28cc-f9e6-45b7-9da6-2bb1c598b4bb\":{\"roots\":{\"references\":[{\"attributes\":{\"plot\":{\"id\":\"5f629513-c1df-465b-8ec8-38c66f057dc6\",\"subtype\":\"Figure\",\"type\":\"Plot\"}},\"id\":\"ee3ff09a-87f0-45c9-8f09-306cf264be01\",\"type\":\"PanTool\"},{\"attributes\":{\"below\":[{\"id\":\"6c7d07aa-3f40-4a07-a33c-f0a25ebdc169\",\"type\":\"LinearAxis\"}],\"left\":[{\"id\":\"e016ceb2-f95f-4e2a-9d2a-a4906e938328\",\"type\":\"LinearAxis\"}],\"plot_height\":300,\"plot_width\":300,\"renderers\":[{\"id\":\"6c7d07aa-3f40-4a07-a33c-f0a25ebdc169\",\"type\":\"LinearAxis\"},{\"id\":\"0089f31b-b5a7-43df-bab3-e879f2187a44\",\"type\":\"Grid\"},{\"id\":\"e016ceb2-f95f-4e2a-9d2a-a4906e938328\",\"type\":\"LinearAxis\"},{\"id\":\"cf2bcd84-4465-4e3b-9ba0-ba58893bc987\",\"type\":\"Grid\"},{\"id\":\"bc622455-a1ae-407c-85e8-fda450833835\",\"type\":\"BoxAnnotation\"},{\"id\":\"a23b7062-e3d7-4966-a5c9-478f780f6fd9\",\"type\":\"GlyphRenderer\"}],\"title\":{\"id\":\"271a535a-cad4-475b-adc8-e48569c29afd\",\"type\":\"Title\"},\"tool_events\":{\"id\":\"bacbf44a-5d6e-4025-a085-896c70be25a0\",\"type\":\"ToolEvents\"},\"toolbar\":{\"id\":\"5ae8e164-d409-4bac-856f-3076d5d8efcd\",\"type\":\"Toolbar\"},\"x_range\":{\"id\":\"81c44fed-3353-4b7d-bf69-c5c57a94bf32\",\"type\":\"DataRange1d\"},\"y_range\":{\"id\":\"c2392a8c-ce74-40a0-a9af-5b71224e4d30\",\"type\":\"DataRange1d\"}},\"id\":\"5f629513-c1df-465b-8ec8-38c66f057dc6\",\"subtype\":\"Figure\",\"type\":\"Plot\"},{\"attributes\":{\"callback\":null,\"plot\":{\"id\":\"5f629513-c1df-465b-8ec8-38c66f057dc6\",\"subtype\":\"Figure\",\"type\":\"Plot\"},\"tooltips\":\"\\n        <div>\\n            <div>\\n                <p>\\n                    @text\\n                </p>\\n            </div>            \\n        </div>\\n        \"},\"id\":\"4839fe19-eed1-4e93-9041-dfadd3417506\",\"type\":\"HoverTool\"},{\"attributes\":{\"plot\":{\"id\":\"5f629513-c1df-465b-8ec8-38c66f057dc6\",\"subtype\":\"Figure\",\"type\":\"Plot\"}},\"id\":\"20f598a9-c341-4bc4-a798-4d86ca7bf3b2\",\"type\":\"WheelZoomTool\"},{\"attributes\":{\"callback\":null,\"column_names\":[\"label_color\",\"x\",\"label\",\"y\",\"index\",\"text\"],\"data\":{\"index\":[82,19,80,97,76,73,3,69,20,87,71,91,50,2,16,75,23,0,24,26,35,57,18,94,58,9,30,38,78,45,34,25,63,54,51,37,55,59,15,95,41,47,48,84,14,7,44,86,81,66,96,74,31,11,98,64,88,21,36,49,52,33,39,28,67,92,27,40,8,83,46,99,93,13,56,90,42,6,43,85,60,62,32,61,17,68,5,29,79,22,12,4,72,89,10,53,65,77,70,1],\"label\":[0,0,0,0,0,1,0,0,0,0,0,0,1,0,0,0,0,0,0,0,0,0,0,0,0,0,0,0,0,0,0,0,0,0,0,1,0,0,0,0,0,0,0,0,0,0,0,0,0,0,0,0,0,0,0,0,0,0,0,0,0,0,0,0,0,0,0,0,0,0,0,0,0,0,0,0,0,0,0,0,0,0,0,0,0,0,0,0,0,0,0,0,0,1,0,0,0,0,0,0],\"label_color\":[\"#66c2a5\",\"#66c2a5\",\"#66c2a5\",\"#66c2a5\",\"#66c2a5\",\"#fc8d62\",\"#66c2a5\",\"#66c2a5\",\"#66c2a5\",\"#66c2a5\",\"#66c2a5\",\"#66c2a5\",\"#fc8d62\",\"#66c2a5\",\"#66c2a5\",\"#66c2a5\",\"#66c2a5\",\"#66c2a5\",\"#66c2a5\",\"#66c2a5\",\"#66c2a5\",\"#66c2a5\",\"#66c2a5\",\"#66c2a5\",\"#66c2a5\",\"#66c2a5\",\"#66c2a5\",\"#66c2a5\",\"#66c2a5\",\"#66c2a5\",\"#66c2a5\",\"#66c2a5\",\"#66c2a5\",\"#66c2a5\",\"#66c2a5\",\"#fc8d62\",\"#66c2a5\",\"#66c2a5\",\"#66c2a5\",\"#66c2a5\",\"#66c2a5\",\"#66c2a5\",\"#66c2a5\",\"#66c2a5\",\"#66c2a5\",\"#66c2a5\",\"#66c2a5\",\"#66c2a5\",\"#66c2a5\",\"#66c2a5\",\"#66c2a5\",\"#66c2a5\",\"#66c2a5\",\"#66c2a5\",\"#66c2a5\",\"#66c2a5\",\"#66c2a5\",\"#66c2a5\",\"#66c2a5\",\"#66c2a5\",\"#66c2a5\",\"#66c2a5\",\"#66c2a5\",\"#66c2a5\",\"#66c2a5\",\"#66c2a5\",\"#66c2a5\",\"#66c2a5\",\"#66c2a5\",\"#66c2a5\",\"#66c2a5\",\"#66c2a5\",\"#66c2a5\",\"#66c2a5\",\"#66c2a5\",\"#66c2a5\",\"#66c2a5\",\"#66c2a5\",\"#66c2a5\",\"#66c2a5\",\"#66c2a5\",\"#66c2a5\",\"#66c2a5\",\"#66c2a5\",\"#66c2a5\",\"#66c2a5\",\"#66c2a5\",\"#66c2a5\",\"#66c2a5\",\"#66c2a5\",\"#66c2a5\",\"#66c2a5\",\"#66c2a5\",\"#fc8d62\",\"#66c2a5\",\"#66c2a5\",\"#66c2a5\",\"#66c2a5\",\"#66c2a5\",\"#66c2a5\"],\"text\":[\"accept\",\"add\",\"administration\",\"ahead\",\"air\",\"apple\",\"attorney\",\"author\",\"bar\",\"buy\",\"call\",\"center\",\"child\",\"condition\",\"contain\",\"continue\",\"couple\",\"dark\",\"debate\",\"describe\",\"director\",\"eat\",\"economic\",\"everyone\",\"evidence\",\"federal\",\"feel\",\"five\",\"force\",\"forget\",\"hair\",\"hang\",\"hear\",\"heart\",\"hour\",\"human\",\"idea\",\"impact\",\"its\",\"keep\",\"kitchen\",\"language\",\"lead\",\"least\",\"less\",\"let\",\"line\",\"lose\",\"manage\",\"management\",\"market\",\"maybe\",\"me\",\"might\",\"mother\",\"necessary\",\"now\",\"off\",\"on\",\"opportunity\",\"option\",\"plan\",\"player\",\"popular\",\"prepare\",\"problem\",\"product\",\"pull\",\"quality\",\"recent\",\"relate\",\"rise\",\"risk\",\"room\",\"serious\",\"simply\",\"sit\",\"so\",\"society\",\"song\",\"speak\",\"sport\",\"stand\",\"stay\",\"still\",\"subject\",\"successful\",\"summer\",\"term\",\"their\",\"three\",\"top\",\"toward\",\"tree\",\"until\",\"voice\",\"we\",\"weapon\",\"week\",\"weight\"],\"x\":{\"__ndarray__\":\"gp3I1wriSEB3La4vnHY9QNW2aBse60TAoexF997VUUDSS5kwI674P4/OurZ69EpAqJYNbIrlU0BEexh/2OQvwBmc/84ti0xAFCc+sZ+tWcCkMtZUMNgyQOh4ZIVyrlVA6O0MfnUmScDDP9WV/SU2wId9qdz5AlVAV4rGJKh0QEDYSQaehLdTwNa8ISpgBUrAWMAlEwkrP8CnIbn+fxQ9wJ293zANETzARjsYWBc8SUCjg9Irih1LQCjJQD3Jf09AaYNL/HFuWEDt5LqMIiZGQNlSLOmnKENAmGfndZwoUsAUTCjJf/JZQOqrnzkWETvAXrG0GSTTRsCC9dNZaLxbwBiZHuvPxllA+F1Bl1evVcBmS0fOws1YwEB+p5Jf7UXABgXEoQ9oTsBSeCFJ9W8pQCrv1AM3sTBAM/kfVO9FP0CAd2w5Jp4kQGpbHfkFJEfASnwtX20jU0DSOB4OO4Q9wD3XDFRsQDlAkK0FCD4OOkANRuISrkVQwEMCyZHRGT9A3L7bCdlaR8Aj8zwX5jVJQAWnv3ktTB3ADodDV8NMMMChOB3fmslRQPdf3yOV+kNAAkd4YUzCUcCmr/XTRAYgwAafSdOvAzzA1lQX28qVScA5XRTjMhkYQFZYI2HF3CNAIdiGQvSRQMDJ2iwQNLZDwKLqmZ37YVTA3RDX/pa2QMBVTJW/vSQEwKLRkM6oYDPAYSlkLuRATkCsvYiApBcqwCzZadiz3j1ATPMah1eiaEAiPR33v5hWQJLJuZrCPVDATrOFlrJXI8A5EJVYletAQD2qkWE1WDHAQhBOUqR7UcAvk7oKiRPVv3hSTBUvNkBAuzbYcX+GW0BPqrLmQyqFwDUGX3vCUiLAKqWL1labVcCitP3rCUsfwLPBulyV3FbACIZyWUy9R0BoRMylFotTQG+ls8EVviFAyRIom9xOT8DJOpxl1pcXQHwbX1ysAEjA9sneqAjqWsAtXW6cMXghQD7yoBHOIUVA7YHtv0yWQsAQTYnZ66MywFUa4nD7OTJAHxWRIEv3LkD9eV9Nl5Z0QHySThZI7FvAeY4DsUWsHkA=\",\"dtype\":\"float64\",\"shape\":[100]},\"y\":{\"__ndarray__\":\"mwEDNRCfJcDPKL0CJUNTQNWCYPtypVdAvoAL434BQUDQ59CX/vQ0wBd//n4tsFXAh00tsYSgCMC6GSfczP5CQH+5xroGeT/ANbYo8VQTSsCkDj94/GApwE8vihZ6yDFAwAAmDXHmREApFZjp93PzP6ouCuw9Gz/AL5chyRdZYECDn/wbn75HwNAY2zgtJijAcYertdwsUEDXnzUo0ElCwCVUy4TA5kdAsMNnVM7fUEA06bGelHBIQBfs+3zDWh5AYDSBgawlSsCvgxGENVIlQNT7fbBgQkjArXnB9ijyU0B+1aDo0sBBQDfmu51642hAcIrm4plyPMA7zujb8RMYwKPV13QDgjLAId3GzVVRM8CyqVrw4KNjQGIwdnLTHTxAw9EuvKoKTkDGFZSi8FdWwGx1OcV+i0rAsJg36yGvV8BxzolNfyZbQKU3a9juMiZAMYv634WHSEC2GaNY0rBSwHYSlo43B2nAMKOgRj3ZKEDMBZ9Bb20+wMzVjKgxrEBA8vQRncv2VcB/+nuRewQ/QJw2LCPDrlVAJNbqeMNLUMD41H1AyHhLwJMClenLyVzA2nRlMLmX6L/bwN26oEEZwIwbI/n+3DBAKgSEDJ3JRsA1MPbJ/7ldwKHqIi2ezUpA30ejd9hQS8B5kOd9hbNdQLj3BJPu40RAz1N4ftCtU0By4Rvl495SwPC+qYypxFnAsWdUyyOLVECsOX1DdBZAwDwfEFyHtUxAGMGIgibaa8AfTYfQZldSQJQImhEzwzRAIOdLIwpUL0B4XN013WA4wD0CIrybW1bAIje9VO89VcDa/zhCXelDwL9cRmNdslDAKAqYfsUyTkCRTAXTkwgjwNBSUNECSE1A3mG3Pc3uT0BWgQUWHnRJwLdN+l8NiiVA115ANgu8T8BNOnKClatVwP5nz/X5JURATEbJk/VXT8CRCitHZMA2QKn98Suyz1/A7pNUu7VaQ0DO/tLIqfRTQE8BOW6F6lhAVXge/2AdKcCJEsX6eV5bQLuzr8dV40DA6CYcQbV2UcDbS6BcmyxMQHYMkNnyfVBAWB90TgBAEUA=\",\"dtype\":\"float64\",\"shape\":[100]}}},\"id\":\"6c23b486-eac6-4c1e-92ba-c9a401deb4a0\",\"type\":\"ColumnDataSource\"},{\"attributes\":{\"callback\":null},\"id\":\"81c44fed-3353-4b7d-bf69-c5c57a94bf32\",\"type\":\"DataRange1d\"},{\"attributes\":{\"overlay\":{\"id\":\"bc622455-a1ae-407c-85e8-fda450833835\",\"type\":\"BoxAnnotation\"},\"plot\":{\"id\":\"5f629513-c1df-465b-8ec8-38c66f057dc6\",\"subtype\":\"Figure\",\"type\":\"Plot\"}},\"id\":\"f6735e66-59bf-4d27-aa24-3a8c37eda0c5\",\"type\":\"BoxZoomTool\"},{\"attributes\":{\"fill_color\":{\"field\":\"label_color\"},\"line_color\":{\"value\":\"#1f77b4\"},\"size\":{\"units\":\"screen\",\"value\":10},\"x\":{\"field\":\"x\"},\"y\":{\"field\":\"y\"}},\"id\":\"7623be0a-4792-4187-a095-fd42aa767512\",\"type\":\"Circle\"},{\"attributes\":{\"bottom_units\":\"screen\",\"fill_alpha\":{\"value\":0.5},\"fill_color\":{\"value\":\"lightgrey\"},\"left_units\":\"screen\",\"level\":\"overlay\",\"line_alpha\":{\"value\":1.0},\"line_color\":{\"value\":\"black\"},\"line_dash\":[4,4],\"line_width\":{\"value\":2},\"plot\":null,\"render_mode\":\"css\",\"right_units\":\"screen\",\"top_units\":\"screen\"},\"id\":\"bc622455-a1ae-407c-85e8-fda450833835\",\"type\":\"BoxAnnotation\"},{\"attributes\":{},\"id\":\"4eab32b1-2620-4f05-90fd-6e28f5688d9f\",\"type\":\"BasicTickFormatter\"},{\"attributes\":{},\"id\":\"bacbf44a-5d6e-4025-a085-896c70be25a0\",\"type\":\"ToolEvents\"},{\"attributes\":{\"fill_alpha\":{\"value\":0.1},\"fill_color\":{\"value\":\"#1f77b4\"},\"line_alpha\":{\"value\":0.1},\"line_color\":{\"value\":\"#1f77b4\"},\"size\":{\"units\":\"screen\",\"value\":10},\"x\":{\"field\":\"x\"},\"y\":{\"field\":\"y\"}},\"id\":\"e38578a4-834f-4b2a-af7f-c62adc0e756a\",\"type\":\"Circle\"},{\"attributes\":{\"plot\":{\"id\":\"5f629513-c1df-465b-8ec8-38c66f057dc6\",\"subtype\":\"Figure\",\"type\":\"Plot\"}},\"id\":\"67cd8871-eaec-4c26-851f-06ee89dd1a65\",\"type\":\"ResetTool\"},{\"attributes\":{\"formatter\":{\"id\":\"a0300342-d63f-4c2b-be20-e8078c456975\",\"type\":\"BasicTickFormatter\"},\"plot\":{\"id\":\"5f629513-c1df-465b-8ec8-38c66f057dc6\",\"subtype\":\"Figure\",\"type\":\"Plot\"},\"ticker\":{\"id\":\"1e93688f-7cdf-4025-838b-1ecf20851c07\",\"type\":\"BasicTicker\"}},\"id\":\"6c7d07aa-3f40-4a07-a33c-f0a25ebdc169\",\"type\":\"LinearAxis\"},{\"attributes\":{\"callback\":null},\"id\":\"c2392a8c-ce74-40a0-a9af-5b71224e4d30\",\"type\":\"DataRange1d\"},{\"attributes\":{\"data_source\":{\"id\":\"6c23b486-eac6-4c1e-92ba-c9a401deb4a0\",\"type\":\"ColumnDataSource\"},\"glyph\":{\"id\":\"7623be0a-4792-4187-a095-fd42aa767512\",\"type\":\"Circle\"},\"hover_glyph\":null,\"muted_glyph\":null,\"nonselection_glyph\":{\"id\":\"e38578a4-834f-4b2a-af7f-c62adc0e756a\",\"type\":\"Circle\"},\"selection_glyph\":null},\"id\":\"a23b7062-e3d7-4966-a5c9-478f780f6fd9\",\"type\":\"GlyphRenderer\"},{\"attributes\":{\"plot\":null,\"text\":\"\"},\"id\":\"271a535a-cad4-475b-adc8-e48569c29afd\",\"type\":\"Title\"},{\"attributes\":{\"active_drag\":\"auto\",\"active_scroll\":\"auto\",\"active_tap\":\"auto\",\"tools\":[{\"id\":\"ee3ff09a-87f0-45c9-8f09-306cf264be01\",\"type\":\"PanTool\"},{\"id\":\"f6735e66-59bf-4d27-aa24-3a8c37eda0c5\",\"type\":\"BoxZoomTool\"},{\"id\":\"20f598a9-c341-4bc4-a798-4d86ca7bf3b2\",\"type\":\"WheelZoomTool\"},{\"id\":\"67cd8871-eaec-4c26-851f-06ee89dd1a65\",\"type\":\"ResetTool\"},{\"id\":\"a5003872-7aef-49c7-b6dd-068f8893c087\",\"type\":\"ResizeTool\"},{\"id\":\"4839fe19-eed1-4e93-9041-dfadd3417506\",\"type\":\"HoverTool\"}]},\"id\":\"5ae8e164-d409-4bac-856f-3076d5d8efcd\",\"type\":\"Toolbar\"},{\"attributes\":{\"plot\":{\"id\":\"5f629513-c1df-465b-8ec8-38c66f057dc6\",\"subtype\":\"Figure\",\"type\":\"Plot\"},\"ticker\":{\"id\":\"1e93688f-7cdf-4025-838b-1ecf20851c07\",\"type\":\"BasicTicker\"}},\"id\":\"0089f31b-b5a7-43df-bab3-e879f2187a44\",\"type\":\"Grid\"},{\"attributes\":{},\"id\":\"a0300342-d63f-4c2b-be20-e8078c456975\",\"type\":\"BasicTickFormatter\"},{\"attributes\":{\"dimension\":1,\"plot\":{\"id\":\"5f629513-c1df-465b-8ec8-38c66f057dc6\",\"subtype\":\"Figure\",\"type\":\"Plot\"},\"ticker\":{\"id\":\"5fe6be4d-eb07-4c57-b1d8-0424ab8db7fa\",\"type\":\"BasicTicker\"}},\"id\":\"cf2bcd84-4465-4e3b-9ba0-ba58893bc987\",\"type\":\"Grid\"},{\"attributes\":{},\"id\":\"1e93688f-7cdf-4025-838b-1ecf20851c07\",\"type\":\"BasicTicker\"},{\"attributes\":{\"plot\":{\"id\":\"5f629513-c1df-465b-8ec8-38c66f057dc6\",\"subtype\":\"Figure\",\"type\":\"Plot\"}},\"id\":\"a5003872-7aef-49c7-b6dd-068f8893c087\",\"type\":\"ResizeTool\"},{\"attributes\":{\"formatter\":{\"id\":\"4eab32b1-2620-4f05-90fd-6e28f5688d9f\",\"type\":\"BasicTickFormatter\"},\"plot\":{\"id\":\"5f629513-c1df-465b-8ec8-38c66f057dc6\",\"subtype\":\"Figure\",\"type\":\"Plot\"},\"ticker\":{\"id\":\"5fe6be4d-eb07-4c57-b1d8-0424ab8db7fa\",\"type\":\"BasicTicker\"}},\"id\":\"e016ceb2-f95f-4e2a-9d2a-a4906e938328\",\"type\":\"LinearAxis\"},{\"attributes\":{},\"id\":\"5fe6be4d-eb07-4c57-b1d8-0424ab8db7fa\",\"type\":\"BasicTicker\"}],\"root_ids\":[\"5f629513-c1df-465b-8ec8-38c66f057dc6\"]},\"title\":\"Bokeh Application\",\"version\":\"0.12.5\"}};\n",
       "            var render_items = [{\"docid\":\"229f28cc-f9e6-45b7-9da6-2bb1c598b4bb\",\"elementid\":\"cabb9911-c079-4c0f-8717-50b4e88cd5b3\",\"modelid\":\"5f629513-c1df-465b-8ec8-38c66f057dc6\"}];\n",
       "            \n",
       "            Bokeh.embed.embed_items(docs_json, render_items);\n",
       "          };\n",
       "          if (document.readyState != \"loading\") fn();\n",
       "          else document.addEventListener(\"DOMContentLoaded\", fn);\n",
       "        })();\n",
       "      },\n",
       "      function(Bokeh) {\n",
       "      }\n",
       "    ];\n",
       "  \n",
       "    function run_inline_js() {\n",
       "      \n",
       "      if ((window.Bokeh !== undefined) || (force === true)) {\n",
       "        for (var i = 0; i < inline_js.length; i++) {\n",
       "          inline_js[i](window.Bokeh);\n",
       "        }if (force === true) {\n",
       "          display_loaded();\n",
       "        }} else if (Date.now() < window._bokeh_timeout) {\n",
       "        setTimeout(run_inline_js, 100);\n",
       "      } else if (!window._bokeh_failed_load) {\n",
       "        console.log(\"Bokeh: BokehJS failed to load within specified timeout.\");\n",
       "        window._bokeh_failed_load = true;\n",
       "      } else if (force !== true) {\n",
       "        var cell = $(document.getElementById(\"cabb9911-c079-4c0f-8717-50b4e88cd5b3\")).parents('.cell').data().cell;\n",
       "        cell.output_area.append_execute_result(NB_LOAD_WARNING)\n",
       "      }\n",
       "  \n",
       "    }\n",
       "  \n",
       "    if (window._bokeh_is_loading === 0) {\n",
       "      console.log(\"Bokeh: BokehJS loaded, going straight to plotting\");\n",
       "      run_inline_js();\n",
       "    } else {\n",
       "      load_libs(js_urls, function() {\n",
       "        console.log(\"Bokeh: BokehJS plotting callback run at\", now());\n",
       "        run_inline_js();\n",
       "      });\n",
       "    }\n",
       "  }(this));\n",
       "</script>"
      ]
     },
     "metadata": {},
     "output_type": "display_data"
    }
   ],
   "source": [
    "tsne_text.plot()"
   ]
  },
  {
   "cell_type": "code",
   "execution_count": null,
   "metadata": {
    "collapsed": true
   },
   "outputs": [],
   "source": []
  }
 ],
 "metadata": {
  "kernelspec": {
   "display_name": "dl_py3",
   "language": "python",
   "name": "dl_py3"
  },
  "language_info": {
   "codemirror_mode": {
    "name": "ipython",
    "version": 3
   },
   "file_extension": ".py",
   "mimetype": "text/x-python",
   "name": "python",
   "nbconvert_exporter": "python",
   "pygments_lexer": "ipython3",
   "version": "3.5.2"
  }
 },
 "nbformat": 4,
 "nbformat_minor": 2
}
