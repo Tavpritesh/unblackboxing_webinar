{
 "cells": [
  {
   "cell_type": "markdown",
   "metadata": {},
   "source": [
    "# Word Embeddings"
   ]
  },
  {
   "cell_type": "code",
   "execution_count": 9,
   "metadata": {
    "collapsed": true
   },
   "outputs": [],
   "source": [
    "import pandas as pd\n",
    "import numpy as np\n",
    "\n",
    "from glove import Glove\n",
    "from sklearn.metrics.pairwise import cosine_similarity"
   ]
  },
  {
   "cell_type": "code",
   "execution_count": 2,
   "metadata": {
    "collapsed": true
   },
   "outputs": [],
   "source": [
    "embedding_model = Glove.load_stanford('/mnt/ml-team/homes/jakub.czakon/\\\n",
    ".unblackboxing_webinar_data/models/glove.twitter.27B.25d.txt')"
   ]
  },
  {
   "cell_type": "code",
   "execution_count": 3,
   "metadata": {},
   "outputs": [
    {
     "data": {
      "text/plain": [
       "(1193514, 25)"
      ]
     },
     "execution_count": 3,
     "metadata": {},
     "output_type": "execute_result"
    }
   ],
   "source": [
    "embedding_model.word_vectors.shape"
   ]
  },
  {
   "cell_type": "code",
   "execution_count": 4,
   "metadata": {},
   "outputs": [
    {
     "data": {
      "text/plain": [
       "1881"
      ]
     },
     "execution_count": 4,
     "metadata": {},
     "output_type": "execute_result"
    }
   ],
   "source": [
    "embedding_model.dictionary['apple']"
   ]
  },
  {
   "cell_type": "code",
   "execution_count": 5,
   "metadata": {},
   "outputs": [
    {
     "data": {
      "text/plain": [
       "3341"
      ]
     },
     "execution_count": 5,
     "metadata": {},
     "output_type": "execute_result"
    }
   ],
   "source": [
    "embedding_model.dictionary['tree']"
   ]
  },
  {
   "cell_type": "code",
   "execution_count": 6,
   "metadata": {},
   "outputs": [
    {
     "data": {
      "text/plain": [
       "array([ 0.85337  ,  0.011645 , -0.033377 , -0.31981  ,  0.26126  ,\n",
       "        0.16059  ,  0.010724 , -0.15542  ,  0.75044  ,  0.10688  ,\n",
       "        1.9249   , -0.45915  , -3.3887   , -1.2152   , -0.054263 ,\n",
       "       -0.20555  ,  0.54706  ,  0.4371   ,  0.25194  ,  0.0086557,\n",
       "       -0.56612  , -1.1762   ,  0.010479 , -0.55316  , -0.15816  ])"
      ]
     },
     "execution_count": 6,
     "metadata": {},
     "output_type": "execute_result"
    }
   ],
   "source": [
    "embedding_model.word_vectors[1881]"
   ]
  },
  {
   "cell_type": "code",
   "execution_count": 7,
   "metadata": {},
   "outputs": [
    {
     "data": {
      "text/plain": [
       "0.57486610678477557"
      ]
     },
     "execution_count": 7,
     "metadata": {},
     "output_type": "execute_result"
    }
   ],
   "source": [
    "def similarity(glove_instance, word1, word2):\n",
    "        ids = [glove_instance.dictionary[w] for w in [word1, word2]]\n",
    "        vec1, vec2 = [glove_instance.word_vectors[i].reshape(1,-1) for i in ids]\n",
    "        return cosine_similarity(vec1, vec2)[0][0]\n",
    "\n",
    "similarity(embedding_model, 'apple', 'tree')"
   ]
  },
  {
   "cell_type": "code",
   "execution_count": 10,
   "metadata": {},
   "outputs": [],
   "source": [
    "with open('twitter_sentiment/frequency_list.txt','r+') as f:\n",
    "    most_frequent = f.read().lower().split('\\n')\n",
    "interesting = ['apple','tree', 'human', 'child']\n",
    "word_corpus = list(set(list(np.random.choice(most_frequent, 100)) + interesting))"
   ]
  },
  {
   "cell_type": "code",
   "execution_count": 11,
   "metadata": {},
   "outputs": [
    {
     "name": "stderr",
     "output_type": "stream",
     "text": [
      "Using TensorFlow backend.\n"
     ]
    },
    {
     "name": "stdout",
     "output_type": "stream",
     "text": [
      "[t-SNE] Computing pairwise distances...\n",
      "[t-SNE] Computing 91 nearest neighbors...\n",
      "[t-SNE] Computed conditional probabilities for sample 96 / 96\n",
      "[t-SNE] Mean sigma: 1.686813\n",
      "[t-SNE] KL divergence after 100 iterations with early exaggeration: 1.554231\n",
      "[t-SNE] Error after 325 iterations: 1.554231\n"
     ]
    }
   ],
   "source": [
    "%load_ext autoreload\n",
    "% autoreload 2\n",
    "from unboxer.bokeh_tsne.tsne_vis import TsneText\n",
    "\n",
    "tsne_text = TsneText(embedding_model, verbose=1)\n",
    "tsne_text.fit(word_corpus, highlight_words = interesting)"
   ]
  },
  {
   "cell_type": "code",
   "execution_count": 12,
   "metadata": {},
   "outputs": [
    {
     "data": {
      "text/html": [
       "\n",
       "    <div class=\"bk-root\">\n",
       "        <a href=\"http://bokeh.pydata.org\" target=\"_blank\" class=\"bk-logo bk-logo-small bk-logo-notebook\"></a>\n",
       "        <span id=\"591e241d-4828-45b6-acff-dde11a1ff1e0\">Loading BokehJS ...</span>\n",
       "    </div>"
      ]
     },
     "metadata": {},
     "output_type": "display_data"
    },
    {
     "data": {
      "application/javascript": [
       "\n",
       "(function(global) {\n",
       "  function now() {\n",
       "    return new Date();\n",
       "  }\n",
       "\n",
       "  var force = true;\n",
       "\n",
       "  if (typeof (window._bokeh_onload_callbacks) === \"undefined\" || force === true) {\n",
       "    window._bokeh_onload_callbacks = [];\n",
       "    window._bokeh_is_loading = undefined;\n",
       "  }\n",
       "\n",
       "\n",
       "  \n",
       "  if (typeof (window._bokeh_timeout) === \"undefined\" || force === true) {\n",
       "    window._bokeh_timeout = Date.now() + 5000;\n",
       "    window._bokeh_failed_load = false;\n",
       "  }\n",
       "\n",
       "  var NB_LOAD_WARNING = {'data': {'text/html':\n",
       "     \"<div style='background-color: #fdd'>\\n\"+\n",
       "     \"<p>\\n\"+\n",
       "     \"BokehJS does not appear to have successfully loaded. If loading BokehJS from CDN, this \\n\"+\n",
       "     \"may be due to a slow or bad network connection. Possible fixes:\\n\"+\n",
       "     \"</p>\\n\"+\n",
       "     \"<ul>\\n\"+\n",
       "     \"<li>re-rerun `output_notebook()` to attempt to load from CDN again, or</li>\\n\"+\n",
       "     \"<li>use INLINE resources instead, as so:</li>\\n\"+\n",
       "     \"</ul>\\n\"+\n",
       "     \"<code>\\n\"+\n",
       "     \"from bokeh.resources import INLINE\\n\"+\n",
       "     \"output_notebook(resources=INLINE)\\n\"+\n",
       "     \"</code>\\n\"+\n",
       "     \"</div>\"}};\n",
       "\n",
       "  function display_loaded() {\n",
       "    if (window.Bokeh !== undefined) {\n",
       "      var el = document.getElementById(\"591e241d-4828-45b6-acff-dde11a1ff1e0\");\n",
       "      el.textContent = \"BokehJS \" + Bokeh.version + \" successfully loaded.\";\n",
       "    } else if (Date.now() < window._bokeh_timeout) {\n",
       "      setTimeout(display_loaded, 100)\n",
       "    }\n",
       "  }\n",
       "\n",
       "  function run_callbacks() {\n",
       "    window._bokeh_onload_callbacks.forEach(function(callback) { callback() });\n",
       "    delete window._bokeh_onload_callbacks\n",
       "    console.info(\"Bokeh: all callbacks have finished\");\n",
       "  }\n",
       "\n",
       "  function load_libs(js_urls, callback) {\n",
       "    window._bokeh_onload_callbacks.push(callback);\n",
       "    if (window._bokeh_is_loading > 0) {\n",
       "      console.log(\"Bokeh: BokehJS is being loaded, scheduling callback at\", now());\n",
       "      return null;\n",
       "    }\n",
       "    if (js_urls == null || js_urls.length === 0) {\n",
       "      run_callbacks();\n",
       "      return null;\n",
       "    }\n",
       "    console.log(\"Bokeh: BokehJS not loaded, scheduling load and callback at\", now());\n",
       "    window._bokeh_is_loading = js_urls.length;\n",
       "    for (var i = 0; i < js_urls.length; i++) {\n",
       "      var url = js_urls[i];\n",
       "      var s = document.createElement('script');\n",
       "      s.src = url;\n",
       "      s.async = false;\n",
       "      s.onreadystatechange = s.onload = function() {\n",
       "        window._bokeh_is_loading--;\n",
       "        if (window._bokeh_is_loading === 0) {\n",
       "          console.log(\"Bokeh: all BokehJS libraries loaded\");\n",
       "          run_callbacks()\n",
       "        }\n",
       "      };\n",
       "      s.onerror = function() {\n",
       "        console.warn(\"failed to load library \" + url);\n",
       "      };\n",
       "      console.log(\"Bokeh: injecting script tag for BokehJS library: \", url);\n",
       "      document.getElementsByTagName(\"head\")[0].appendChild(s);\n",
       "    }\n",
       "  };var element = document.getElementById(\"591e241d-4828-45b6-acff-dde11a1ff1e0\");\n",
       "  if (element == null) {\n",
       "    console.log(\"Bokeh: ERROR: autoload.js configured with elementid '591e241d-4828-45b6-acff-dde11a1ff1e0' but no matching script tag was found. \")\n",
       "    return false;\n",
       "  }\n",
       "\n",
       "  var js_urls = [\"https://cdn.pydata.org/bokeh/release/bokeh-0.12.5.min.js\", \"https://cdn.pydata.org/bokeh/release/bokeh-widgets-0.12.5.min.js\"];\n",
       "\n",
       "  var inline_js = [\n",
       "    function(Bokeh) {\n",
       "      Bokeh.set_log_level(\"info\");\n",
       "    },\n",
       "    \n",
       "    function(Bokeh) {\n",
       "      \n",
       "    },\n",
       "    \n",
       "    function(Bokeh) {\n",
       "      \n",
       "      document.getElementById(\"591e241d-4828-45b6-acff-dde11a1ff1e0\").textContent = \"BokehJS is loading...\";\n",
       "    },\n",
       "    function(Bokeh) {\n",
       "      console.log(\"Bokeh: injecting CSS: https://cdn.pydata.org/bokeh/release/bokeh-0.12.5.min.css\");\n",
       "      Bokeh.embed.inject_css(\"https://cdn.pydata.org/bokeh/release/bokeh-0.12.5.min.css\");\n",
       "      console.log(\"Bokeh: injecting CSS: https://cdn.pydata.org/bokeh/release/bokeh-widgets-0.12.5.min.css\");\n",
       "      Bokeh.embed.inject_css(\"https://cdn.pydata.org/bokeh/release/bokeh-widgets-0.12.5.min.css\");\n",
       "    }\n",
       "  ];\n",
       "\n",
       "  function run_inline_js() {\n",
       "    \n",
       "    if ((window.Bokeh !== undefined) || (force === true)) {\n",
       "      for (var i = 0; i < inline_js.length; i++) {\n",
       "        inline_js[i](window.Bokeh);\n",
       "      }if (force === true) {\n",
       "        display_loaded();\n",
       "      }} else if (Date.now() < window._bokeh_timeout) {\n",
       "      setTimeout(run_inline_js, 100);\n",
       "    } else if (!window._bokeh_failed_load) {\n",
       "      console.log(\"Bokeh: BokehJS failed to load within specified timeout.\");\n",
       "      window._bokeh_failed_load = true;\n",
       "    } else if (force !== true) {\n",
       "      var cell = $(document.getElementById(\"591e241d-4828-45b6-acff-dde11a1ff1e0\")).parents('.cell').data().cell;\n",
       "      cell.output_area.append_execute_result(NB_LOAD_WARNING)\n",
       "    }\n",
       "\n",
       "  }\n",
       "\n",
       "  if (window._bokeh_is_loading === 0) {\n",
       "    console.log(\"Bokeh: BokehJS loaded, going straight to plotting\");\n",
       "    run_inline_js();\n",
       "  } else {\n",
       "    load_libs(js_urls, function() {\n",
       "      console.log(\"Bokeh: BokehJS plotting callback run at\", now());\n",
       "      run_inline_js();\n",
       "    });\n",
       "  }\n",
       "}(this));"
      ]
     },
     "metadata": {},
     "output_type": "display_data"
    },
    {
     "data": {
      "text/html": [
       "\n",
       "\n",
       "    <div class=\"bk-root\">\n",
       "        <div class=\"bk-plotdiv\" id=\"aafaad7f-5976-4f35-9407-14f9cedde434\"></div>\n",
       "    </div>\n",
       "<script type=\"text/javascript\">\n",
       "  \n",
       "  (function(global) {\n",
       "    function now() {\n",
       "      return new Date();\n",
       "    }\n",
       "  \n",
       "    var force = false;\n",
       "  \n",
       "    if (typeof (window._bokeh_onload_callbacks) === \"undefined\" || force === true) {\n",
       "      window._bokeh_onload_callbacks = [];\n",
       "      window._bokeh_is_loading = undefined;\n",
       "    }\n",
       "  \n",
       "  \n",
       "    \n",
       "    if (typeof (window._bokeh_timeout) === \"undefined\" || force === true) {\n",
       "      window._bokeh_timeout = Date.now() + 0;\n",
       "      window._bokeh_failed_load = false;\n",
       "    }\n",
       "  \n",
       "    var NB_LOAD_WARNING = {'data': {'text/html':\n",
       "       \"<div style='background-color: #fdd'>\\n\"+\n",
       "       \"<p>\\n\"+\n",
       "       \"BokehJS does not appear to have successfully loaded. If loading BokehJS from CDN, this \\n\"+\n",
       "       \"may be due to a slow or bad network connection. Possible fixes:\\n\"+\n",
       "       \"</p>\\n\"+\n",
       "       \"<ul>\\n\"+\n",
       "       \"<li>re-rerun `output_notebook()` to attempt to load from CDN again, or</li>\\n\"+\n",
       "       \"<li>use INLINE resources instead, as so:</li>\\n\"+\n",
       "       \"</ul>\\n\"+\n",
       "       \"<code>\\n\"+\n",
       "       \"from bokeh.resources import INLINE\\n\"+\n",
       "       \"output_notebook(resources=INLINE)\\n\"+\n",
       "       \"</code>\\n\"+\n",
       "       \"</div>\"}};\n",
       "  \n",
       "    function display_loaded() {\n",
       "      if (window.Bokeh !== undefined) {\n",
       "        var el = document.getElementById(\"aafaad7f-5976-4f35-9407-14f9cedde434\");\n",
       "        el.textContent = \"BokehJS \" + Bokeh.version + \" successfully loaded.\";\n",
       "      } else if (Date.now() < window._bokeh_timeout) {\n",
       "        setTimeout(display_loaded, 100)\n",
       "      }\n",
       "    }\n",
       "  \n",
       "    function run_callbacks() {\n",
       "      window._bokeh_onload_callbacks.forEach(function(callback) { callback() });\n",
       "      delete window._bokeh_onload_callbacks\n",
       "      console.info(\"Bokeh: all callbacks have finished\");\n",
       "    }\n",
       "  \n",
       "    function load_libs(js_urls, callback) {\n",
       "      window._bokeh_onload_callbacks.push(callback);\n",
       "      if (window._bokeh_is_loading > 0) {\n",
       "        console.log(\"Bokeh: BokehJS is being loaded, scheduling callback at\", now());\n",
       "        return null;\n",
       "      }\n",
       "      if (js_urls == null || js_urls.length === 0) {\n",
       "        run_callbacks();\n",
       "        return null;\n",
       "      }\n",
       "      console.log(\"Bokeh: BokehJS not loaded, scheduling load and callback at\", now());\n",
       "      window._bokeh_is_loading = js_urls.length;\n",
       "      for (var i = 0; i < js_urls.length; i++) {\n",
       "        var url = js_urls[i];\n",
       "        var s = document.createElement('script');\n",
       "        s.src = url;\n",
       "        s.async = false;\n",
       "        s.onreadystatechange = s.onload = function() {\n",
       "          window._bokeh_is_loading--;\n",
       "          if (window._bokeh_is_loading === 0) {\n",
       "            console.log(\"Bokeh: all BokehJS libraries loaded\");\n",
       "            run_callbacks()\n",
       "          }\n",
       "        };\n",
       "        s.onerror = function() {\n",
       "          console.warn(\"failed to load library \" + url);\n",
       "        };\n",
       "        console.log(\"Bokeh: injecting script tag for BokehJS library: \", url);\n",
       "        document.getElementsByTagName(\"head\")[0].appendChild(s);\n",
       "      }\n",
       "    };var element = document.getElementById(\"aafaad7f-5976-4f35-9407-14f9cedde434\");\n",
       "    if (element == null) {\n",
       "      console.log(\"Bokeh: ERROR: autoload.js configured with elementid 'aafaad7f-5976-4f35-9407-14f9cedde434' but no matching script tag was found. \")\n",
       "      return false;\n",
       "    }\n",
       "  \n",
       "    var js_urls = [];\n",
       "  \n",
       "    var inline_js = [\n",
       "      function(Bokeh) {\n",
       "        (function() {\n",
       "          var fn = function() {\n",
       "            var docs_json = {\"76698ee9-e0c5-4bda-9692-5487fe9a5d09\":{\"roots\":{\"references\":[{\"attributes\":{\"plot\":{\"id\":\"a7a7b0d5-8681-4922-aab3-f9332d8c989e\",\"subtype\":\"Figure\",\"type\":\"Plot\"}},\"id\":\"89e39a46-806d-45a4-81a1-ff431ef794e0\",\"type\":\"PanTool\"},{\"attributes\":{\"formatter\":{\"id\":\"7c09436b-5437-4aaa-9ee3-b3c1af64dbda\",\"type\":\"BasicTickFormatter\"},\"plot\":{\"id\":\"a7a7b0d5-8681-4922-aab3-f9332d8c989e\",\"subtype\":\"Figure\",\"type\":\"Plot\"},\"ticker\":{\"id\":\"87516264-5d4a-4c14-823f-be542a5dcd00\",\"type\":\"BasicTicker\"}},\"id\":\"d252840d-f3d7-4a69-a6d8-745a8fbd3681\",\"type\":\"LinearAxis\"},{\"attributes\":{\"callback\":null,\"plot\":{\"id\":\"a7a7b0d5-8681-4922-aab3-f9332d8c989e\",\"subtype\":\"Figure\",\"type\":\"Plot\"},\"tooltips\":\"\\n        <div>\\n            <div>\\n                <p>\\n                    @text\\n                </p>\\n            </div>            \\n        </div>\\n        \"},\"id\":\"bf2de648-491c-4c60-8583-33b8ec6f49a6\",\"type\":\"HoverTool\"},{\"attributes\":{\"plot\":{\"id\":\"a7a7b0d5-8681-4922-aab3-f9332d8c989e\",\"subtype\":\"Figure\",\"type\":\"Plot\"}},\"id\":\"2a8a9d51-a43f-486e-8f0c-59e814f4c567\",\"type\":\"ResizeTool\"},{\"attributes\":{\"overlay\":{\"id\":\"79dbd4d5-a102-4a76-b37d-18a86c8cabcb\",\"type\":\"BoxAnnotation\"},\"plot\":{\"id\":\"a7a7b0d5-8681-4922-aab3-f9332d8c989e\",\"subtype\":\"Figure\",\"type\":\"Plot\"}},\"id\":\"81e483e7-8bd8-47c1-afd4-2cd97985ff1b\",\"type\":\"BoxZoomTool\"},{\"attributes\":{\"plot\":{\"id\":\"a7a7b0d5-8681-4922-aab3-f9332d8c989e\",\"subtype\":\"Figure\",\"type\":\"Plot\"},\"ticker\":{\"id\":\"87516264-5d4a-4c14-823f-be542a5dcd00\",\"type\":\"BasicTicker\"}},\"id\":\"01d962b9-c5a1-496b-b7ba-864b7e786b7b\",\"type\":\"Grid\"},{\"attributes\":{\"dimension\":1,\"plot\":{\"id\":\"a7a7b0d5-8681-4922-aab3-f9332d8c989e\",\"subtype\":\"Figure\",\"type\":\"Plot\"},\"ticker\":{\"id\":\"9905bb5d-966f-4901-acd1-dbdda773a94e\",\"type\":\"BasicTicker\"}},\"id\":\"12daced2-c809-481e-9f30-027f6ddf9ab4\",\"type\":\"Grid\"},{\"attributes\":{\"bottom_units\":\"screen\",\"fill_alpha\":{\"value\":0.5},\"fill_color\":{\"value\":\"lightgrey\"},\"left_units\":\"screen\",\"level\":\"overlay\",\"line_alpha\":{\"value\":1.0},\"line_color\":{\"value\":\"black\"},\"line_dash\":[4,4],\"line_width\":{\"value\":2},\"plot\":null,\"render_mode\":\"css\",\"right_units\":\"screen\",\"top_units\":\"screen\"},\"id\":\"79dbd4d5-a102-4a76-b37d-18a86c8cabcb\",\"type\":\"BoxAnnotation\"},{\"attributes\":{\"plot\":null,\"text\":\"\"},\"id\":\"1be9665c-2416-4ce4-a536-fcb43c785923\",\"type\":\"Title\"},{\"attributes\":{\"plot\":{\"id\":\"a7a7b0d5-8681-4922-aab3-f9332d8c989e\",\"subtype\":\"Figure\",\"type\":\"Plot\"}},\"id\":\"f80eaa73-6fcf-472e-9657-809a1d949741\",\"type\":\"ResetTool\"},{\"attributes\":{\"fill_color\":{\"field\":\"label_color\"},\"line_color\":{\"value\":\"#1f77b4\"},\"size\":{\"units\":\"screen\",\"value\":10},\"x\":{\"field\":\"x\"},\"y\":{\"field\":\"y\"}},\"id\":\"01589c57-12ff-46ef-8909-629c058c3428\",\"type\":\"Circle\"},{\"attributes\":{\"below\":[{\"id\":\"d252840d-f3d7-4a69-a6d8-745a8fbd3681\",\"type\":\"LinearAxis\"}],\"left\":[{\"id\":\"3da10bbd-fdf5-47a5-ad24-2090dbc3edee\",\"type\":\"LinearAxis\"}],\"plot_height\":300,\"plot_width\":300,\"renderers\":[{\"id\":\"d252840d-f3d7-4a69-a6d8-745a8fbd3681\",\"type\":\"LinearAxis\"},{\"id\":\"01d962b9-c5a1-496b-b7ba-864b7e786b7b\",\"type\":\"Grid\"},{\"id\":\"3da10bbd-fdf5-47a5-ad24-2090dbc3edee\",\"type\":\"LinearAxis\"},{\"id\":\"12daced2-c809-481e-9f30-027f6ddf9ab4\",\"type\":\"Grid\"},{\"id\":\"79dbd4d5-a102-4a76-b37d-18a86c8cabcb\",\"type\":\"BoxAnnotation\"},{\"id\":\"a49d0c61-839e-48b4-8f02-a9b43e2627f3\",\"type\":\"GlyphRenderer\"}],\"title\":{\"id\":\"1be9665c-2416-4ce4-a536-fcb43c785923\",\"type\":\"Title\"},\"tool_events\":{\"id\":\"e6042bad-0b94-4a52-8035-a812962f0ca1\",\"type\":\"ToolEvents\"},\"toolbar\":{\"id\":\"eb2f2c37-7fbd-40ad-b0dc-809400493443\",\"type\":\"Toolbar\"},\"x_range\":{\"id\":\"75196ac5-1be0-4273-98a1-aa6c5a7b7aef\",\"type\":\"DataRange1d\"},\"y_range\":{\"id\":\"ad38d04a-71cc-472a-bb34-c6c3fb113d25\",\"type\":\"DataRange1d\"}},\"id\":\"a7a7b0d5-8681-4922-aab3-f9332d8c989e\",\"subtype\":\"Figure\",\"type\":\"Plot\"},{\"attributes\":{\"plot\":{\"id\":\"a7a7b0d5-8681-4922-aab3-f9332d8c989e\",\"subtype\":\"Figure\",\"type\":\"Plot\"}},\"id\":\"321bb71b-07d2-4c4e-8019-6be6b5ee6657\",\"type\":\"WheelZoomTool\"},{\"attributes\":{\"data_source\":{\"id\":\"fefd6e91-0464-4006-bf8b-05c8b91136ed\",\"type\":\"ColumnDataSource\"},\"glyph\":{\"id\":\"01589c57-12ff-46ef-8909-629c058c3428\",\"type\":\"Circle\"},\"hover_glyph\":null,\"muted_glyph\":null,\"nonselection_glyph\":{\"id\":\"c9819cec-cf49-41b8-9269-fb65f56425e7\",\"type\":\"Circle\"},\"selection_glyph\":null},\"id\":\"a49d0c61-839e-48b4-8f02-a9b43e2627f3\",\"type\":\"GlyphRenderer\"},{\"attributes\":{\"active_drag\":\"auto\",\"active_scroll\":\"auto\",\"active_tap\":\"auto\",\"tools\":[{\"id\":\"89e39a46-806d-45a4-81a1-ff431ef794e0\",\"type\":\"PanTool\"},{\"id\":\"81e483e7-8bd8-47c1-afd4-2cd97985ff1b\",\"type\":\"BoxZoomTool\"},{\"id\":\"321bb71b-07d2-4c4e-8019-6be6b5ee6657\",\"type\":\"WheelZoomTool\"},{\"id\":\"f80eaa73-6fcf-472e-9657-809a1d949741\",\"type\":\"ResetTool\"},{\"id\":\"2a8a9d51-a43f-486e-8f0c-59e814f4c567\",\"type\":\"ResizeTool\"},{\"id\":\"bf2de648-491c-4c60-8583-33b8ec6f49a6\",\"type\":\"HoverTool\"}]},\"id\":\"eb2f2c37-7fbd-40ad-b0dc-809400493443\",\"type\":\"Toolbar\"},{\"attributes\":{},\"id\":\"9905bb5d-966f-4901-acd1-dbdda773a94e\",\"type\":\"BasicTicker\"},{\"attributes\":{},\"id\":\"e6042bad-0b94-4a52-8035-a812962f0ca1\",\"type\":\"ToolEvents\"},{\"attributes\":{},\"id\":\"87516264-5d4a-4c14-823f-be542a5dcd00\",\"type\":\"BasicTicker\"},{\"attributes\":{},\"id\":\"f2c24cfb-5acf-40d4-beb8-fda0cf44686d\",\"type\":\"BasicTickFormatter\"},{\"attributes\":{\"callback\":null},\"id\":\"75196ac5-1be0-4273-98a1-aa6c5a7b7aef\",\"type\":\"DataRange1d\"},{\"attributes\":{\"formatter\":{\"id\":\"f2c24cfb-5acf-40d4-beb8-fda0cf44686d\",\"type\":\"BasicTickFormatter\"},\"plot\":{\"id\":\"a7a7b0d5-8681-4922-aab3-f9332d8c989e\",\"subtype\":\"Figure\",\"type\":\"Plot\"},\"ticker\":{\"id\":\"9905bb5d-966f-4901-acd1-dbdda773a94e\",\"type\":\"BasicTicker\"}},\"id\":\"3da10bbd-fdf5-47a5-ad24-2090dbc3edee\",\"type\":\"LinearAxis\"},{\"attributes\":{\"fill_alpha\":{\"value\":0.1},\"fill_color\":{\"value\":\"#1f77b4\"},\"line_alpha\":{\"value\":0.1},\"line_color\":{\"value\":\"#1f77b4\"},\"size\":{\"units\":\"screen\",\"value\":10},\"x\":{\"field\":\"x\"},\"y\":{\"field\":\"y\"}},\"id\":\"c9819cec-cf49-41b8-9269-fb65f56425e7\",\"type\":\"Circle\"},{\"attributes\":{\"callback\":null},\"id\":\"ad38d04a-71cc-472a-bb34-c6c3fb113d25\",\"type\":\"DataRange1d\"},{\"attributes\":{},\"id\":\"7c09436b-5437-4aaa-9ee3-b3c1af64dbda\",\"type\":\"BasicTickFormatter\"},{\"attributes\":{\"callback\":null,\"column_names\":[\"index\",\"x\",\"text\",\"label_color\",\"y\",\"label\"],\"data\":{\"index\":[79,28,54,19,16,27,66,81,29,42,33,1,5,23,85,49,80,75,48,2,56,88,39,94,59,25,24,13,7,58,71,61,87,93,55,45,72,83,73,26,91,51,37,46,41,11,10,14,60,90,70,31,57,30,50,36,95,52,43,62,8,76,89,21,22,84,4,32,0,20,82,67,17,15,3,78,18,40,74,92,86,69,34,44,6,47,65,35,53,9,68,38,12,64,63,77],\"label\":[0,0,0,0,0,0,1,0,0,0,0,0,1,0,0,0,0,0,0,0,0,0,0,0,0,0,0,0,0,0,0,0,0,0,0,0,0,0,0,0,1,0,0,0,0,0,0,0,0,0,0,0,0,0,0,0,0,0,0,0,0,0,0,0,0,0,0,0,0,0,0,0,0,0,0,0,0,0,0,0,0,0,0,0,0,0,0,0,0,0,0,0,1,0,0,0],\"label_color\":[\"#66c2a5\",\"#66c2a5\",\"#66c2a5\",\"#66c2a5\",\"#66c2a5\",\"#66c2a5\",\"#fc8d62\",\"#66c2a5\",\"#66c2a5\",\"#66c2a5\",\"#66c2a5\",\"#66c2a5\",\"#fc8d62\",\"#66c2a5\",\"#66c2a5\",\"#66c2a5\",\"#66c2a5\",\"#66c2a5\",\"#66c2a5\",\"#66c2a5\",\"#66c2a5\",\"#66c2a5\",\"#66c2a5\",\"#66c2a5\",\"#66c2a5\",\"#66c2a5\",\"#66c2a5\",\"#66c2a5\",\"#66c2a5\",\"#66c2a5\",\"#66c2a5\",\"#66c2a5\",\"#66c2a5\",\"#66c2a5\",\"#66c2a5\",\"#66c2a5\",\"#66c2a5\",\"#66c2a5\",\"#66c2a5\",\"#66c2a5\",\"#fc8d62\",\"#66c2a5\",\"#66c2a5\",\"#66c2a5\",\"#66c2a5\",\"#66c2a5\",\"#66c2a5\",\"#66c2a5\",\"#66c2a5\",\"#66c2a5\",\"#66c2a5\",\"#66c2a5\",\"#66c2a5\",\"#66c2a5\",\"#66c2a5\",\"#66c2a5\",\"#66c2a5\",\"#66c2a5\",\"#66c2a5\",\"#66c2a5\",\"#66c2a5\",\"#66c2a5\",\"#66c2a5\",\"#66c2a5\",\"#66c2a5\",\"#66c2a5\",\"#66c2a5\",\"#66c2a5\",\"#66c2a5\",\"#66c2a5\",\"#66c2a5\",\"#66c2a5\",\"#66c2a5\",\"#66c2a5\",\"#66c2a5\",\"#66c2a5\",\"#66c2a5\",\"#66c2a5\",\"#66c2a5\",\"#66c2a5\",\"#66c2a5\",\"#66c2a5\",\"#66c2a5\",\"#66c2a5\",\"#66c2a5\",\"#66c2a5\",\"#66c2a5\",\"#66c2a5\",\"#66c2a5\",\"#66c2a5\",\"#66c2a5\",\"#66c2a5\",\"#fc8d62\",\"#66c2a5\",\"#66c2a5\",\"#66c2a5\"],\"text\":[\"about\",\"account\",\"against\",\"agency\",\"ahead\",\"another\",\"apple\",\"approach\",\"bank\",\"but\",\"chair\",\"check\",\"child\",\"city\",\"class\",\"court\",\"cup\",\"decade\",\"democrat\",\"design\",\"different\",\"direction\",\"dog\",\"down\",\"eat\",\"economic\",\"evening\",\"experience\",\"face\",\"fall\",\"foreign\",\"future\",\"get\",\"girl\",\"give\",\"ground\",\"guess\",\"hear\",\"her\",\"high\",\"human\",\"increase\",\"itself\",\"just\",\"language\",\"learn\",\"leg\",\"little\",\"main\",\"meeting\",\"moment\",\"network\",\"new\",\"newspaper\",\"night\",\"nothing\",\"one\",\"onto\",\"owner\",\"particularly\",\"past\",\"phone\",\"play\",\"pm\",\"product\",\"project\",\"race\",\"range\",\"receive\",\"recently\",\"relate\",\"rock\",\"scene\",\"school\",\"section\",\"security\",\"send\",\"seven\",\"similar\",\"situation\",\"someone\",\"son\",\"standard\",\"state\",\"style\",\"suffer\",\"summer\",\"teacher\",\"that\",\"total\",\"trade\",\"treatment\",\"tree\",\"type\",\"well\",\"writer\"],\"x\":{\"__ndarray__\":\"2rfhZYvzQMBOhbZ3lnA6QI1beW902FdAz+H1jhuTSMByV7Fk+OUgwCjSQGRLMzvAAyCzVPxsPkBXnL+1WIdAwLPEphvO2iZAh9fd6SucSMCY8Mqi6BM6QLcDv3bkgknAwruKcn89RkDXWkp9C9ZJQLm2Uw2VxkNAiNV+4eADOUBmpiln/SZQQHcMhjUx8lXACbPijHCmNUD14Jnl/iRRQCLKn1EQJi5AZhjbcEz6T0CVVnyZhwE+QJ3WruC3DVTA+FjScpeRRMD6keKToVM5wD47FD7Ygz5AQZzkNhp3M8CtfXJx3DpAwJXYj4fKw1DAMhl8+g/QQUCY+AEGkO07wG+kt85WHUzA8iCVbFaMMcCFBWBfj7pOwNojXvhNezpAYU/2atExI8BThGUjJ7kzwCwVNhcTd1rA7LxHjrdvTsCNYTyVv90vwFqzAezXO0xAKpOm/z7cRsA8SmJP0MpCwNeMN/Yk/B1A+RPGbrK8RMCyFfiIZuHlv+rl5DSVHjDAMtCkPYijVUAMoCyYj04wQCEeenZyWUfAl0Yz40ZDUcDAFbyd1NIbQAcAmQJ+KVVAG/Lzp6XqGkB4/GPTEJROwO8pA5ePvEHAXoQ7WUgrOsA2ipcGoadXwBLiosYPhVfAMB70ZPlrD8Aa/Wmzd8ZJwKs3MeUMc1pAKsO11zL9R0CBwixfjikZQMSDDm7VWitA3p4L0gjuQ0A0UplwUG9UwJtOFaNKZFDAFH1xsO8lUsDSGaz/pRMwwJSe6VlRAUlAQkjtLxy6GsDWPiKkwxo1wPP0Ff6wQUBAk8AhcnouKECVPCAs+hlUwKXwEhW3Da8/x77DVrekGsASUT7WHMlFwH63T6C5lFJAtDroS9AyVUA6cm5426FEQE0LfxQlhFZAJ2cXQUNFSkBTB0y0rC5DwKUGfMZjrCZAvwOIlGcFVUC4XTAqCGxOwCNRyVwov0NAt5YMrQD6SkCOyOEe8R9PQLcx8/OsREhAWGRRzB8DUUA6I+n0h6NHwMHP7Bge9lZA\",\"dtype\":\"float64\",\"shape\":[96]},\"y\":{\"__ndarray__\":\"8gn4+VsKRMDzgHLnk5pbwDznbJkkYWFAVIxstgWnbECaLgOIcYZTQEupTdenZFNA5AwrPG/oWEAF1RlruOtAQCHfi2eoIVhAuoW1wfvTQcDZQtsUWjwxQG5tAz91kGJAMSo6DefxVMAK426j2IFDQG5QgVvIpWPAs4YxrkbX/L9xgTDLt3TyvyGhB3k5TU5Ayik16kb2UUDHBtTj5wpAQH3sD0CPJlLA5cXpcr6XTcAUbJmTdABGwMEp5YKfmDjAN+QddJ52V8Dpj1wwX/9eQF5m0IMMlE/ABEI3aws2Q0AAJYK9NbU0wEziRNTIkzPAdcbRbmK6cUBvnMddMYJIQNTbdueYU1PAYdP5P1PXUcBZZK0bt01PwJmVSaql9EBA1pPVVLm1SMAKJJYDis9XwOpvwrUAVWBA1YqatNxPREB1atidn1lNQP/pIBHN2VZAKxJCk4dxOECycUZjRHxNwFguQzrHWz9A2izdsESuIEALQcURQ0EuwHAJweKOC0DAXTKRu4WmT8BYRUXr3LE2wPSg65gILVJALUB01d0ZZsDIFUSHl6NYwNv8N02AKybAPXjGSkMbRcDfPQf30X8wQLvMPa03OlLApllcEazR8b9VOqaYq2VQwEd7vKvZbCFAYaCfePcFL0A/r2EXZhUowK3zM2nKmva/Na3o1Bl8SkCfkja9G4JPQNQYM70KCEhAlBxaEaqv9z+y/pVh2ERBQLUdPcndYVBAlfEkVeEmEEA6S6S+Sx42QNrQjFVm2EjA80vj81C57b/QsXjOoXRLwEdqGAuvSi/ABnIYorQqH0A0KMdUHLxHwNQhJsWaEVTAz/oo6LLTRkCkRjWSRytHQBMPsnK6CWXABkJSdGGVTECJlCS1vnM3QGsZnuCHzFjAPYWzvbYUQsCmyQqQTSRewOqfMfnV0krAcF+YZpA4JkAoznDUMkFGwMCDOIJntFFARsi6HVAIJ0Ah2jYUexJTQD2zJ3i5czPAu6/3dtDhPsAIVvEUaV5JwP9kBjfTAz1A\",\"dtype\":\"float64\",\"shape\":[96]}}},\"id\":\"fefd6e91-0464-4006-bf8b-05c8b91136ed\",\"type\":\"ColumnDataSource\"}],\"root_ids\":[\"a7a7b0d5-8681-4922-aab3-f9332d8c989e\"]},\"title\":\"Bokeh Application\",\"version\":\"0.12.5\"}};\n",
       "            var render_items = [{\"docid\":\"76698ee9-e0c5-4bda-9692-5487fe9a5d09\",\"elementid\":\"aafaad7f-5976-4f35-9407-14f9cedde434\",\"modelid\":\"a7a7b0d5-8681-4922-aab3-f9332d8c989e\"}];\n",
       "            \n",
       "            Bokeh.embed.embed_items(docs_json, render_items);\n",
       "          };\n",
       "          if (document.readyState != \"loading\") fn();\n",
       "          else document.addEventListener(\"DOMContentLoaded\", fn);\n",
       "        })();\n",
       "      },\n",
       "      function(Bokeh) {\n",
       "      }\n",
       "    ];\n",
       "  \n",
       "    function run_inline_js() {\n",
       "      \n",
       "      if ((window.Bokeh !== undefined) || (force === true)) {\n",
       "        for (var i = 0; i < inline_js.length; i++) {\n",
       "          inline_js[i](window.Bokeh);\n",
       "        }if (force === true) {\n",
       "          display_loaded();\n",
       "        }} else if (Date.now() < window._bokeh_timeout) {\n",
       "        setTimeout(run_inline_js, 100);\n",
       "      } else if (!window._bokeh_failed_load) {\n",
       "        console.log(\"Bokeh: BokehJS failed to load within specified timeout.\");\n",
       "        window._bokeh_failed_load = true;\n",
       "      } else if (force !== true) {\n",
       "        var cell = $(document.getElementById(\"aafaad7f-5976-4f35-9407-14f9cedde434\")).parents('.cell').data().cell;\n",
       "        cell.output_area.append_execute_result(NB_LOAD_WARNING)\n",
       "      }\n",
       "  \n",
       "    }\n",
       "  \n",
       "    if (window._bokeh_is_loading === 0) {\n",
       "      console.log(\"Bokeh: BokehJS loaded, going straight to plotting\");\n",
       "      run_inline_js();\n",
       "    } else {\n",
       "      load_libs(js_urls, function() {\n",
       "        console.log(\"Bokeh: BokehJS plotting callback run at\", now());\n",
       "        run_inline_js();\n",
       "      });\n",
       "    }\n",
       "  }(this));\n",
       "</script>"
      ]
     },
     "metadata": {},
     "output_type": "display_data"
    }
   ],
   "source": [
    "tsne_text.plot()"
   ]
  },
  {
   "cell_type": "code",
   "execution_count": null,
   "metadata": {
    "collapsed": true
   },
   "outputs": [],
   "source": []
  }
 ],
 "metadata": {
  "kernelspec": {
   "display_name": "dl_py3",
   "language": "python",
   "name": "dl_py3"
  },
  "language_info": {
   "codemirror_mode": {
    "name": "ipython",
    "version": 3
   },
   "file_extension": ".py",
   "mimetype": "text/x-python",
   "name": "python",
   "nbconvert_exporter": "python",
   "pygments_lexer": "ipython3",
   "version": "3.5.2"
  }
 },
 "nbformat": 4,
 "nbformat_minor": 2
}
