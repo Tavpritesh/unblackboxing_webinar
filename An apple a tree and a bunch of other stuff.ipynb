{
 "cells": [
  {
   "cell_type": "markdown",
   "metadata": {},
   "source": [
    "# Word Embeddings"
   ]
  },
  {
   "cell_type": "code",
   "execution_count": 1,
   "metadata": {
    "collapsed": true
   },
   "outputs": [],
   "source": [
    "import pandas as pd\n",
    "import numpy as np\n",
    "\n",
    "from glove import Glove\n",
    "from sklearn.metrics.pairwise import cosine_similarity"
   ]
  },
  {
   "cell_type": "code",
   "execution_count": 8,
   "metadata": {
    "collapsed": true
   },
   "outputs": [],
   "source": [
    "embedding_model = Glove.load_stanford('/mnt/ml-team/homes/jakub.czakon/\\\n",
    ".unblackboxing_webinar_data/models/glove.twitter.27B.50d.txt')"
   ]
  },
  {
   "cell_type": "code",
   "execution_count": 9,
   "metadata": {},
   "outputs": [
    {
     "data": {
      "text/plain": [
       "(1193514, 50)"
      ]
     },
     "execution_count": 9,
     "metadata": {},
     "output_type": "execute_result"
    }
   ],
   "source": [
    "embedding_model.word_vectors.shape"
   ]
  },
  {
   "cell_type": "code",
   "execution_count": 10,
   "metadata": {},
   "outputs": [
    {
     "data": {
      "text/plain": [
       "1881"
      ]
     },
     "execution_count": 10,
     "metadata": {},
     "output_type": "execute_result"
    }
   ],
   "source": [
    "embedding_model.dictionary['apple']"
   ]
  },
  {
   "cell_type": "code",
   "execution_count": 11,
   "metadata": {},
   "outputs": [
    {
     "data": {
      "text/plain": [
       "3341"
      ]
     },
     "execution_count": 11,
     "metadata": {},
     "output_type": "execute_result"
    }
   ],
   "source": [
    "embedding_model.dictionary['tree']"
   ]
  },
  {
   "cell_type": "code",
   "execution_count": 12,
   "metadata": {},
   "outputs": [
    {
     "data": {
      "text/plain": [
       "array([  5.85600000e-01,  -3.69640000e-01,   6.34800000e-02,\n",
       "         8.16750000e-01,   1.80250000e-01,   1.57370000e-01,\n",
       "         4.56830000e-01,   7.10000000e-01,   2.59260000e-02,\n",
       "         1.65250000e+00,   5.22630000e-01,  -7.22200000e-04,\n",
       "        -2.54560000e+00,   1.11840000e-01,  -1.91340000e-01,\n",
       "        -1.11230000e-01,  -2.12640000e-01,   2.00260000e-01,\n",
       "         2.31950000e-01,  -6.98620000e-01,   1.30720000e-01,\n",
       "         2.89150000e-01,  -8.01590000e-01,  -1.79840000e-01,\n",
       "         1.03380000e+00,  -1.11680000e+00,  -2.15190000e-01,\n",
       "        -7.47140000e-02,   7.92850000e-01,  -1.23780000e-01,\n",
       "        -5.74510000e-01,   4.91380000e-01,  -1.30870000e+00,\n",
       "         6.36270000e-01,   3.26560000e-01,   5.14370000e-01,\n",
       "        -2.98680000e-01,  -4.11720000e-02,  -3.52770000e-02,\n",
       "        -7.79260000e-01,  -2.21040000e+00,  -2.89090000e-01,\n",
       "        -8.62570000e-02,   2.36370000e-01,   2.78310000e-01,\n",
       "         2.09150000e-02,  -2.14610000e-01,   5.66560000e-01,\n",
       "        -3.64040000e-01,  -2.52020000e-01])"
      ]
     },
     "execution_count": 12,
     "metadata": {},
     "output_type": "execute_result"
    }
   ],
   "source": [
    "embedding_model.word_vectors[12]"
   ]
  },
  {
   "cell_type": "code",
   "execution_count": 13,
   "metadata": {},
   "outputs": [
    {
     "data": {
      "text/plain": [
       "0.64002566245727655"
      ]
     },
     "execution_count": 13,
     "metadata": {},
     "output_type": "execute_result"
    }
   ],
   "source": [
    "def similarity(glove_instance, word1, word2):\n",
    "        ids = [glove_instance.dictionary[w] for w in [word1, word2]]\n",
    "        vec1, vec2 = [glove_instance.word_vectors[i].reshape(1,-1) for i in ids]\n",
    "        return cosine_similarity(vec1, vec2)[0][0]\n",
    "\n",
    "similarity(embedding_model, 'orange', 'fire')"
   ]
  },
  {
   "cell_type": "code",
   "execution_count": 14,
   "metadata": {},
   "outputs": [
    {
     "data": {
      "text/plain": [
       "[('battle', 0.75805667486763095),\n",
       " ('wars', 0.74856592737144523),\n",
       " ('hunger', 0.74185530217795237),\n",
       " ('death', 0.74021377220782814),\n",
       " ('also', 0.73600199881899764),\n",
       " ('land', 0.72875225468552862),\n",
       " ('of', 0.72164431730084133),\n",
       " ('revolution', 0.71980641113138932),\n",
       " ('an', 0.71426458082296751),\n",
       " ('laden', 0.70881477615975541),\n",
       " ('killing', 0.70314928262776055),\n",
       " ('man', 0.70253268138253688),\n",
       " ('the', 0.69718906040429651),\n",
       " ('halt', 0.69696662375956842),\n",
       " ('will', 0.69588754113263984),\n",
       " ('’s', 0.69125647572506488),\n",
       " ('fallen', 0.68941965526320736),\n",
       " ('attack', 0.68937456389049157),\n",
       " ('chaos', 0.68697709467212231)]"
      ]
     },
     "execution_count": 14,
     "metadata": {},
     "output_type": "execute_result"
    }
   ],
   "source": [
    "embedding_model.most_similar('war', 20)"
   ]
  },
  {
   "cell_type": "code",
   "execution_count": 15,
   "metadata": {
    "collapsed": true
   },
   "outputs": [],
   "source": [
    "with open('twitter_sentiment/frequency_list.txt','r+') as f:\n",
    "    most_frequent = f.read().lower().split('\\n')\n",
    "interesting = ['apple','tree', 'human', 'child']\n",
    "word_corpus = list(set(list(np.random.choice(most_frequent, 100)) + interesting))"
   ]
  },
  {
   "cell_type": "code",
   "execution_count": 16,
   "metadata": {},
   "outputs": [
    {
     "name": "stderr",
     "output_type": "stream",
     "text": [
      "Using TensorFlow backend.\n"
     ]
    },
    {
     "name": "stdout",
     "output_type": "stream",
     "text": [
      "[t-SNE] Computing 91 nearest neighbors...\n",
      "[t-SNE] Indexed 99 samples in 0.000s...\n",
      "[t-SNE] Computed neighbors for 99 samples in 0.002s...\n",
      "[t-SNE] Computed conditional probabilities for sample 99 / 99\n",
      "[t-SNE] Mean sigma: 1.861648\n",
      "[t-SNE] KL divergence after 250 iterations with early exaggeration: 62.861263\n",
      "[t-SNE] Error after 1000 iterations: 0.489530\n"
     ]
    }
   ],
   "source": [
    "%load_ext autoreload\n",
    "% autoreload 2\n",
    "from unboxer.bokeh_tsne.tsne_vis import TsneText\n",
    "\n",
    "tsne_text = TsneText(embedding_model, verbose=1)\n",
    "tsne_text.fit(word_corpus, highlight_words = interesting)"
   ]
  },
  {
   "cell_type": "code",
   "execution_count": 17,
   "metadata": {},
   "outputs": [
    {
     "data": {
      "text/html": [
       "\n",
       "    <div class=\"bk-root\">\n",
       "        <a href=\"http://bokeh.pydata.org\" target=\"_blank\" class=\"bk-logo bk-logo-small bk-logo-notebook\"></a>\n",
       "        <span id=\"abf97315-02b4-4534-83bb-009a32234a8b\">Loading BokehJS ...</span>\n",
       "    </div>"
      ]
     },
     "metadata": {},
     "output_type": "display_data"
    },
    {
     "data": {
      "application/javascript": [
       "\n",
       "(function(global) {\n",
       "  function now() {\n",
       "    return new Date();\n",
       "  }\n",
       "\n",
       "  var force = true;\n",
       "\n",
       "  if (typeof (window._bokeh_onload_callbacks) === \"undefined\" || force === true) {\n",
       "    window._bokeh_onload_callbacks = [];\n",
       "    window._bokeh_is_loading = undefined;\n",
       "  }\n",
       "\n",
       "\n",
       "  \n",
       "  if (typeof (window._bokeh_timeout) === \"undefined\" || force === true) {\n",
       "    window._bokeh_timeout = Date.now() + 5000;\n",
       "    window._bokeh_failed_load = false;\n",
       "  }\n",
       "\n",
       "  var NB_LOAD_WARNING = {'data': {'text/html':\n",
       "     \"<div style='background-color: #fdd'>\\n\"+\n",
       "     \"<p>\\n\"+\n",
       "     \"BokehJS does not appear to have successfully loaded. If loading BokehJS from CDN, this \\n\"+\n",
       "     \"may be due to a slow or bad network connection. Possible fixes:\\n\"+\n",
       "     \"</p>\\n\"+\n",
       "     \"<ul>\\n\"+\n",
       "     \"<li>re-rerun `output_notebook()` to attempt to load from CDN again, or</li>\\n\"+\n",
       "     \"<li>use INLINE resources instead, as so:</li>\\n\"+\n",
       "     \"</ul>\\n\"+\n",
       "     \"<code>\\n\"+\n",
       "     \"from bokeh.resources import INLINE\\n\"+\n",
       "     \"output_notebook(resources=INLINE)\\n\"+\n",
       "     \"</code>\\n\"+\n",
       "     \"</div>\"}};\n",
       "\n",
       "  function display_loaded() {\n",
       "    if (window.Bokeh !== undefined) {\n",
       "      var el = document.getElementById(\"abf97315-02b4-4534-83bb-009a32234a8b\");\n",
       "      el.textContent = \"BokehJS \" + Bokeh.version + \" successfully loaded.\";\n",
       "    } else if (Date.now() < window._bokeh_timeout) {\n",
       "      setTimeout(display_loaded, 100)\n",
       "    }\n",
       "  }\n",
       "\n",
       "  function run_callbacks() {\n",
       "    window._bokeh_onload_callbacks.forEach(function(callback) { callback() });\n",
       "    delete window._bokeh_onload_callbacks\n",
       "    console.info(\"Bokeh: all callbacks have finished\");\n",
       "  }\n",
       "\n",
       "  function load_libs(js_urls, callback) {\n",
       "    window._bokeh_onload_callbacks.push(callback);\n",
       "    if (window._bokeh_is_loading > 0) {\n",
       "      console.log(\"Bokeh: BokehJS is being loaded, scheduling callback at\", now());\n",
       "      return null;\n",
       "    }\n",
       "    if (js_urls == null || js_urls.length === 0) {\n",
       "      run_callbacks();\n",
       "      return null;\n",
       "    }\n",
       "    console.log(\"Bokeh: BokehJS not loaded, scheduling load and callback at\", now());\n",
       "    window._bokeh_is_loading = js_urls.length;\n",
       "    for (var i = 0; i < js_urls.length; i++) {\n",
       "      var url = js_urls[i];\n",
       "      var s = document.createElement('script');\n",
       "      s.src = url;\n",
       "      s.async = false;\n",
       "      s.onreadystatechange = s.onload = function() {\n",
       "        window._bokeh_is_loading--;\n",
       "        if (window._bokeh_is_loading === 0) {\n",
       "          console.log(\"Bokeh: all BokehJS libraries loaded\");\n",
       "          run_callbacks()\n",
       "        }\n",
       "      };\n",
       "      s.onerror = function() {\n",
       "        console.warn(\"failed to load library \" + url);\n",
       "      };\n",
       "      console.log(\"Bokeh: injecting script tag for BokehJS library: \", url);\n",
       "      document.getElementsByTagName(\"head\")[0].appendChild(s);\n",
       "    }\n",
       "  };var element = document.getElementById(\"abf97315-02b4-4534-83bb-009a32234a8b\");\n",
       "  if (element == null) {\n",
       "    console.log(\"Bokeh: ERROR: autoload.js configured with elementid 'abf97315-02b4-4534-83bb-009a32234a8b' but no matching script tag was found. \")\n",
       "    return false;\n",
       "  }\n",
       "\n",
       "  var js_urls = [\"https://cdn.pydata.org/bokeh/release/bokeh-0.12.5.min.js\", \"https://cdn.pydata.org/bokeh/release/bokeh-widgets-0.12.5.min.js\"];\n",
       "\n",
       "  var inline_js = [\n",
       "    function(Bokeh) {\n",
       "      Bokeh.set_log_level(\"info\");\n",
       "    },\n",
       "    \n",
       "    function(Bokeh) {\n",
       "      \n",
       "    },\n",
       "    \n",
       "    function(Bokeh) {\n",
       "      \n",
       "      document.getElementById(\"abf97315-02b4-4534-83bb-009a32234a8b\").textContent = \"BokehJS is loading...\";\n",
       "    },\n",
       "    function(Bokeh) {\n",
       "      console.log(\"Bokeh: injecting CSS: https://cdn.pydata.org/bokeh/release/bokeh-0.12.5.min.css\");\n",
       "      Bokeh.embed.inject_css(\"https://cdn.pydata.org/bokeh/release/bokeh-0.12.5.min.css\");\n",
       "      console.log(\"Bokeh: injecting CSS: https://cdn.pydata.org/bokeh/release/bokeh-widgets-0.12.5.min.css\");\n",
       "      Bokeh.embed.inject_css(\"https://cdn.pydata.org/bokeh/release/bokeh-widgets-0.12.5.min.css\");\n",
       "    }\n",
       "  ];\n",
       "\n",
       "  function run_inline_js() {\n",
       "    \n",
       "    if ((window.Bokeh !== undefined) || (force === true)) {\n",
       "      for (var i = 0; i < inline_js.length; i++) {\n",
       "        inline_js[i](window.Bokeh);\n",
       "      }if (force === true) {\n",
       "        display_loaded();\n",
       "      }} else if (Date.now() < window._bokeh_timeout) {\n",
       "      setTimeout(run_inline_js, 100);\n",
       "    } else if (!window._bokeh_failed_load) {\n",
       "      console.log(\"Bokeh: BokehJS failed to load within specified timeout.\");\n",
       "      window._bokeh_failed_load = true;\n",
       "    } else if (force !== true) {\n",
       "      var cell = $(document.getElementById(\"abf97315-02b4-4534-83bb-009a32234a8b\")).parents('.cell').data().cell;\n",
       "      cell.output_area.append_execute_result(NB_LOAD_WARNING)\n",
       "    }\n",
       "\n",
       "  }\n",
       "\n",
       "  if (window._bokeh_is_loading === 0) {\n",
       "    console.log(\"Bokeh: BokehJS loaded, going straight to plotting\");\n",
       "    run_inline_js();\n",
       "  } else {\n",
       "    load_libs(js_urls, function() {\n",
       "      console.log(\"Bokeh: BokehJS plotting callback run at\", now());\n",
       "      run_inline_js();\n",
       "    });\n",
       "  }\n",
       "}(this));"
      ]
     },
     "metadata": {},
     "output_type": "display_data"
    },
    {
     "data": {
      "text/html": [
       "\n",
       "\n",
       "    <div class=\"bk-root\">\n",
       "        <div class=\"bk-plotdiv\" id=\"d2698a4e-6a63-4074-99ed-761148ffab87\"></div>\n",
       "    </div>\n",
       "<script type=\"text/javascript\">\n",
       "  \n",
       "  (function(global) {\n",
       "    function now() {\n",
       "      return new Date();\n",
       "    }\n",
       "  \n",
       "    var force = false;\n",
       "  \n",
       "    if (typeof (window._bokeh_onload_callbacks) === \"undefined\" || force === true) {\n",
       "      window._bokeh_onload_callbacks = [];\n",
       "      window._bokeh_is_loading = undefined;\n",
       "    }\n",
       "  \n",
       "  \n",
       "    \n",
       "    if (typeof (window._bokeh_timeout) === \"undefined\" || force === true) {\n",
       "      window._bokeh_timeout = Date.now() + 0;\n",
       "      window._bokeh_failed_load = false;\n",
       "    }\n",
       "  \n",
       "    var NB_LOAD_WARNING = {'data': {'text/html':\n",
       "       \"<div style='background-color: #fdd'>\\n\"+\n",
       "       \"<p>\\n\"+\n",
       "       \"BokehJS does not appear to have successfully loaded. If loading BokehJS from CDN, this \\n\"+\n",
       "       \"may be due to a slow or bad network connection. Possible fixes:\\n\"+\n",
       "       \"</p>\\n\"+\n",
       "       \"<ul>\\n\"+\n",
       "       \"<li>re-rerun `output_notebook()` to attempt to load from CDN again, or</li>\\n\"+\n",
       "       \"<li>use INLINE resources instead, as so:</li>\\n\"+\n",
       "       \"</ul>\\n\"+\n",
       "       \"<code>\\n\"+\n",
       "       \"from bokeh.resources import INLINE\\n\"+\n",
       "       \"output_notebook(resources=INLINE)\\n\"+\n",
       "       \"</code>\\n\"+\n",
       "       \"</div>\"}};\n",
       "  \n",
       "    function display_loaded() {\n",
       "      if (window.Bokeh !== undefined) {\n",
       "        var el = document.getElementById(\"d2698a4e-6a63-4074-99ed-761148ffab87\");\n",
       "        el.textContent = \"BokehJS \" + Bokeh.version + \" successfully loaded.\";\n",
       "      } else if (Date.now() < window._bokeh_timeout) {\n",
       "        setTimeout(display_loaded, 100)\n",
       "      }\n",
       "    }\n",
       "  \n",
       "    function run_callbacks() {\n",
       "      window._bokeh_onload_callbacks.forEach(function(callback) { callback() });\n",
       "      delete window._bokeh_onload_callbacks\n",
       "      console.info(\"Bokeh: all callbacks have finished\");\n",
       "    }\n",
       "  \n",
       "    function load_libs(js_urls, callback) {\n",
       "      window._bokeh_onload_callbacks.push(callback);\n",
       "      if (window._bokeh_is_loading > 0) {\n",
       "        console.log(\"Bokeh: BokehJS is being loaded, scheduling callback at\", now());\n",
       "        return null;\n",
       "      }\n",
       "      if (js_urls == null || js_urls.length === 0) {\n",
       "        run_callbacks();\n",
       "        return null;\n",
       "      }\n",
       "      console.log(\"Bokeh: BokehJS not loaded, scheduling load and callback at\", now());\n",
       "      window._bokeh_is_loading = js_urls.length;\n",
       "      for (var i = 0; i < js_urls.length; i++) {\n",
       "        var url = js_urls[i];\n",
       "        var s = document.createElement('script');\n",
       "        s.src = url;\n",
       "        s.async = false;\n",
       "        s.onreadystatechange = s.onload = function() {\n",
       "          window._bokeh_is_loading--;\n",
       "          if (window._bokeh_is_loading === 0) {\n",
       "            console.log(\"Bokeh: all BokehJS libraries loaded\");\n",
       "            run_callbacks()\n",
       "          }\n",
       "        };\n",
       "        s.onerror = function() {\n",
       "          console.warn(\"failed to load library \" + url);\n",
       "        };\n",
       "        console.log(\"Bokeh: injecting script tag for BokehJS library: \", url);\n",
       "        document.getElementsByTagName(\"head\")[0].appendChild(s);\n",
       "      }\n",
       "    };var element = document.getElementById(\"d2698a4e-6a63-4074-99ed-761148ffab87\");\n",
       "    if (element == null) {\n",
       "      console.log(\"Bokeh: ERROR: autoload.js configured with elementid 'd2698a4e-6a63-4074-99ed-761148ffab87' but no matching script tag was found. \")\n",
       "      return false;\n",
       "    }\n",
       "  \n",
       "    var js_urls = [];\n",
       "  \n",
       "    var inline_js = [\n",
       "      function(Bokeh) {\n",
       "        (function() {\n",
       "          var fn = function() {\n",
       "            var docs_json = {\"d32b78bd-c357-4f3a-a235-a49ae4776802\":{\"roots\":{\"references\":[{\"attributes\":{\"formatter\":{\"id\":\"b21b3391-9843-4fe9-94c7-f42a2527bcd1\",\"type\":\"BasicTickFormatter\"},\"plot\":{\"id\":\"98603447-15d3-49b6-827a-d7db9a356acc\",\"subtype\":\"Figure\",\"type\":\"Plot\"},\"ticker\":{\"id\":\"df68a9bf-ae0c-4228-8c86-109e82f023a9\",\"type\":\"BasicTicker\"}},\"id\":\"a802e27a-a661-4b2a-893f-8e6263952956\",\"type\":\"LinearAxis\"},{\"attributes\":{\"callback\":null,\"plot\":{\"id\":\"98603447-15d3-49b6-827a-d7db9a356acc\",\"subtype\":\"Figure\",\"type\":\"Plot\"},\"tooltips\":\"\\n        <div>\\n            <div>\\n                <p>\\n                    @text\\n                </p>\\n            </div>            \\n        </div>\\n        \"},\"id\":\"8df830c3-c5a2-4617-9daf-ce3faa796594\",\"type\":\"HoverTool\"},{\"attributes\":{\"plot\":{\"id\":\"98603447-15d3-49b6-827a-d7db9a356acc\",\"subtype\":\"Figure\",\"type\":\"Plot\"}},\"id\":\"e150666f-2bd7-4018-a4b5-8a0303d35bd3\",\"type\":\"WheelZoomTool\"},{\"attributes\":{\"plot\":null,\"text\":\"\"},\"id\":\"1948fc8b-9900-444e-b3d6-0f934037eed3\",\"type\":\"Title\"},{\"attributes\":{\"fill_color\":{\"field\":\"label_color\"},\"line_color\":{\"value\":\"#1f77b4\"},\"size\":{\"units\":\"screen\",\"value\":10},\"x\":{\"field\":\"x\"},\"y\":{\"field\":\"y\"}},\"id\":\"4d534a7d-4157-4d90-8421-bac0b3228183\",\"type\":\"Circle\"},{\"attributes\":{\"below\":[{\"id\":\"e4353498-ef22-49d9-a479-399c5c82e22c\",\"type\":\"LinearAxis\"}],\"left\":[{\"id\":\"a802e27a-a661-4b2a-893f-8e6263952956\",\"type\":\"LinearAxis\"}],\"plot_height\":300,\"plot_width\":300,\"renderers\":[{\"id\":\"e4353498-ef22-49d9-a479-399c5c82e22c\",\"type\":\"LinearAxis\"},{\"id\":\"912da874-783d-45e9-9a62-39195116fe35\",\"type\":\"Grid\"},{\"id\":\"a802e27a-a661-4b2a-893f-8e6263952956\",\"type\":\"LinearAxis\"},{\"id\":\"5aca51f7-eb2b-475c-8b8e-f7720da2b5e7\",\"type\":\"Grid\"},{\"id\":\"e7f814dd-94dd-4d47-be64-679d52708d39\",\"type\":\"BoxAnnotation\"},{\"id\":\"464cea6f-b32a-4bf6-b177-585abbefa857\",\"type\":\"GlyphRenderer\"}],\"title\":{\"id\":\"1948fc8b-9900-444e-b3d6-0f934037eed3\",\"type\":\"Title\"},\"tool_events\":{\"id\":\"3aeb62a3-38e2-40c7-b5f9-58357f1d632c\",\"type\":\"ToolEvents\"},\"toolbar\":{\"id\":\"10ef96ac-094c-4cd2-bd27-d2d02229b8ea\",\"type\":\"Toolbar\"},\"x_range\":{\"id\":\"d9709f7b-b33f-4a50-84e1-e1cc9ab997ba\",\"type\":\"DataRange1d\"},\"y_range\":{\"id\":\"97ac872b-928a-4b77-8bb7-91ef62ff087d\",\"type\":\"DataRange1d\"}},\"id\":\"98603447-15d3-49b6-827a-d7db9a356acc\",\"subtype\":\"Figure\",\"type\":\"Plot\"},{\"attributes\":{\"data_source\":{\"id\":\"ba47ba5e-ea3c-4cf5-b29c-14285533b68c\",\"type\":\"ColumnDataSource\"},\"glyph\":{\"id\":\"4d534a7d-4157-4d90-8421-bac0b3228183\",\"type\":\"Circle\"},\"hover_glyph\":null,\"muted_glyph\":null,\"nonselection_glyph\":{\"id\":\"f282c8b3-e1a8-4fcc-9414-04fd0636eb33\",\"type\":\"Circle\"},\"selection_glyph\":null},\"id\":\"464cea6f-b32a-4bf6-b177-585abbefa857\",\"type\":\"GlyphRenderer\"},{\"attributes\":{},\"id\":\"df68a9bf-ae0c-4228-8c86-109e82f023a9\",\"type\":\"BasicTicker\"},{\"attributes\":{},\"id\":\"3aeb62a3-38e2-40c7-b5f9-58357f1d632c\",\"type\":\"ToolEvents\"},{\"attributes\":{\"plot\":{\"id\":\"98603447-15d3-49b6-827a-d7db9a356acc\",\"subtype\":\"Figure\",\"type\":\"Plot\"}},\"id\":\"ead9da7a-562f-4656-a0af-8ae4eb9c4fd2\",\"type\":\"ResetTool\"},{\"attributes\":{},\"id\":\"b21b3391-9843-4fe9-94c7-f42a2527bcd1\",\"type\":\"BasicTickFormatter\"},{\"attributes\":{\"callback\":null},\"id\":\"d9709f7b-b33f-4a50-84e1-e1cc9ab997ba\",\"type\":\"DataRange1d\"},{\"attributes\":{\"overlay\":{\"id\":\"e7f814dd-94dd-4d47-be64-679d52708d39\",\"type\":\"BoxAnnotation\"},\"plot\":{\"id\":\"98603447-15d3-49b6-827a-d7db9a356acc\",\"subtype\":\"Figure\",\"type\":\"Plot\"}},\"id\":\"198160c5-5bab-42ab-8413-f27c71ddf42b\",\"type\":\"BoxZoomTool\"},{\"attributes\":{},\"id\":\"5c38d50d-f517-4dc4-8ae9-fbd426836dcf\",\"type\":\"BasicTickFormatter\"},{\"attributes\":{\"formatter\":{\"id\":\"5c38d50d-f517-4dc4-8ae9-fbd426836dcf\",\"type\":\"BasicTickFormatter\"},\"plot\":{\"id\":\"98603447-15d3-49b6-827a-d7db9a356acc\",\"subtype\":\"Figure\",\"type\":\"Plot\"},\"ticker\":{\"id\":\"99dd7c66-ee23-4c85-84b7-f10905d56f90\",\"type\":\"BasicTicker\"}},\"id\":\"e4353498-ef22-49d9-a479-399c5c82e22c\",\"type\":\"LinearAxis\"},{\"attributes\":{\"plot\":{\"id\":\"98603447-15d3-49b6-827a-d7db9a356acc\",\"subtype\":\"Figure\",\"type\":\"Plot\"},\"ticker\":{\"id\":\"99dd7c66-ee23-4c85-84b7-f10905d56f90\",\"type\":\"BasicTicker\"}},\"id\":\"912da874-783d-45e9-9a62-39195116fe35\",\"type\":\"Grid\"},{\"attributes\":{\"active_drag\":\"auto\",\"active_scroll\":\"auto\",\"active_tap\":\"auto\",\"tools\":[{\"id\":\"6f25adf8-514d-446a-9d46-025c518d79a1\",\"type\":\"PanTool\"},{\"id\":\"198160c5-5bab-42ab-8413-f27c71ddf42b\",\"type\":\"BoxZoomTool\"},{\"id\":\"e150666f-2bd7-4018-a4b5-8a0303d35bd3\",\"type\":\"WheelZoomTool\"},{\"id\":\"ead9da7a-562f-4656-a0af-8ae4eb9c4fd2\",\"type\":\"ResetTool\"},{\"id\":\"3beb6e8e-fe14-4665-8702-f8bd72594eaa\",\"type\":\"ResizeTool\"},{\"id\":\"8df830c3-c5a2-4617-9daf-ce3faa796594\",\"type\":\"HoverTool\"}]},\"id\":\"10ef96ac-094c-4cd2-bd27-d2d02229b8ea\",\"type\":\"Toolbar\"},{\"attributes\":{\"plot\":{\"id\":\"98603447-15d3-49b6-827a-d7db9a356acc\",\"subtype\":\"Figure\",\"type\":\"Plot\"}},\"id\":\"3beb6e8e-fe14-4665-8702-f8bd72594eaa\",\"type\":\"ResizeTool\"},{\"attributes\":{\"plot\":{\"id\":\"98603447-15d3-49b6-827a-d7db9a356acc\",\"subtype\":\"Figure\",\"type\":\"Plot\"}},\"id\":\"6f25adf8-514d-446a-9d46-025c518d79a1\",\"type\":\"PanTool\"},{\"attributes\":{\"callback\":null,\"column_names\":[\"text\",\"y\",\"x\",\"label\",\"label_color\",\"index\"],\"data\":{\"index\":[98,16,45,32,85,9,43,25,48,65,87,1,58,92,80,2,46,53,17,7,66,70,10,24,49,8,93,47,27,19,72,60,28,71,54,90,51,78,44,38,94,22,37,75,59,84,33,11,34,26,14,4,42,79,69,15,20,36,21,41,3,18,82,50,86,6,67,56,0,61,40,5,52,68,88,13,95,35,63,73,77,12,62,96,30,83,81,57,91,74,64,97,29,39,23,89,55,31,76],\"label\":[0,0,0,0,0,0,0,1,0,0,0,0,0,0,0,0,1,0,0,0,0,0,0,0,0,0,0,0,0,0,0,0,0,0,0,0,0,0,0,0,0,1,0,0,0,0,0,0,0,0,0,0,0,0,0,0,0,0,0,0,0,0,0,0,0,0,0,0,0,0,0,0,0,0,0,0,0,0,0,0,0,0,0,0,0,0,0,0,0,0,0,1,0,0,0,0,0,0,0],\"label_color\":[\"#66c2a5\",\"#66c2a5\",\"#66c2a5\",\"#66c2a5\",\"#66c2a5\",\"#66c2a5\",\"#66c2a5\",\"#fc8d62\",\"#66c2a5\",\"#66c2a5\",\"#66c2a5\",\"#66c2a5\",\"#66c2a5\",\"#66c2a5\",\"#66c2a5\",\"#66c2a5\",\"#fc8d62\",\"#66c2a5\",\"#66c2a5\",\"#66c2a5\",\"#66c2a5\",\"#66c2a5\",\"#66c2a5\",\"#66c2a5\",\"#66c2a5\",\"#66c2a5\",\"#66c2a5\",\"#66c2a5\",\"#66c2a5\",\"#66c2a5\",\"#66c2a5\",\"#66c2a5\",\"#66c2a5\",\"#66c2a5\",\"#66c2a5\",\"#66c2a5\",\"#66c2a5\",\"#66c2a5\",\"#66c2a5\",\"#66c2a5\",\"#66c2a5\",\"#fc8d62\",\"#66c2a5\",\"#66c2a5\",\"#66c2a5\",\"#66c2a5\",\"#66c2a5\",\"#66c2a5\",\"#66c2a5\",\"#66c2a5\",\"#66c2a5\",\"#66c2a5\",\"#66c2a5\",\"#66c2a5\",\"#66c2a5\",\"#66c2a5\",\"#66c2a5\",\"#66c2a5\",\"#66c2a5\",\"#66c2a5\",\"#66c2a5\",\"#66c2a5\",\"#66c2a5\",\"#66c2a5\",\"#66c2a5\",\"#66c2a5\",\"#66c2a5\",\"#66c2a5\",\"#66c2a5\",\"#66c2a5\",\"#66c2a5\",\"#66c2a5\",\"#66c2a5\",\"#66c2a5\",\"#66c2a5\",\"#66c2a5\",\"#66c2a5\",\"#66c2a5\",\"#66c2a5\",\"#66c2a5\",\"#66c2a5\",\"#66c2a5\",\"#66c2a5\",\"#66c2a5\",\"#66c2a5\",\"#66c2a5\",\"#66c2a5\",\"#66c2a5\",\"#66c2a5\",\"#66c2a5\",\"#66c2a5\",\"#fc8d62\",\"#66c2a5\",\"#66c2a5\",\"#66c2a5\",\"#66c2a5\",\"#66c2a5\",\"#66c2a5\",\"#66c2a5\"],\"text\":[\"a\",\"act\",\"admit\",\"after\",\"age\",\"allow\",\"and\",\"apple\",\"as\",\"attack\",\"base\",\"best\",\"box\",\"build\",\"cancer\",\"certain\",\"child\",\"collection\",\"commercial\",\"country\",\"crime\",\"decision\",\"director\",\"discover\",\"dream\",\"energy\",\"enter\",\"everybody\",\"evidence\",\"exactly\",\"final\",\"financial\",\"focus\",\"forward\",\"give\",\"goal\",\"green\",\"guy\",\"hard\",\"help\",\"high\",\"human\",\"include\",\"indeed\",\"interview\",\"just\",\"kind\",\"legal\",\"light\",\"listen\",\"look\",\"lose\",\"low\",\"manage\",\"medical\",\"moment\",\"most\",\"much\",\"nice\",\"nor\",\"occur\",\"officer\",\"patient\",\"popular\",\"positive\",\"produce\",\"program\",\"pull\",\"race\",\"relate\",\"resource\",\"respond\",\"scene\",\"security\",\"sex\",\"single\",\"six\",\"size\",\"small\",\"sometimes\",\"strategy\",\"strong\",\"take\",\"team\",\"tell\",\"themselves\",\"there\",\"thousand\",\"through\",\"total\",\"travel\",\"tree\",\"two\",\"usually\",\"voice\",\"wall\",\"who\",\"window\",\"you\"],\"x\":{\"__ndarray__\":\"LeitQJ6KHD+AnQC/sVyuQM6ZD0AEqIC/skSdQOR50UDFRb1A5t4LQJAAhECEH2NAlXrGQNjUC8CamGHALoCkOk6D4T/8YILAvEGnQMJaeUBxKhhAC8f9PWoGGj5FVRXAu1w8QCI1h7+V8lLACO9AQFq+VsB+fsU/GbiNQJyJ17+6ynK/YAicP27VKUDSd/Q/mRvBQOsMYEBepi1AYr0BwJStkUAlZNM/E0YPwPkguz9bHj0/iSaCQDj0JUC/p0hAKbu/QMf3E0DE7XVA6uaWP3EhlUANEcm/WMbFv9ynA0B7HZJA4JVxQLggakBQnT2+UvEswEM3L78Gifu+GWB9QCYPrb4d0XFAUpSGv7+L5T/F/xZAiwGWv2+x8L+MBuC/Daq2P82Ndr/X0Da+dR5SQLRfykBwgQJBwwiUQJNA3T7OqMi/P/zQPreELkBsmAlAR+I5QGXXfb+CwoZAl4vfQLPlqEAV539ADBgcwKFQz0Ak4L1ARni2PlCDIUDHhtxAn42BQG7E50BJ9nhA\",\"dtype\":\"float32\",\"shape\":[99]},\"y\":{\"__ndarray__\":\"USi3wJiurz7P1NI//K2OP88PDMD69EQ+Sl8nQD08kMDVDYq/eUJ8wKHyq8DiYGS+Kl5twMcHGMD4WSS+GOckP8zAF8BxSDvAr/KCwDl/MMCV9oXAOkAWwEgnq8BQRALAotswvzbEN8Ccg/+/oBV3QPwskcBiFqM/xl7XwBxCn8C8p+K/62aPvwshKUDMvujAFws+wNEeiD/gtL0//X3tvZ/N+r99jx/A2RPYvy2wWz/wG4rAnLoJQE3oDj8SD5LALE0qwKiGg0DVE4o/Ca5bQCm2AMACD6G/Hc6xwB5vZb5QCom8MJMaQM6nKj/Bc2c+utSuPyxsu8A0okK/b2GgwJBjo79Qr7zAameJwJJJIEA/7rzAW+0KQG8SjsA/KI0/BYN+wPzkssDWcWlAYXqpvwuCJD4WYMu/L8hqv2Z79z9zG4rABpGAv24jFkCHcczAVzhQQEu4kD9M1/Q/3OnMPmpy6z+0Ir/AuudEwEr/KsAbs30+9vHhPwGMZL9ghEXApE1SQFxIPsC5gTVA\",\"dtype\":\"float32\",\"shape\":[99]}}},\"id\":\"ba47ba5e-ea3c-4cf5-b29c-14285533b68c\",\"type\":\"ColumnDataSource\"},{\"attributes\":{},\"id\":\"99dd7c66-ee23-4c85-84b7-f10905d56f90\",\"type\":\"BasicTicker\"},{\"attributes\":{\"callback\":null},\"id\":\"97ac872b-928a-4b77-8bb7-91ef62ff087d\",\"type\":\"DataRange1d\"},{\"attributes\":{\"dimension\":1,\"plot\":{\"id\":\"98603447-15d3-49b6-827a-d7db9a356acc\",\"subtype\":\"Figure\",\"type\":\"Plot\"},\"ticker\":{\"id\":\"df68a9bf-ae0c-4228-8c86-109e82f023a9\",\"type\":\"BasicTicker\"}},\"id\":\"5aca51f7-eb2b-475c-8b8e-f7720da2b5e7\",\"type\":\"Grid\"},{\"attributes\":{\"fill_alpha\":{\"value\":0.1},\"fill_color\":{\"value\":\"#1f77b4\"},\"line_alpha\":{\"value\":0.1},\"line_color\":{\"value\":\"#1f77b4\"},\"size\":{\"units\":\"screen\",\"value\":10},\"x\":{\"field\":\"x\"},\"y\":{\"field\":\"y\"}},\"id\":\"f282c8b3-e1a8-4fcc-9414-04fd0636eb33\",\"type\":\"Circle\"},{\"attributes\":{\"bottom_units\":\"screen\",\"fill_alpha\":{\"value\":0.5},\"fill_color\":{\"value\":\"lightgrey\"},\"left_units\":\"screen\",\"level\":\"overlay\",\"line_alpha\":{\"value\":1.0},\"line_color\":{\"value\":\"black\"},\"line_dash\":[4,4],\"line_width\":{\"value\":2},\"plot\":null,\"render_mode\":\"css\",\"right_units\":\"screen\",\"top_units\":\"screen\"},\"id\":\"e7f814dd-94dd-4d47-be64-679d52708d39\",\"type\":\"BoxAnnotation\"}],\"root_ids\":[\"98603447-15d3-49b6-827a-d7db9a356acc\"]},\"title\":\"Bokeh Application\",\"version\":\"0.12.5\"}};\n",
       "            var render_items = [{\"docid\":\"d32b78bd-c357-4f3a-a235-a49ae4776802\",\"elementid\":\"d2698a4e-6a63-4074-99ed-761148ffab87\",\"modelid\":\"98603447-15d3-49b6-827a-d7db9a356acc\"}];\n",
       "            \n",
       "            Bokeh.embed.embed_items(docs_json, render_items);\n",
       "          };\n",
       "          if (document.readyState != \"loading\") fn();\n",
       "          else document.addEventListener(\"DOMContentLoaded\", fn);\n",
       "        })();\n",
       "      },\n",
       "      function(Bokeh) {\n",
       "      }\n",
       "    ];\n",
       "  \n",
       "    function run_inline_js() {\n",
       "      \n",
       "      if ((window.Bokeh !== undefined) || (force === true)) {\n",
       "        for (var i = 0; i < inline_js.length; i++) {\n",
       "          inline_js[i](window.Bokeh);\n",
       "        }if (force === true) {\n",
       "          display_loaded();\n",
       "        }} else if (Date.now() < window._bokeh_timeout) {\n",
       "        setTimeout(run_inline_js, 100);\n",
       "      } else if (!window._bokeh_failed_load) {\n",
       "        console.log(\"Bokeh: BokehJS failed to load within specified timeout.\");\n",
       "        window._bokeh_failed_load = true;\n",
       "      } else if (force !== true) {\n",
       "        var cell = $(document.getElementById(\"d2698a4e-6a63-4074-99ed-761148ffab87\")).parents('.cell').data().cell;\n",
       "        cell.output_area.append_execute_result(NB_LOAD_WARNING)\n",
       "      }\n",
       "  \n",
       "    }\n",
       "  \n",
       "    if (window._bokeh_is_loading === 0) {\n",
       "      console.log(\"Bokeh: BokehJS loaded, going straight to plotting\");\n",
       "      run_inline_js();\n",
       "    } else {\n",
       "      load_libs(js_urls, function() {\n",
       "        console.log(\"Bokeh: BokehJS plotting callback run at\", now());\n",
       "        run_inline_js();\n",
       "      });\n",
       "    }\n",
       "  }(this));\n",
       "</script>"
      ]
     },
     "metadata": {},
     "output_type": "display_data"
    }
   ],
   "source": [
    "tsne_text.plot()"
   ]
  },
  {
   "cell_type": "code",
   "execution_count": null,
   "metadata": {
    "collapsed": true
   },
   "outputs": [],
   "source": []
  }
 ],
 "metadata": {
  "kernelspec": {
   "display_name": "dl_py3",
   "language": "python",
   "name": "dl_py3"
  },
  "language_info": {
   "codemirror_mode": {
    "name": "ipython",
    "version": 3
   },
   "file_extension": ".py",
   "mimetype": "text/x-python",
   "name": "python",
   "nbconvert_exporter": "python",
   "pygments_lexer": "ipython3",
   "version": "3.5.2"
  }
 },
 "nbformat": 4,
 "nbformat_minor": 2
}
